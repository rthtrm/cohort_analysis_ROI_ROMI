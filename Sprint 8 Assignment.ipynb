{
 "cells": [
  {
   "cell_type": "markdown",
   "metadata": {},
   "source": [
    "<div style=\"border:solid black 2px; padding: 20px\">\n",
    "\n",
    "# Reviewer's feedback v.1\n",
    "\n",
    "**Halo Ruth**\n",
    "    \n",
    "**Greetings from Chamdani**\n",
    "\n",
    "Terima kasih telah mengirimkan project kamu dengan ini kamu sudah memulai sebuah langkah yang luar biasa saat ini. Disini saya akan mereview proyek kamu ya.\n",
    "\n",
    "Saya akan memberikan beberapa komentar dan feedback seperti dibawah ini, **mohon jangan dipindah, dirubah, maupun dihapus ya :).**\n",
    "    \n",
    "> Mohon diperhatikan bahwa apabila ada temuan atau kesalahan yang sama namun tidak ada komentar perbaikan disana, itu berarti kamu masih tetap harus memperbaikinya yaa.\n",
    "\n",
    "Komentar yang saya berikan akan muncul dalam warna hijau, kuning, atau pun merah seperti ini:\n",
    "\n",
    "</div>\n",
    "\n",
    "<div class=\"alert alert-success\">\n",
    "<b>Chamdani's comment v.*</b> <a class=\"tocSkip\"></a>\n",
    "\n",
    "Bagus, semua berjalan lancar.\n",
    "\n",
    "</div>\n",
    "\n",
    "<div class=\"alert alert-warning\">\n",
    "<b>Chamdani's comment v.*</b> <a class=\"tocSkip\"></a>\n",
    "\n",
    "Ada beberapa catatan.\n",
    "\n",
    "</div>\n",
    "\n",
    "<div class=\"alert alert-danger\">\n",
    "<b>Chamdani's comment v.*</b> <a class=\"tocSkip\"></a>\n",
    "\n",
    "Perlu beberapa perbaikan.\n",
    "\n",
    "</div>\n",
    "\n",
    "<div class=\"alert alert-info\">\n",
    "<b>Chamdani's info v.1</b> <a class=\"tocSkip\"></a>\n",
    "\n",
    "Catatan umum:\n",
    "* Fungsi `print` tidak diperlukan untuk mencetak suatu nilai\n",
    "* Lebih baik tulis kode pada bagian akhir cell code untuk menampilkan output tanpa `print`\n",
    "* Perintah soal yang ada dalam tanda kurung siku `[...]` sebaiknya dihilangkan\n",
    "* Sangat disarankan untuk menggunakan cell markdown untuk memberikan deskripsi temuan atau kesimpulan.\n",
    "* Tidak disarankan menggunakan cell code untuk memberikan penjelasan / deskripsi.\n",
    "* Untuk menghindari galat pada notebook project kamu. Batasi jumlah output yang dikeluarkan setiap kode dengan batas max 10 baris data.\n",
    "\n",
    "</div>\n",
    "\n",
    "<div style=\"border:solid gray 5px; padding: 20px\" class=\"alert alert-warning\">\n",
    "\n",
    "**INGATLAH** \n",
    "* Project kamu tidak akan bisa diterima bila kamu masih memiliki feedback berwarna merah. \n",
    "* Kamu hanya memiliki 3 kali kesempatan iterasi submission disetiap projectnya \n",
    "* Jika merasa kesulitan kamu dapat menuliskan responmu atas feedback saya menggunakan blok markdown warna biru dan kamu bisa mengirimkan project pada submission selanjutnya untuk mendapatkan jawaban / respon dari saya segera yaa\n",
    "\n",
    "Kamu dapat menjawab saya dengan menggunakan blok berwarna biru seperti ini\n",
    "\n",
    "<div class=\"alert alert-info\">\n",
    "<b>Student answer</b> <a class=\"tocSkip\"></a>\n",
    "\n",
    "Siap kak.\n",
    "\n",
    "</div>"
   ]
  },
  {
   "cell_type": "markdown",
   "metadata": {},
   "source": [
    "<div style=\"border:solid black 2px; padding: 20px\" class=\"alert alert-success\">\n",
    "    \n",
    "# General feedback v.1 *Project Accepted*\n",
    "\n",
    "Terima kasih banyak telah mengirimkan proyek Anda! \n",
    "<br>\n",
    "    \n",
    "Secara keseluruhan, proyek Anda **SANGAT** mengesankan. Semoga apa yang kamu pelajari dalam project ini dapat membantu meningkatkan kemampuanmu. Pertahankan apa yang sudah bagus, dan tingkatkan apa yang menurutmu masih perlu ditingkatkan. Semoga berhasil pada project selanjutnya yaa :)\n",
    "\n",
    "**TETAP SEMANGAT!!**\n",
    "    \n",
    "</div>"
   ]
  },
  {
   "cell_type": "markdown",
   "metadata": {},
   "source": [
    "<span style=\"font-size: 32px; font-weight: bold;\">[LAPORAN PRIORITAS HIPOTESIS DAN A/B TESTING AKTIVITAS PEMBELIAN]</span>"
   ]
  },
  {
   "cell_type": "markdown",
   "metadata": {},
   "source": [
    "<span style=\"font-size: 26px; font-weight: bold;\">Daftar Isi</span>"
   ]
  },
  {
   "cell_type": "markdown",
   "metadata": {},
   "source": [
    "[Pendahuluan](#Pendahuluan)\n",
    "\n",
    "1. [Inisialisasi](#Inisialisasi) \n",
    "\n",
    "2. [Persiapan Data](#Mempersiapkan-Data)\n",
    "   - [Data Hipotesis](#Data-Hipotesis)\n",
    "   - [Data Penjualan](#Data-Penjualan)\n",
    "   - [Data Kunjungan](#Data-Kunjungan)\n",
    "       \n",
    "       \n",
    "3. [Anaslisis Prioritas Hipotesis](#Anaslisis-Prioritas-Hipotesis)\n",
    "   - [Kerangka Kerja ICE](#Kerangka-Kerja-ICE)\n",
    "   - [Kerangka Kerja RICE](#Kerangka-Kerja-RICE)\n",
    "   - [Rekomendasi Prioritas Hipotesis](#Rekomendasi-Prioritas-Hipotesis)\n",
    "       \n",
    "       \n",
    "4. [Analisis A/B Testing](#Analisis-A/B-Testing)\n",
    "   - [Uji Kesetaraan Proporsi](#Uji-Kesetaraan-Proporsi)\n",
    "   \n",
    "   - [Pendapatan Kumulatif](#Pendapatan-Kumulatif)\n",
    "       - [Pendapatan Kumulatif per Kelompok](#Pendapatan-Kumulatif-per-Kelompok)\n",
    "       - [Ukuran Pesanan Rata-rata Kumulatif](#Ukuran-Pesanan-Rata-rata-Kumulatif)\n",
    "       - [Perbedaan Relatif Ukuran Pesanan Rata-rata Kumulatif](#Perbedaan-Relatif-Ukuran-Pesanan-Rata-rata-Kumulatif)\n",
    "       \n",
    "   - [Perbedaan Konversi Kumulatif](#Perbedaan-Konversi-Kumulatif)\n",
    "       - [Konversi Kumulatif Berdasarkan Kelompok](#Konversi-Kumulatif-Berdasarkan-Kelompok)\n",
    "       - [Perbedaan Relatif Tingkat Konversi Kumulatif](#Perbedaan-Relatif-Tingkat-Konversi-Kumulatif)\n",
    "       - [Perbedaan Relatif Rasio Jumlah Pesanan Terhadap Jumlah Kunjungan](#Perbedaan-Relatif-Rasio-Jumlah-Pesanan-Terhadap-Jumlah-Kunjungan)\n",
    "       \n",
    "   - [Anomali Dalam Data Penjualan](#Anomali-Dalam-Data-Penjualan)\n",
    "       - [Anomali Jumlah Transaksi per Pengguna](#Anomali-Jumlah-Transaksi-per-Pengguna)\n",
    "       - [Anomali Harga Pesanan](#Anomali-Harga-Pesanan)\n",
    "       \n",
    "\n",
    "5. [Pengujian Hipotesis](#Pengujian-Hipotesis)\n",
    "   - [Uji Perbedaan pada Data Mentah](#Uji-Perbedaan-pada-Data-Mentah)\n",
    "       - [Perbedaan Konversi](#Perbedaan-Konversi)\n",
    "       - [Perbedaan Ukuran Pesanan Rata-rata](#Perbedaan-Ukuran-Pesanan-Rata-rata)\n",
    "       \n",
    "   - [Uji Perbedaan pada Data Filter](#Uji-Perbedaan-pada-Data-Filter)\n",
    "       - [Persiapan Filter Dataset Kelompok B](#Persiapan-Filter-Dataset-Kelompok-B)\n",
    "       - [Perbedaan Konversi](#Perbedaan-Konversi)\n",
    "       - [Perbedaan Ukuran Pesanan Rata-rata](#Perbedaan-Ukuran-Pesanan-Rata-rata)\n",
    "       \n",
    "   - [Kesimpulan Hasil Uji Hipotesis](#Kesimpulan-Hasil-Uji-Hipotesis)\n",
    "\n",
    "\n",
    "\n",
    "6. [Kesimpulan Umum](#Kesimpulan-Umum)\n"
   ]
  },
  {
   "cell_type": "markdown",
   "metadata": {},
   "source": [
    "# Pendahuluan"
   ]
  },
  {
   "cell_type": "markdown",
   "metadata": {},
   "source": [
    "Sebagai usaha meningkatkan angka pendapatan, perusahaan merencanakan sebuah eksperimen dengan metode A/B Testing terkait aktivitas pembelian pada platform toko online. Eksperimen dimulai pada tanggal 1 Agustus 2019, dengan data terakhir per 31 Agustus 2019. \n",
    "\n",
    "Diperlukan sebuah analisis terkait hipotesis yang menjadi prioritas untuk diujikan, serta hasil eksperimen A/B Testing. Hasil analisis akan digunakan untuk pengambilan keputusan antara lain: melanjutkan eksperimen, atau menghentikan eksperimen dengan serta merta mengimplementasikan hasilnya dalam perencanaan selanjutnya. \n",
    "\n",
    "Laporan ini terdiri dari enam bagian: Inisialisasi, Persiapan Data, Analisis Prioritas Hipotesis, Analisis A/B Testing, Pengujian Hipotesis, dan Kesimpulan Umum. "
   ]
  },
  {
   "cell_type": "markdown",
   "metadata": {},
   "source": [
    "<div class=\"alert alert-success\">\n",
    "<b>Chamdani's comment v.1</b> <a class=\"tocSkip\"></a>\n",
    "\n",
    "Hebat, Kerja bagus!\n",
    "\n",
    "</div>"
   ]
  },
  {
   "cell_type": "markdown",
   "metadata": {},
   "source": [
    "## Inisialisasi"
   ]
  },
  {
   "cell_type": "code",
   "execution_count": 1,
   "metadata": {},
   "outputs": [],
   "source": [
    "# Import library request HTTP\n",
    "import requests\n",
    "\n",
    "# Import BeautifulSoup dari modul bs4\n",
    "from bs4 import BeautifulSoup\n",
    "\n",
    "import math as mth\n",
    "\n",
    "# Import Library data processing\n",
    "import pandas as pd, numpy as np\n",
    "\n",
    "#Import Library data visualization\n",
    "import matplotlib.pyplot as plt, seaborn as sns\n",
    "\n",
    "#Import Library Statistics\n",
    "import scipy.stats as st\n",
    "from scipy.stats import ttest_ind\n",
    "\n",
    "#Import Library Statistical Testing\n",
    "from scipy.stats import ttest_1samp, shapiro, mannwhitneyu, chi2_contingency\n",
    "\n",
    "import datetime as dt\n",
    "\n",
    "import warnings\n",
    "warnings.filterwarnings('ignore')"
   ]
  },
  {
   "cell_type": "code",
   "execution_count": 2,
   "metadata": {},
   "outputs": [
    {
     "data": {
      "text/html": [
       "<div>\n",
       "<style scoped>\n",
       "    .dataframe tbody tr th:only-of-type {\n",
       "        vertical-align: middle;\n",
       "    }\n",
       "\n",
       "    .dataframe tbody tr th {\n",
       "        vertical-align: top;\n",
       "    }\n",
       "\n",
       "    .dataframe thead th {\n",
       "        text-align: right;\n",
       "    }\n",
       "</style>\n",
       "<table border=\"1\" class=\"dataframe\">\n",
       "  <thead>\n",
       "    <tr style=\"text-align: right;\">\n",
       "      <th></th>\n",
       "      <th>Hypothesis;Reach;Impact;Confidence;Effort</th>\n",
       "    </tr>\n",
       "  </thead>\n",
       "  <tbody>\n",
       "    <tr>\n",
       "      <th>0</th>\n",
       "      <td>Add two new channels for attracting traffic. T...</td>\n",
       "    </tr>\n",
       "    <tr>\n",
       "      <th>1</th>\n",
       "      <td>Launch your own delivery service. This will sh...</td>\n",
       "    </tr>\n",
       "    <tr>\n",
       "      <th>2</th>\n",
       "      <td>Add product recommendation blocks to the store...</td>\n",
       "    </tr>\n",
       "    <tr>\n",
       "      <th>3</th>\n",
       "      <td>Change the category structure. This will incre...</td>\n",
       "    </tr>\n",
       "    <tr>\n",
       "      <th>4</th>\n",
       "      <td>Change the background color on the main page. ...</td>\n",
       "    </tr>\n",
       "    <tr>\n",
       "      <th>5</th>\n",
       "      <td>Add a customer review page. This will increase...</td>\n",
       "    </tr>\n",
       "    <tr>\n",
       "      <th>6</th>\n",
       "      <td>Show banners with current offers and sales on ...</td>\n",
       "    </tr>\n",
       "    <tr>\n",
       "      <th>7</th>\n",
       "      <td>Add a subscription form to all the main pages....</td>\n",
       "    </tr>\n",
       "    <tr>\n",
       "      <th>8</th>\n",
       "      <td>Launch a promotion that gives users discounts ...</td>\n",
       "    </tr>\n",
       "  </tbody>\n",
       "</table>\n",
       "</div>"
      ],
      "text/plain": [
       "           Hypothesis;Reach;Impact;Confidence;Effort\n",
       "0  Add two new channels for attracting traffic. T...\n",
       "1  Launch your own delivery service. This will sh...\n",
       "2  Add product recommendation blocks to the store...\n",
       "3  Change the category structure. This will incre...\n",
       "4  Change the background color on the main page. ...\n",
       "5  Add a customer review page. This will increase...\n",
       "6  Show banners with current offers and sales on ...\n",
       "7  Add a subscription form to all the main pages....\n",
       "8  Launch a promotion that gives users discounts ..."
      ]
     },
     "execution_count": 2,
     "metadata": {},
     "output_type": "execute_result"
    }
   ],
   "source": [
    "# Memuat dataframe kumpulan hipotesis\n",
    "hypotheses = pd.read_csv('/datasets/hypotheses_us.csv')\n",
    "hypotheses"
   ]
  },
  {
   "cell_type": "code",
   "execution_count": 3,
   "metadata": {},
   "outputs": [
    {
     "name": "stdout",
     "output_type": "stream",
     "text": [
      "<class 'pandas.core.frame.DataFrame'>\n",
      "RangeIndex: 9 entries, 0 to 8\n",
      "Data columns (total 1 columns):\n",
      " #   Column                                     Non-Null Count  Dtype \n",
      "---  ------                                     --------------  ----- \n",
      " 0   Hypothesis;Reach;Impact;Confidence;Effort  9 non-null      object\n",
      "dtypes: object(1)\n",
      "memory usage: 200.0+ bytes\n"
     ]
    }
   ],
   "source": [
    "hypotheses.info()"
   ]
  },
  {
   "cell_type": "markdown",
   "metadata": {},
   "source": [
    "Nama-nama kolom dalam dataframe 'hypotheses' masih tergabung dalam satu kolom, dengan tanda titik koma (;) sebagai pemisah. Selain itu penulisan nama kolom menggunakan campuran huruf kapital dan huruf kecil. Perbaikan kedua hal tersebut dan kesalahan lain yang mungkin ditemukan setelahnya akan dilakukan pada bagian **Persiapan Data** pada laporan ini."
   ]
  },
  {
   "cell_type": "markdown",
   "metadata": {},
   "source": [
    "<div class=\"alert alert-success\">\n",
    "<b>Chamdani's comment v.1</b> <a class=\"tocSkip\"></a>\n",
    "\n",
    "Hebat, Kerja bagus!\n",
    "\n",
    "</div>"
   ]
  },
  {
   "cell_type": "code",
   "execution_count": 4,
   "metadata": {},
   "outputs": [
    {
     "data": {
      "text/html": [
       "<div>\n",
       "<style scoped>\n",
       "    .dataframe tbody tr th:only-of-type {\n",
       "        vertical-align: middle;\n",
       "    }\n",
       "\n",
       "    .dataframe tbody tr th {\n",
       "        vertical-align: top;\n",
       "    }\n",
       "\n",
       "    .dataframe thead th {\n",
       "        text-align: right;\n",
       "    }\n",
       "</style>\n",
       "<table border=\"1\" class=\"dataframe\">\n",
       "  <thead>\n",
       "    <tr style=\"text-align: right;\">\n",
       "      <th></th>\n",
       "      <th>transactionId</th>\n",
       "      <th>visitorId</th>\n",
       "      <th>date</th>\n",
       "      <th>revenue</th>\n",
       "      <th>group</th>\n",
       "    </tr>\n",
       "  </thead>\n",
       "  <tbody>\n",
       "    <tr>\n",
       "      <th>0</th>\n",
       "      <td>3667963787</td>\n",
       "      <td>3312258926</td>\n",
       "      <td>2019-08-15</td>\n",
       "      <td>30.4</td>\n",
       "      <td>B</td>\n",
       "    </tr>\n",
       "    <tr>\n",
       "      <th>1</th>\n",
       "      <td>2804400009</td>\n",
       "      <td>3642806036</td>\n",
       "      <td>2019-08-15</td>\n",
       "      <td>15.2</td>\n",
       "      <td>B</td>\n",
       "    </tr>\n",
       "    <tr>\n",
       "      <th>2</th>\n",
       "      <td>2961555356</td>\n",
       "      <td>4069496402</td>\n",
       "      <td>2019-08-15</td>\n",
       "      <td>10.2</td>\n",
       "      <td>A</td>\n",
       "    </tr>\n",
       "    <tr>\n",
       "      <th>3</th>\n",
       "      <td>3797467345</td>\n",
       "      <td>1196621759</td>\n",
       "      <td>2019-08-15</td>\n",
       "      <td>155.1</td>\n",
       "      <td>B</td>\n",
       "    </tr>\n",
       "    <tr>\n",
       "      <th>4</th>\n",
       "      <td>2282983706</td>\n",
       "      <td>2322279887</td>\n",
       "      <td>2019-08-15</td>\n",
       "      <td>40.5</td>\n",
       "      <td>B</td>\n",
       "    </tr>\n",
       "    <tr>\n",
       "      <th>5</th>\n",
       "      <td>182168103</td>\n",
       "      <td>935554773</td>\n",
       "      <td>2019-08-15</td>\n",
       "      <td>35.0</td>\n",
       "      <td>B</td>\n",
       "    </tr>\n",
       "    <tr>\n",
       "      <th>6</th>\n",
       "      <td>398296753</td>\n",
       "      <td>2900797465</td>\n",
       "      <td>2019-08-15</td>\n",
       "      <td>30.6</td>\n",
       "      <td>B</td>\n",
       "    </tr>\n",
       "    <tr>\n",
       "      <th>7</th>\n",
       "      <td>2626614568</td>\n",
       "      <td>78758296</td>\n",
       "      <td>2019-08-15</td>\n",
       "      <td>20.1</td>\n",
       "      <td>A</td>\n",
       "    </tr>\n",
       "    <tr>\n",
       "      <th>8</th>\n",
       "      <td>1576988021</td>\n",
       "      <td>295230930</td>\n",
       "      <td>2019-08-15</td>\n",
       "      <td>215.9</td>\n",
       "      <td>A</td>\n",
       "    </tr>\n",
       "    <tr>\n",
       "      <th>9</th>\n",
       "      <td>1506739906</td>\n",
       "      <td>1882260405</td>\n",
       "      <td>2019-08-15</td>\n",
       "      <td>30.5</td>\n",
       "      <td>B</td>\n",
       "    </tr>\n",
       "  </tbody>\n",
       "</table>\n",
       "</div>"
      ],
      "text/plain": [
       "   transactionId   visitorId        date  revenue group\n",
       "0     3667963787  3312258926  2019-08-15     30.4     B\n",
       "1     2804400009  3642806036  2019-08-15     15.2     B\n",
       "2     2961555356  4069496402  2019-08-15     10.2     A\n",
       "3     3797467345  1196621759  2019-08-15    155.1     B\n",
       "4     2282983706  2322279887  2019-08-15     40.5     B\n",
       "5      182168103   935554773  2019-08-15     35.0     B\n",
       "6      398296753  2900797465  2019-08-15     30.6     B\n",
       "7     2626614568    78758296  2019-08-15     20.1     A\n",
       "8     1576988021   295230930  2019-08-15    215.9     A\n",
       "9     1506739906  1882260405  2019-08-15     30.5     B"
      ]
     },
     "execution_count": 4,
     "metadata": {},
     "output_type": "execute_result"
    }
   ],
   "source": [
    "# Memuat dataframe penjualan\n",
    "orders = pd.read_csv('/datasets/orders_us.csv')\n",
    "orders.head(10)"
   ]
  },
  {
   "cell_type": "code",
   "execution_count": 5,
   "metadata": {},
   "outputs": [
    {
     "name": "stdout",
     "output_type": "stream",
     "text": [
      "<class 'pandas.core.frame.DataFrame'>\n",
      "RangeIndex: 1197 entries, 0 to 1196\n",
      "Data columns (total 5 columns):\n",
      " #   Column         Non-Null Count  Dtype  \n",
      "---  ------         --------------  -----  \n",
      " 0   transactionId  1197 non-null   int64  \n",
      " 1   visitorId      1197 non-null   int64  \n",
      " 2   date           1197 non-null   object \n",
      " 3   revenue        1197 non-null   float64\n",
      " 4   group          1197 non-null   object \n",
      "dtypes: float64(1), int64(2), object(2)\n",
      "memory usage: 46.9+ KB\n"
     ]
    }
   ],
   "source": [
    "# Menampilkan informasi umum dataframe orders\n",
    "orders.info()"
   ]
  },
  {
   "cell_type": "markdown",
   "metadata": {},
   "source": [
    "Perbaikan yang diperlukan untuk dataframe penjualan adalah **penulisan nama kolom**, dan **perubahan tipe data kolom 'date' menjadi datetime**. Perbaikan ini akan dilakukan pada bagian **Persiapan Data**. "
   ]
  },
  {
   "cell_type": "markdown",
   "metadata": {},
   "source": [
    "<div class=\"alert alert-success\">\n",
    "<b>Chamdani's comment v.1</b> <a class=\"tocSkip\"></a>\n",
    "\n",
    "Hebat, Kerja bagus!\n",
    "\n",
    "</div>"
   ]
  },
  {
   "cell_type": "code",
   "execution_count": 6,
   "metadata": {},
   "outputs": [
    {
     "data": {
      "text/html": [
       "<div>\n",
       "<style scoped>\n",
       "    .dataframe tbody tr th:only-of-type {\n",
       "        vertical-align: middle;\n",
       "    }\n",
       "\n",
       "    .dataframe tbody tr th {\n",
       "        vertical-align: top;\n",
       "    }\n",
       "\n",
       "    .dataframe thead th {\n",
       "        text-align: right;\n",
       "    }\n",
       "</style>\n",
       "<table border=\"1\" class=\"dataframe\">\n",
       "  <thead>\n",
       "    <tr style=\"text-align: right;\">\n",
       "      <th></th>\n",
       "      <th>date</th>\n",
       "      <th>group</th>\n",
       "      <th>visits</th>\n",
       "    </tr>\n",
       "  </thead>\n",
       "  <tbody>\n",
       "    <tr>\n",
       "      <th>0</th>\n",
       "      <td>2019-08-01</td>\n",
       "      <td>A</td>\n",
       "      <td>719</td>\n",
       "    </tr>\n",
       "    <tr>\n",
       "      <th>1</th>\n",
       "      <td>2019-08-02</td>\n",
       "      <td>A</td>\n",
       "      <td>619</td>\n",
       "    </tr>\n",
       "    <tr>\n",
       "      <th>2</th>\n",
       "      <td>2019-08-03</td>\n",
       "      <td>A</td>\n",
       "      <td>507</td>\n",
       "    </tr>\n",
       "    <tr>\n",
       "      <th>3</th>\n",
       "      <td>2019-08-04</td>\n",
       "      <td>A</td>\n",
       "      <td>717</td>\n",
       "    </tr>\n",
       "    <tr>\n",
       "      <th>4</th>\n",
       "      <td>2019-08-05</td>\n",
       "      <td>A</td>\n",
       "      <td>756</td>\n",
       "    </tr>\n",
       "  </tbody>\n",
       "</table>\n",
       "</div>"
      ],
      "text/plain": [
       "         date group  visits\n",
       "0  2019-08-01     A     719\n",
       "1  2019-08-02     A     619\n",
       "2  2019-08-03     A     507\n",
       "3  2019-08-04     A     717\n",
       "4  2019-08-05     A     756"
      ]
     },
     "execution_count": 6,
     "metadata": {},
     "output_type": "execute_result"
    }
   ],
   "source": [
    "# Memuat data kunjungan\n",
    "visits = pd.read_csv('/datasets/visits_us.csv')\n",
    "visits.head()"
   ]
  },
  {
   "cell_type": "code",
   "execution_count": 7,
   "metadata": {},
   "outputs": [
    {
     "name": "stdout",
     "output_type": "stream",
     "text": [
      "<class 'pandas.core.frame.DataFrame'>\n",
      "RangeIndex: 62 entries, 0 to 61\n",
      "Data columns (total 3 columns):\n",
      " #   Column  Non-Null Count  Dtype \n",
      "---  ------  --------------  ----- \n",
      " 0   date    62 non-null     object\n",
      " 1   group   62 non-null     object\n",
      " 2   visits  62 non-null     int64 \n",
      "dtypes: int64(1), object(2)\n",
      "memory usage: 1.6+ KB\n"
     ]
    }
   ],
   "source": [
    "# Menampilkan informasi umum dataframe visits\n",
    "visits.info()"
   ]
  },
  {
   "cell_type": "markdown",
   "metadata": {},
   "source": [
    "Perbaikan yang diperlukan untuk dataframe kunjungan adalah **perubahan tipe data kolom 'date' menjadi datetime**. Perbaikan ini akan dilakukan pada bagian **Persiapan Data**."
   ]
  },
  {
   "cell_type": "markdown",
   "metadata": {},
   "source": [
    "<div class=\"alert alert-success\">\n",
    "<b>Chamdani's comment v.1</b> <a class=\"tocSkip\"></a>\n",
    "\n",
    "Hebat, Kerja bagus!\n",
    "\n",
    "</div>"
   ]
  },
  {
   "cell_type": "markdown",
   "metadata": {},
   "source": [
    "## Persiapan Data"
   ]
  },
  {
   "cell_type": "markdown",
   "metadata": {},
   "source": [
    "### Data Hipotesis"
   ]
  },
  {
   "cell_type": "code",
   "execution_count": 8,
   "metadata": {},
   "outputs": [
    {
     "data": {
      "text/html": [
       "<div>\n",
       "<style scoped>\n",
       "    .dataframe tbody tr th:only-of-type {\n",
       "        vertical-align: middle;\n",
       "    }\n",
       "\n",
       "    .dataframe tbody tr th {\n",
       "        vertical-align: top;\n",
       "    }\n",
       "\n",
       "    .dataframe thead th {\n",
       "        text-align: right;\n",
       "    }\n",
       "</style>\n",
       "<table border=\"1\" class=\"dataframe\">\n",
       "  <thead>\n",
       "    <tr style=\"text-align: right;\">\n",
       "      <th></th>\n",
       "      <th>Hypothesis</th>\n",
       "      <th>Reach</th>\n",
       "      <th>Impact</th>\n",
       "      <th>Confidence</th>\n",
       "      <th>Effort</th>\n",
       "    </tr>\n",
       "  </thead>\n",
       "  <tbody>\n",
       "    <tr>\n",
       "      <th>0</th>\n",
       "      <td>Add two new channels for attracting traffic. T...</td>\n",
       "      <td>3</td>\n",
       "      <td>10</td>\n",
       "      <td>8</td>\n",
       "      <td>6</td>\n",
       "    </tr>\n",
       "    <tr>\n",
       "      <th>1</th>\n",
       "      <td>Launch your own delivery service. This will sh...</td>\n",
       "      <td>2</td>\n",
       "      <td>5</td>\n",
       "      <td>4</td>\n",
       "      <td>10</td>\n",
       "    </tr>\n",
       "    <tr>\n",
       "      <th>2</th>\n",
       "      <td>Add product recommendation blocks to the store...</td>\n",
       "      <td>8</td>\n",
       "      <td>3</td>\n",
       "      <td>7</td>\n",
       "      <td>3</td>\n",
       "    </tr>\n",
       "    <tr>\n",
       "      <th>3</th>\n",
       "      <td>Change the category structure. This will incre...</td>\n",
       "      <td>8</td>\n",
       "      <td>3</td>\n",
       "      <td>3</td>\n",
       "      <td>8</td>\n",
       "    </tr>\n",
       "    <tr>\n",
       "      <th>4</th>\n",
       "      <td>Change the background color on the main page. ...</td>\n",
       "      <td>3</td>\n",
       "      <td>1</td>\n",
       "      <td>1</td>\n",
       "      <td>1</td>\n",
       "    </tr>\n",
       "    <tr>\n",
       "      <th>5</th>\n",
       "      <td>Add a customer review page. This will increase...</td>\n",
       "      <td>3</td>\n",
       "      <td>2</td>\n",
       "      <td>2</td>\n",
       "      <td>3</td>\n",
       "    </tr>\n",
       "    <tr>\n",
       "      <th>6</th>\n",
       "      <td>Show banners with current offers and sales on ...</td>\n",
       "      <td>5</td>\n",
       "      <td>3</td>\n",
       "      <td>8</td>\n",
       "      <td>3</td>\n",
       "    </tr>\n",
       "    <tr>\n",
       "      <th>7</th>\n",
       "      <td>Add a subscription form to all the main pages....</td>\n",
       "      <td>10</td>\n",
       "      <td>7</td>\n",
       "      <td>8</td>\n",
       "      <td>5</td>\n",
       "    </tr>\n",
       "    <tr>\n",
       "      <th>8</th>\n",
       "      <td>Launch a promotion that gives users discounts ...</td>\n",
       "      <td>1</td>\n",
       "      <td>9</td>\n",
       "      <td>9</td>\n",
       "      <td>5</td>\n",
       "    </tr>\n",
       "  </tbody>\n",
       "</table>\n",
       "</div>"
      ],
      "text/plain": [
       "                                          Hypothesis  Reach  Impact  \\\n",
       "0  Add two new channels for attracting traffic. T...      3      10   \n",
       "1  Launch your own delivery service. This will sh...      2       5   \n",
       "2  Add product recommendation blocks to the store...      8       3   \n",
       "3  Change the category structure. This will incre...      8       3   \n",
       "4  Change the background color on the main page. ...      3       1   \n",
       "5  Add a customer review page. This will increase...      3       2   \n",
       "6  Show banners with current offers and sales on ...      5       3   \n",
       "7  Add a subscription form to all the main pages....     10       7   \n",
       "8  Launch a promotion that gives users discounts ...      1       9   \n",
       "\n",
       "   Confidence  Effort  \n",
       "0           8       6  \n",
       "1           4      10  \n",
       "2           7       3  \n",
       "3           3       8  \n",
       "4           1       1  \n",
       "5           2       3  \n",
       "6           8       3  \n",
       "7           8       5  \n",
       "8           9       5  "
      ]
     },
     "execution_count": 8,
     "metadata": {},
     "output_type": "execute_result"
    }
   ],
   "source": [
    "# Memisahkan nama kolom dengan pemisah ';'\n",
    "hypotheses = pd.read_csv('/datasets/hypotheses_us.csv', delimiter=';')\n",
    "hypotheses"
   ]
  },
  {
   "cell_type": "code",
   "execution_count": 9,
   "metadata": {},
   "outputs": [],
   "source": [
    "# Pembetulan penulisan nama kolom menjadi huruf kecil\n",
    "hypotheses.columns = hypotheses.columns.str.lower()"
   ]
  },
  {
   "cell_type": "code",
   "execution_count": 10,
   "metadata": {},
   "outputs": [
    {
     "name": "stdout",
     "output_type": "stream",
     "text": [
      "<class 'pandas.core.frame.DataFrame'>\n",
      "RangeIndex: 9 entries, 0 to 8\n",
      "Data columns (total 5 columns):\n",
      " #   Column      Non-Null Count  Dtype \n",
      "---  ------      --------------  ----- \n",
      " 0   hypothesis  9 non-null      object\n",
      " 1   reach       9 non-null      int64 \n",
      " 2   impact      9 non-null      int64 \n",
      " 3   confidence  9 non-null      int64 \n",
      " 4   effort      9 non-null      int64 \n",
      "dtypes: int64(4), object(1)\n",
      "memory usage: 488.0+ bytes\n"
     ]
    }
   ],
   "source": [
    "hypotheses.info()"
   ]
  },
  {
   "cell_type": "markdown",
   "metadata": {},
   "source": [
    "Kini dataframe 'hypotheses' telah dimuat dalam format yang benar, terdiri dari lima kolom berisi deskripsi singkat hipotesis, serta hasil pengukuran untuk masing-masing aspek, antara lain: jangkauan (reach), dampak (impact), keyakinan (confidence), dan usaha (effort), dalam skala 1-10. \n",
    "\n",
    "Terdapat total sembilan baris yang menjabarkan kesembilan hipotesis yang telah diukur masing-masing aspeknya. Dataframe ini siap untuk dianalisis untuk ditentukan prioritasnya pada bagian **3 (Analisis Prioritas Hipotesis)** dalam laporan ini. "
   ]
  },
  {
   "cell_type": "markdown",
   "metadata": {},
   "source": [
    "<div class=\"alert alert-success\">\n",
    "<b>Chamdani's comment v.1</b> <a class=\"tocSkip\"></a>\n",
    "\n",
    "Hebat, Kerja bagus!\n",
    "\n",
    "</div>"
   ]
  },
  {
   "cell_type": "markdown",
   "metadata": {},
   "source": [
    "### Data Penjualan"
   ]
  },
  {
   "cell_type": "code",
   "execution_count": 11,
   "metadata": {},
   "outputs": [
    {
     "name": "stdout",
     "output_type": "stream",
     "text": [
      "<class 'pandas.core.frame.DataFrame'>\n",
      "RangeIndex: 1197 entries, 0 to 1196\n",
      "Data columns (total 5 columns):\n",
      " #   Column          Non-Null Count  Dtype         \n",
      "---  ------          --------------  -----         \n",
      " 0   transaction_id  1197 non-null   int64         \n",
      " 1   visitor_id      1197 non-null   int64         \n",
      " 2   date            1197 non-null   datetime64[ns]\n",
      " 3   revenue         1197 non-null   float64       \n",
      " 4   group           1197 non-null   object        \n",
      "dtypes: datetime64[ns](1), float64(1), int64(2), object(1)\n",
      "memory usage: 46.9+ KB\n"
     ]
    }
   ],
   "source": [
    "# Perbaikan penulisan nama kolom \n",
    "orders = orders.rename(columns={'transactionId': 'transaction_id', 'visitorId': 'visitor_id'})\n",
    "\n",
    "# Perubahan tipe data kolom date\n",
    "orders['date'] = pd.to_datetime(orders['date'], format='%Y-%m-%d')\n",
    "\n",
    "orders.info()"
   ]
  },
  {
   "cell_type": "markdown",
   "metadata": {},
   "source": [
    "Penulisan nama kolom telah diperbaiki menjadi **'transaction_id'** dan **'visitor_id'**. Tipe data kolom **date** telah diubah dari object menjadi datetime. "
   ]
  },
  {
   "cell_type": "code",
   "execution_count": 12,
   "metadata": {},
   "outputs": [
    {
     "name": "stdout",
     "output_type": "stream",
     "text": [
      "Jumlah ID pelanggan unik: 1031\n"
     ]
    }
   ],
   "source": [
    "# Memeriksa jumlah visitor_id unik\n",
    "orders['visitor_id'].nunique()\n",
    "print(\"Jumlah ID pelanggan unik:\", orders['visitor_id'].nunique())"
   ]
  },
  {
   "cell_type": "code",
   "execution_count": 13,
   "metadata": {},
   "outputs": [
    {
     "name": "stdout",
     "output_type": "stream",
     "text": [
      "Jumlah pelanggan yang tercatat ganda di kedua grup: 58 orang\n"
     ]
    }
   ],
   "source": [
    "# Memeriksa visitor_id yang tercatat dalam grup'A' dan 'B'\n",
    "duplicated_visitors = orders.groupby('visitor_id')['group'].nunique()\n",
    "conflicting_visitors = duplicated_visitors[duplicated_visitors > 1]\n",
    "\n",
    "if conflicting_visitors.empty:\n",
    "    print(\"Tidak ada pelanggan yang tercatat ganda dalam kedua grup.\")\n",
    "else:\n",
    "    print(\"Jumlah pelanggan yang tercatat ganda di kedua grup:\", len(conflicting_visitors), \"orang\")\n",
    "    "
   ]
  },
  {
   "cell_type": "markdown",
   "metadata": {},
   "source": [
    "Terdapat **58 pelanggan** yang tercatat di grup A dan juga grup B. Hal ini kemungkinan disebabkan oleh adanya bug dalam sistem saat pelanggan tersebut melakukan lebih dari satu kali pembelian di hari yang berbeda. \n",
    "\n",
    "Secara proporsi, 58 orang tersebut hanya merupakan **5,6%** dari keseluruhan 1031 pelanggan. Akan tetapi, tercatatnya mereka dalam dua grup menunjukkan bahwa mereka adalah pelanggan yang melakukan pembelian berulang. Artinya 58 identitas unik ini sebaiknya tidak dihapus. Solusi yang dapat diterapkan adalah **mengoreksi pencatatan grup berdasarkan data pada tanggal pembelian pertama**. "
   ]
  },
  {
   "cell_type": "markdown",
   "metadata": {},
   "source": [
    "<div class=\"alert alert-success\">\n",
    "<b>Chamdani's comment v.1</b> <a class=\"tocSkip\"></a>\n",
    "\n",
    "Hebat, Kerja bagus!\n",
    "\n",
    "</div>"
   ]
  },
  {
   "cell_type": "code",
   "execution_count": 14,
   "metadata": {},
   "outputs": [
    {
     "data": {
      "text/html": [
       "<div>\n",
       "<style scoped>\n",
       "    .dataframe tbody tr th:only-of-type {\n",
       "        vertical-align: middle;\n",
       "    }\n",
       "\n",
       "    .dataframe tbody tr th {\n",
       "        vertical-align: top;\n",
       "    }\n",
       "\n",
       "    .dataframe thead th {\n",
       "        text-align: right;\n",
       "    }\n",
       "</style>\n",
       "<table border=\"1\" class=\"dataframe\">\n",
       "  <thead>\n",
       "    <tr style=\"text-align: right;\">\n",
       "      <th></th>\n",
       "      <th>transaction_id</th>\n",
       "      <th>visitor_id</th>\n",
       "      <th>date</th>\n",
       "      <th>revenue</th>\n",
       "      <th>group</th>\n",
       "    </tr>\n",
       "  </thead>\n",
       "  <tbody>\n",
       "    <tr>\n",
       "      <th>2</th>\n",
       "      <td>2961555356</td>\n",
       "      <td>4069496402</td>\n",
       "      <td>2019-08-15</td>\n",
       "      <td>10.2</td>\n",
       "      <td>A</td>\n",
       "    </tr>\n",
       "    <tr>\n",
       "      <th>20</th>\n",
       "      <td>2904772834</td>\n",
       "      <td>963407295</td>\n",
       "      <td>2019-08-15</td>\n",
       "      <td>5.6</td>\n",
       "      <td>B</td>\n",
       "    </tr>\n",
       "    <tr>\n",
       "      <th>23</th>\n",
       "      <td>4252514150</td>\n",
       "      <td>351125977</td>\n",
       "      <td>2019-08-15</td>\n",
       "      <td>235.6</td>\n",
       "      <td>B</td>\n",
       "    </tr>\n",
       "    <tr>\n",
       "      <th>24</th>\n",
       "      <td>1162046357</td>\n",
       "      <td>3234906277</td>\n",
       "      <td>2019-08-15</td>\n",
       "      <td>120.2</td>\n",
       "      <td>B</td>\n",
       "    </tr>\n",
       "    <tr>\n",
       "      <th>26</th>\n",
       "      <td>2223239646</td>\n",
       "      <td>199603092</td>\n",
       "      <td>2019-08-15</td>\n",
       "      <td>55.7</td>\n",
       "      <td>A</td>\n",
       "    </tr>\n",
       "  </tbody>\n",
       "</table>\n",
       "</div>"
      ],
      "text/plain": [
       "    transaction_id  visitor_id       date  revenue group\n",
       "2       2961555356  4069496402 2019-08-15     10.2     A\n",
       "20      2904772834   963407295 2019-08-15      5.6     B\n",
       "23      4252514150   351125977 2019-08-15    235.6     B\n",
       "24      1162046357  3234906277 2019-08-15    120.2     B\n",
       "26      2223239646   199603092 2019-08-15     55.7     A"
      ]
     },
     "execution_count": 14,
     "metadata": {},
     "output_type": "execute_result"
    }
   ],
   "source": [
    "# Membuat dataframe yang difilter berdasarkan visitor_id yang tercatat sebagai  grup A dan juga grup B\n",
    "conflicting_visitors = duplicated_visitors[duplicated_visitors > 1].index.tolist()\n",
    "conflicting_data = orders[orders['visitor_id'].isin(conflicting_visitors)]\n",
    "\n",
    "conflicting_data.head()"
   ]
  },
  {
   "cell_type": "code",
   "execution_count": 15,
   "metadata": {},
   "outputs": [
    {
     "name": "stdout",
     "output_type": "stream",
     "text": [
      "<class 'pandas.core.frame.DataFrame'>\n",
      "Int64Index: 181 entries, 2 to 1195\n",
      "Data columns (total 5 columns):\n",
      " #   Column          Non-Null Count  Dtype         \n",
      "---  ------          --------------  -----         \n",
      " 0   transaction_id  181 non-null    int64         \n",
      " 1   visitor_id      181 non-null    int64         \n",
      " 2   date            181 non-null    datetime64[ns]\n",
      " 3   revenue         181 non-null    float64       \n",
      " 4   group           181 non-null    object        \n",
      "dtypes: datetime64[ns](1), float64(1), int64(2), object(1)\n",
      "memory usage: 8.5+ KB\n"
     ]
    }
   ],
   "source": [
    "conflicting_data.info()"
   ]
  },
  {
   "cell_type": "code",
   "execution_count": 16,
   "metadata": {},
   "outputs": [
    {
     "data": {
      "text/html": [
       "<div>\n",
       "<style scoped>\n",
       "    .dataframe tbody tr th:only-of-type {\n",
       "        vertical-align: middle;\n",
       "    }\n",
       "\n",
       "    .dataframe tbody tr th {\n",
       "        vertical-align: top;\n",
       "    }\n",
       "\n",
       "    .dataframe thead th {\n",
       "        text-align: right;\n",
       "    }\n",
       "</style>\n",
       "<table border=\"1\" class=\"dataframe\">\n",
       "  <thead>\n",
       "    <tr style=\"text-align: right;\">\n",
       "      <th></th>\n",
       "      <th>visitor_id</th>\n",
       "      <th>date</th>\n",
       "    </tr>\n",
       "  </thead>\n",
       "  <tbody>\n",
       "    <tr>\n",
       "      <th>0</th>\n",
       "      <td>8300375</td>\n",
       "      <td>2019-08-01</td>\n",
       "    </tr>\n",
       "    <tr>\n",
       "      <th>1</th>\n",
       "      <td>199603092</td>\n",
       "      <td>2019-08-02</td>\n",
       "    </tr>\n",
       "    <tr>\n",
       "      <th>2</th>\n",
       "      <td>232979603</td>\n",
       "      <td>2019-08-31</td>\n",
       "    </tr>\n",
       "    <tr>\n",
       "      <th>3</th>\n",
       "      <td>237748145</td>\n",
       "      <td>2019-08-12</td>\n",
       "    </tr>\n",
       "    <tr>\n",
       "      <th>4</th>\n",
       "      <td>276558944</td>\n",
       "      <td>2019-08-12</td>\n",
       "    </tr>\n",
       "  </tbody>\n",
       "</table>\n",
       "</div>"
      ],
      "text/plain": [
       "   visitor_id       date\n",
       "0     8300375 2019-08-01\n",
       "1   199603092 2019-08-02\n",
       "2   232979603 2019-08-31\n",
       "3   237748145 2019-08-12\n",
       "4   276558944 2019-08-12"
      ]
     },
     "execution_count": 16,
     "metadata": {},
     "output_type": "execute_result"
    }
   ],
   "source": [
    "# Menemukan tanggal kunjungan pertama dari tiap pelanggan yang tercatat ganda\n",
    "earliest_visits = conflicting_data.groupby('visitor_id')['date'].min().reset_index()\n",
    "earliest_visits.head()"
   ]
  },
  {
   "cell_type": "code",
   "execution_count": 17,
   "metadata": {},
   "outputs": [
    {
     "data": {
      "text/html": [
       "<div>\n",
       "<style scoped>\n",
       "    .dataframe tbody tr th:only-of-type {\n",
       "        vertical-align: middle;\n",
       "    }\n",
       "\n",
       "    .dataframe tbody tr th {\n",
       "        vertical-align: top;\n",
       "    }\n",
       "\n",
       "    .dataframe thead th {\n",
       "        text-align: right;\n",
       "    }\n",
       "</style>\n",
       "<table border=\"1\" class=\"dataframe\">\n",
       "  <thead>\n",
       "    <tr style=\"text-align: right;\">\n",
       "      <th></th>\n",
       "      <th>visitor_id</th>\n",
       "      <th>date</th>\n",
       "      <th>transaction_id</th>\n",
       "      <th>revenue</th>\n",
       "      <th>group</th>\n",
       "    </tr>\n",
       "  </thead>\n",
       "  <tbody>\n",
       "    <tr>\n",
       "      <th>0</th>\n",
       "      <td>8300375</td>\n",
       "      <td>2019-08-01</td>\n",
       "      <td>3679129301</td>\n",
       "      <td>165.7</td>\n",
       "      <td>B</td>\n",
       "    </tr>\n",
       "    <tr>\n",
       "      <th>1</th>\n",
       "      <td>199603092</td>\n",
       "      <td>2019-08-02</td>\n",
       "      <td>437656952</td>\n",
       "      <td>55.7</td>\n",
       "      <td>B</td>\n",
       "    </tr>\n",
       "    <tr>\n",
       "      <th>2</th>\n",
       "      <td>232979603</td>\n",
       "      <td>2019-08-31</td>\n",
       "      <td>2670069237</td>\n",
       "      <td>45.6</td>\n",
       "      <td>B</td>\n",
       "    </tr>\n",
       "    <tr>\n",
       "      <th>4</th>\n",
       "      <td>237748145</td>\n",
       "      <td>2019-08-12</td>\n",
       "      <td>3357467820</td>\n",
       "      <td>10.2</td>\n",
       "      <td>A</td>\n",
       "    </tr>\n",
       "    <tr>\n",
       "      <th>5</th>\n",
       "      <td>276558944</td>\n",
       "      <td>2019-08-12</td>\n",
       "      <td>3894437543</td>\n",
       "      <td>80.7</td>\n",
       "      <td>A</td>\n",
       "    </tr>\n",
       "  </tbody>\n",
       "</table>\n",
       "</div>"
      ],
      "text/plain": [
       "   visitor_id       date  transaction_id  revenue group\n",
       "0     8300375 2019-08-01      3679129301    165.7     B\n",
       "1   199603092 2019-08-02       437656952     55.7     B\n",
       "2   232979603 2019-08-31      2670069237     45.6     B\n",
       "4   237748145 2019-08-12      3357467820     10.2     A\n",
       "5   276558944 2019-08-12      3894437543     80.7     A"
      ]
     },
     "execution_count": 17,
     "metadata": {},
     "output_type": "execute_result"
    }
   ],
   "source": [
    "# Inner merge dataset 'earliest_visits' dengan DataFrame original dengan ID pelanggan dan tanggal kunjungan pertama sebagai index\n",
    "earliest_data = pd.merge(earliest_visits, orders, on=['visitor_id', 'date'], how='inner')\n",
    "\n",
    "# Menghapus duplikat bila ada\n",
    "earliest_data = earliest_data.drop_duplicates(subset='visitor_id')\n",
    "\n",
    "earliest_data.head()"
   ]
  },
  {
   "cell_type": "code",
   "execution_count": 18,
   "metadata": {},
   "outputs": [],
   "source": [
    "# Membarui nama kelompok pada original DataFrame berdasarkan kelompok yang tercatat di waktu kunjungan pertama\n",
    "orders.loc[orders['visitor_id'].isin(conflicting_visitors), 'group'] = orders['visitor_id'].map(\n",
    "    earliest_data.set_index('visitor_id')['group']\n",
    ")"
   ]
  },
  {
   "cell_type": "code",
   "execution_count": 19,
   "metadata": {},
   "outputs": [
    {
     "name": "stdout",
     "output_type": "stream",
     "text": [
      "Tidak ada pelanggan yang tercatat ganda dalam kedua grup.\n"
     ]
    }
   ],
   "source": [
    "# Pemeriksaan kembali jumlah pelanggan yang masih tercatat sebagai grup A dan grup B\n",
    "duplicated_visitors = orders.groupby('visitor_id')['group'].nunique()\n",
    "conflicting_visitors = duplicated_visitors[duplicated_visitors > 1]\n",
    "\n",
    "if conflicting_visitors.empty:\n",
    "    print(\"Tidak ada pelanggan yang tercatat ganda dalam kedua grup.\")\n",
    "else:\n",
    "    print(\"Jumlah pelanggan yang tercatat ganda di kedua grup:\", len(conflicting_visitors), \"orang\")\n",
    "    "
   ]
  },
  {
   "cell_type": "markdown",
   "metadata": {},
   "source": [
    "Sudah tidak ada lagi pelanggan yang tercatat secara ganda di grup A dan grup B. Dataframe 'orders' kini telah siap untuk tahap analisis selanjutnya. "
   ]
  },
  {
   "cell_type": "markdown",
   "metadata": {},
   "source": [
    "<div class=\"alert alert-success\">\n",
    "<b>Chamdani's comment v.1</b> <a class=\"tocSkip\"></a>\n",
    "\n",
    "Hebat, Kerja bagus!\n",
    "\n",
    "</div>"
   ]
  },
  {
   "cell_type": "markdown",
   "metadata": {},
   "source": [
    "### Data Kunjungan"
   ]
  },
  {
   "cell_type": "code",
   "execution_count": 20,
   "metadata": {},
   "outputs": [
    {
     "data": {
      "text/html": [
       "<div>\n",
       "<style scoped>\n",
       "    .dataframe tbody tr th:only-of-type {\n",
       "        vertical-align: middle;\n",
       "    }\n",
       "\n",
       "    .dataframe tbody tr th {\n",
       "        vertical-align: top;\n",
       "    }\n",
       "\n",
       "    .dataframe thead th {\n",
       "        text-align: right;\n",
       "    }\n",
       "</style>\n",
       "<table border=\"1\" class=\"dataframe\">\n",
       "  <thead>\n",
       "    <tr style=\"text-align: right;\">\n",
       "      <th></th>\n",
       "      <th>date</th>\n",
       "      <th>group</th>\n",
       "      <th>visits</th>\n",
       "    </tr>\n",
       "  </thead>\n",
       "  <tbody>\n",
       "    <tr>\n",
       "      <th>0</th>\n",
       "      <td>2019-08-01</td>\n",
       "      <td>A</td>\n",
       "      <td>719</td>\n",
       "    </tr>\n",
       "    <tr>\n",
       "      <th>1</th>\n",
       "      <td>2019-08-02</td>\n",
       "      <td>A</td>\n",
       "      <td>619</td>\n",
       "    </tr>\n",
       "    <tr>\n",
       "      <th>2</th>\n",
       "      <td>2019-08-03</td>\n",
       "      <td>A</td>\n",
       "      <td>507</td>\n",
       "    </tr>\n",
       "    <tr>\n",
       "      <th>3</th>\n",
       "      <td>2019-08-04</td>\n",
       "      <td>A</td>\n",
       "      <td>717</td>\n",
       "    </tr>\n",
       "    <tr>\n",
       "      <th>4</th>\n",
       "      <td>2019-08-05</td>\n",
       "      <td>A</td>\n",
       "      <td>756</td>\n",
       "    </tr>\n",
       "  </tbody>\n",
       "</table>\n",
       "</div>"
      ],
      "text/plain": [
       "         date group  visits\n",
       "0  2019-08-01     A     719\n",
       "1  2019-08-02     A     619\n",
       "2  2019-08-03     A     507\n",
       "3  2019-08-04     A     717\n",
       "4  2019-08-05     A     756"
      ]
     },
     "execution_count": 20,
     "metadata": {},
     "output_type": "execute_result"
    }
   ],
   "source": [
    "visits.head()"
   ]
  },
  {
   "cell_type": "code",
   "execution_count": 21,
   "metadata": {},
   "outputs": [
    {
     "name": "stdout",
     "output_type": "stream",
     "text": [
      "<class 'pandas.core.frame.DataFrame'>\n",
      "RangeIndex: 62 entries, 0 to 61\n",
      "Data columns (total 3 columns):\n",
      " #   Column  Non-Null Count  Dtype         \n",
      "---  ------  --------------  -----         \n",
      " 0   date    62 non-null     datetime64[ns]\n",
      " 1   group   62 non-null     object        \n",
      " 2   visits  62 non-null     int64         \n",
      "dtypes: datetime64[ns](1), int64(1), object(1)\n",
      "memory usage: 1.6+ KB\n"
     ]
    }
   ],
   "source": [
    "# Perubahan tipe data kolom date\n",
    "visits['date'] = pd.to_datetime(visits['date'], format='%Y-%m-%d')\n",
    "\n",
    "visits.info()"
   ]
  },
  {
   "cell_type": "markdown",
   "metadata": {},
   "source": [
    "Tipe data kolom **date** telah diubah dari object menjadi datetime. Dataframe visits siap untuk digunakan untuk analisis pada tahap selanjutnya. "
   ]
  },
  {
   "cell_type": "markdown",
   "metadata": {},
   "source": [
    "<div class=\"alert alert-success\">\n",
    "<b>Chamdani's comment v.1</b> <a class=\"tocSkip\"></a>\n",
    "\n",
    "Hebat, Kerja bagus!\n",
    "\n",
    "</div>"
   ]
  },
  {
   "cell_type": "markdown",
   "metadata": {},
   "source": [
    "## Analisis Prioritas Hipotesis"
   ]
  },
  {
   "cell_type": "markdown",
   "metadata": {},
   "source": [
    "Analisis prioritas hipotesis dilakukan dalam rangka meningkatkan efisiensi waktu dan sumber daya terhadap jangkauan dan dampak yang didapatkan. Analisis ini akan menggunakan dua kerangka kerja (framework): ICE dan RICE. "
   ]
  },
  {
   "cell_type": "markdown",
   "metadata": {},
   "source": [
    "### Kerangka Kerja ICE"
   ]
  },
  {
   "cell_type": "code",
   "execution_count": 22,
   "metadata": {},
   "outputs": [
    {
     "data": {
      "text/html": [
       "<div>\n",
       "<style scoped>\n",
       "    .dataframe tbody tr th:only-of-type {\n",
       "        vertical-align: middle;\n",
       "    }\n",
       "\n",
       "    .dataframe tbody tr th {\n",
       "        vertical-align: top;\n",
       "    }\n",
       "\n",
       "    .dataframe thead th {\n",
       "        text-align: right;\n",
       "    }\n",
       "</style>\n",
       "<table border=\"1\" class=\"dataframe\">\n",
       "  <thead>\n",
       "    <tr style=\"text-align: right;\">\n",
       "      <th></th>\n",
       "      <th>hypothesis</th>\n",
       "      <th>reach</th>\n",
       "      <th>impact</th>\n",
       "      <th>confidence</th>\n",
       "      <th>effort</th>\n",
       "      <th>ICE</th>\n",
       "    </tr>\n",
       "  </thead>\n",
       "  <tbody>\n",
       "    <tr>\n",
       "      <th>0</th>\n",
       "      <td>Add two new channels for attracting traffic. T...</td>\n",
       "      <td>3</td>\n",
       "      <td>10</td>\n",
       "      <td>8</td>\n",
       "      <td>6</td>\n",
       "      <td>13.333333</td>\n",
       "    </tr>\n",
       "    <tr>\n",
       "      <th>1</th>\n",
       "      <td>Launch your own delivery service. This will sh...</td>\n",
       "      <td>2</td>\n",
       "      <td>5</td>\n",
       "      <td>4</td>\n",
       "      <td>10</td>\n",
       "      <td>2.000000</td>\n",
       "    </tr>\n",
       "    <tr>\n",
       "      <th>2</th>\n",
       "      <td>Add product recommendation blocks to the store...</td>\n",
       "      <td>8</td>\n",
       "      <td>3</td>\n",
       "      <td>7</td>\n",
       "      <td>3</td>\n",
       "      <td>7.000000</td>\n",
       "    </tr>\n",
       "    <tr>\n",
       "      <th>3</th>\n",
       "      <td>Change the category structure. This will incre...</td>\n",
       "      <td>8</td>\n",
       "      <td>3</td>\n",
       "      <td>3</td>\n",
       "      <td>8</td>\n",
       "      <td>1.125000</td>\n",
       "    </tr>\n",
       "    <tr>\n",
       "      <th>4</th>\n",
       "      <td>Change the background color on the main page. ...</td>\n",
       "      <td>3</td>\n",
       "      <td>1</td>\n",
       "      <td>1</td>\n",
       "      <td>1</td>\n",
       "      <td>1.000000</td>\n",
       "    </tr>\n",
       "  </tbody>\n",
       "</table>\n",
       "</div>"
      ],
      "text/plain": [
       "                                          hypothesis  reach  impact  \\\n",
       "0  Add two new channels for attracting traffic. T...      3      10   \n",
       "1  Launch your own delivery service. This will sh...      2       5   \n",
       "2  Add product recommendation blocks to the store...      8       3   \n",
       "3  Change the category structure. This will incre...      8       3   \n",
       "4  Change the background color on the main page. ...      3       1   \n",
       "\n",
       "   confidence  effort        ICE  \n",
       "0           8       6  13.333333  \n",
       "1           4      10   2.000000  \n",
       "2           7       3   7.000000  \n",
       "3           3       8   1.125000  \n",
       "4           1       1   1.000000  "
      ]
     },
     "execution_count": 22,
     "metadata": {},
     "output_type": "execute_result"
    }
   ],
   "source": [
    "# Menambahkan kolom 'ICE' ke dalam dataframe hypotheses\n",
    "hypotheses['ICE'] = hypotheses['impact']*hypotheses['confidence'] /hypotheses['effort']\n",
    "hypotheses.head()"
   ]
  },
  {
   "cell_type": "code",
   "execution_count": 23,
   "metadata": {},
   "outputs": [
    {
     "data": {
      "text/html": [
       "<div>\n",
       "<style scoped>\n",
       "    .dataframe tbody tr th:only-of-type {\n",
       "        vertical-align: middle;\n",
       "    }\n",
       "\n",
       "    .dataframe tbody tr th {\n",
       "        vertical-align: top;\n",
       "    }\n",
       "\n",
       "    .dataframe thead th {\n",
       "        text-align: right;\n",
       "    }\n",
       "</style>\n",
       "<table border=\"1\" class=\"dataframe\">\n",
       "  <thead>\n",
       "    <tr style=\"text-align: right;\">\n",
       "      <th></th>\n",
       "      <th>hypothesis</th>\n",
       "      <th>ICE</th>\n",
       "    </tr>\n",
       "  </thead>\n",
       "  <tbody>\n",
       "    <tr>\n",
       "      <th>8</th>\n",
       "      <td>Launch a promotion that gives users discounts ...</td>\n",
       "      <td>16.200000</td>\n",
       "    </tr>\n",
       "    <tr>\n",
       "      <th>0</th>\n",
       "      <td>Add two new channels for attracting traffic. T...</td>\n",
       "      <td>13.333333</td>\n",
       "    </tr>\n",
       "    <tr>\n",
       "      <th>7</th>\n",
       "      <td>Add a subscription form to all the main pages....</td>\n",
       "      <td>11.200000</td>\n",
       "    </tr>\n",
       "    <tr>\n",
       "      <th>6</th>\n",
       "      <td>Show banners with current offers and sales on ...</td>\n",
       "      <td>8.000000</td>\n",
       "    </tr>\n",
       "    <tr>\n",
       "      <th>2</th>\n",
       "      <td>Add product recommendation blocks to the store...</td>\n",
       "      <td>7.000000</td>\n",
       "    </tr>\n",
       "    <tr>\n",
       "      <th>1</th>\n",
       "      <td>Launch your own delivery service. This will sh...</td>\n",
       "      <td>2.000000</td>\n",
       "    </tr>\n",
       "    <tr>\n",
       "      <th>5</th>\n",
       "      <td>Add a customer review page. This will increase...</td>\n",
       "      <td>1.333333</td>\n",
       "    </tr>\n",
       "    <tr>\n",
       "      <th>3</th>\n",
       "      <td>Change the category structure. This will incre...</td>\n",
       "      <td>1.125000</td>\n",
       "    </tr>\n",
       "    <tr>\n",
       "      <th>4</th>\n",
       "      <td>Change the background color on the main page. ...</td>\n",
       "      <td>1.000000</td>\n",
       "    </tr>\n",
       "  </tbody>\n",
       "</table>\n",
       "</div>"
      ],
      "text/plain": [
       "                                          hypothesis        ICE\n",
       "8  Launch a promotion that gives users discounts ...  16.200000\n",
       "0  Add two new channels for attracting traffic. T...  13.333333\n",
       "7  Add a subscription form to all the main pages....  11.200000\n",
       "6  Show banners with current offers and sales on ...   8.000000\n",
       "2  Add product recommendation blocks to the store...   7.000000\n",
       "1  Launch your own delivery service. This will sh...   2.000000\n",
       "5  Add a customer review page. This will increase...   1.333333\n",
       "3  Change the category structure. This will incre...   1.125000\n",
       "4  Change the background color on the main page. ...   1.000000"
      ]
     },
     "execution_count": 23,
     "metadata": {},
     "output_type": "execute_result"
    }
   ],
   "source": [
    "# Mengurutkan baris berdasarkan nilai kolom ICE dari tinggi ke rendah\n",
    "hypotheses[['hypothesis', 'ICE']].sort_values('ICE', ascending=False)"
   ]
  },
  {
   "cell_type": "code",
   "execution_count": 24,
   "metadata": {},
   "outputs": [
    {
     "data": {
      "text/plain": [
       "8                            Launch a promotion that gives users discounts on their birthdays\n",
       "0                 Add two new channels for attracting traffic. This will bring 30% more users\n",
       "7    Add a subscription form to all the main pages. This will help you compile a mailing list\n",
       "Name: hypothesis, dtype: object"
      ]
     },
     "execution_count": 24,
     "metadata": {},
     "output_type": "execute_result"
    }
   ],
   "source": [
    "# Mengatur opsi tampilan agar isi kolom hypothesis ditampilkan lengkap\n",
    "pd.set_option('display.max_colwidth', None)\n",
    "\n",
    "# Menampilkan hipotesis 9, 1, dan 8\n",
    "ice_priorities = hypotheses.iloc[[8, 0, 7]]['hypothesis']\n",
    "ice_priorities"
   ]
  },
  {
   "cell_type": "markdown",
   "metadata": {},
   "source": [
    "Berdsarkan kerangka kerja ICE, hipotesis yang merupakan prioritas utama untuk diujikan adalah **meluncurkan promosi yang memberikan diskon kepada pengguna pada hari ulang tahun mereka**. Apabila masih memungkinkan untuk perusahaan melakukan uji hipotesis lain setelahnya, maka hipotesis selanjutnya yang perlu diprioritaskan adalah: \n",
    "\n",
    "- Menambahkan dua saluran untuk menarik *traffic* pengguna sebesar 30%, dan\n",
    "\n",
    "- Menambahkan formulir berlangganan pada seluruh laman utama untuk tersusunnya milis. "
   ]
  },
  {
   "cell_type": "markdown",
   "metadata": {},
   "source": [
    "<div class=\"alert alert-success\">\n",
    "<b>Chamdani's comment v.1</b> <a class=\"tocSkip\"></a>\n",
    "\n",
    "Hebat, Kerja bagus!\n",
    "\n",
    "</div>"
   ]
  },
  {
   "cell_type": "markdown",
   "metadata": {},
   "source": [
    "### Kerangka Kerja RICE"
   ]
  },
  {
   "cell_type": "code",
   "execution_count": 25,
   "metadata": {
    "scrolled": true
   },
   "outputs": [
    {
     "data": {
      "text/html": [
       "<div>\n",
       "<style scoped>\n",
       "    .dataframe tbody tr th:only-of-type {\n",
       "        vertical-align: middle;\n",
       "    }\n",
       "\n",
       "    .dataframe tbody tr th {\n",
       "        vertical-align: top;\n",
       "    }\n",
       "\n",
       "    .dataframe thead th {\n",
       "        text-align: right;\n",
       "    }\n",
       "</style>\n",
       "<table border=\"1\" class=\"dataframe\">\n",
       "  <thead>\n",
       "    <tr style=\"text-align: right;\">\n",
       "      <th></th>\n",
       "      <th>hypothesis</th>\n",
       "      <th>reach</th>\n",
       "      <th>impact</th>\n",
       "      <th>confidence</th>\n",
       "      <th>effort</th>\n",
       "      <th>ICE</th>\n",
       "      <th>RICE</th>\n",
       "    </tr>\n",
       "  </thead>\n",
       "  <tbody>\n",
       "    <tr>\n",
       "      <th>0</th>\n",
       "      <td>Add two new channels for attracting traffic. This will bring 30% more users</td>\n",
       "      <td>3</td>\n",
       "      <td>10</td>\n",
       "      <td>8</td>\n",
       "      <td>6</td>\n",
       "      <td>13.333333</td>\n",
       "      <td>40.0</td>\n",
       "    </tr>\n",
       "    <tr>\n",
       "      <th>1</th>\n",
       "      <td>Launch your own delivery service. This will shorten delivery time</td>\n",
       "      <td>2</td>\n",
       "      <td>5</td>\n",
       "      <td>4</td>\n",
       "      <td>10</td>\n",
       "      <td>2.000000</td>\n",
       "      <td>4.0</td>\n",
       "    </tr>\n",
       "    <tr>\n",
       "      <th>2</th>\n",
       "      <td>Add product recommendation blocks to the store's site. This will increase conversion and average purchase size</td>\n",
       "      <td>8</td>\n",
       "      <td>3</td>\n",
       "      <td>7</td>\n",
       "      <td>3</td>\n",
       "      <td>7.000000</td>\n",
       "      <td>56.0</td>\n",
       "    </tr>\n",
       "    <tr>\n",
       "      <th>3</th>\n",
       "      <td>Change the category structure. This will increase conversion since users will find the products they want more quickly</td>\n",
       "      <td>8</td>\n",
       "      <td>3</td>\n",
       "      <td>3</td>\n",
       "      <td>8</td>\n",
       "      <td>1.125000</td>\n",
       "      <td>9.0</td>\n",
       "    </tr>\n",
       "    <tr>\n",
       "      <th>4</th>\n",
       "      <td>Change the background color on the main page. This will increase user engagement</td>\n",
       "      <td>3</td>\n",
       "      <td>1</td>\n",
       "      <td>1</td>\n",
       "      <td>1</td>\n",
       "      <td>1.000000</td>\n",
       "      <td>3.0</td>\n",
       "    </tr>\n",
       "  </tbody>\n",
       "</table>\n",
       "</div>"
      ],
      "text/plain": [
       "                                                                                                               hypothesis  \\\n",
       "0                                             Add two new channels for attracting traffic. This will bring 30% more users   \n",
       "1                                                       Launch your own delivery service. This will shorten delivery time   \n",
       "2          Add product recommendation blocks to the store's site. This will increase conversion and average purchase size   \n",
       "3  Change the category structure. This will increase conversion since users will find the products they want more quickly   \n",
       "4                                        Change the background color on the main page. This will increase user engagement   \n",
       "\n",
       "   reach  impact  confidence  effort        ICE  RICE  \n",
       "0      3      10           8       6  13.333333  40.0  \n",
       "1      2       5           4      10   2.000000   4.0  \n",
       "2      8       3           7       3   7.000000  56.0  \n",
       "3      8       3           3       8   1.125000   9.0  \n",
       "4      3       1           1       1   1.000000   3.0  "
      ]
     },
     "execution_count": 25,
     "metadata": {},
     "output_type": "execute_result"
    }
   ],
   "source": [
    "# Menambahkan kolom 'RICE' ke dalam dataframe hypotheses\n",
    "hypotheses['RICE'] = hypotheses['reach']*hypotheses['impact']*hypotheses['confidence']/hypotheses['effort']\n",
    "hypotheses.head()"
   ]
  },
  {
   "cell_type": "code",
   "execution_count": 26,
   "metadata": {},
   "outputs": [
    {
     "data": {
      "text/html": [
       "<div>\n",
       "<style scoped>\n",
       "    .dataframe tbody tr th:only-of-type {\n",
       "        vertical-align: middle;\n",
       "    }\n",
       "\n",
       "    .dataframe tbody tr th {\n",
       "        vertical-align: top;\n",
       "    }\n",
       "\n",
       "    .dataframe thead th {\n",
       "        text-align: right;\n",
       "    }\n",
       "</style>\n",
       "<table border=\"1\" class=\"dataframe\">\n",
       "  <thead>\n",
       "    <tr style=\"text-align: right;\">\n",
       "      <th></th>\n",
       "      <th>hypothesis</th>\n",
       "      <th>RICE</th>\n",
       "    </tr>\n",
       "  </thead>\n",
       "  <tbody>\n",
       "    <tr>\n",
       "      <th>7</th>\n",
       "      <td>Add a subscription form to all the main pages. This will help you compile a mailing list</td>\n",
       "      <td>112.0</td>\n",
       "    </tr>\n",
       "    <tr>\n",
       "      <th>2</th>\n",
       "      <td>Add product recommendation blocks to the store's site. This will increase conversion and average purchase size</td>\n",
       "      <td>56.0</td>\n",
       "    </tr>\n",
       "    <tr>\n",
       "      <th>0</th>\n",
       "      <td>Add two new channels for attracting traffic. This will bring 30% more users</td>\n",
       "      <td>40.0</td>\n",
       "    </tr>\n",
       "    <tr>\n",
       "      <th>6</th>\n",
       "      <td>Show banners with current offers and sales on the main page. This will boost conversion</td>\n",
       "      <td>40.0</td>\n",
       "    </tr>\n",
       "    <tr>\n",
       "      <th>8</th>\n",
       "      <td>Launch a promotion that gives users discounts on their birthdays</td>\n",
       "      <td>16.2</td>\n",
       "    </tr>\n",
       "    <tr>\n",
       "      <th>3</th>\n",
       "      <td>Change the category structure. This will increase conversion since users will find the products they want more quickly</td>\n",
       "      <td>9.0</td>\n",
       "    </tr>\n",
       "    <tr>\n",
       "      <th>1</th>\n",
       "      <td>Launch your own delivery service. This will shorten delivery time</td>\n",
       "      <td>4.0</td>\n",
       "    </tr>\n",
       "    <tr>\n",
       "      <th>5</th>\n",
       "      <td>Add a customer review page. This will increase the number of orders</td>\n",
       "      <td>4.0</td>\n",
       "    </tr>\n",
       "    <tr>\n",
       "      <th>4</th>\n",
       "      <td>Change the background color on the main page. This will increase user engagement</td>\n",
       "      <td>3.0</td>\n",
       "    </tr>\n",
       "  </tbody>\n",
       "</table>\n",
       "</div>"
      ],
      "text/plain": [
       "                                                                                                               hypothesis  \\\n",
       "7                                Add a subscription form to all the main pages. This will help you compile a mailing list   \n",
       "2          Add product recommendation blocks to the store's site. This will increase conversion and average purchase size   \n",
       "0                                             Add two new channels for attracting traffic. This will bring 30% more users   \n",
       "6                                 Show banners with current offers and sales on the main page. This will boost conversion   \n",
       "8                                                        Launch a promotion that gives users discounts on their birthdays   \n",
       "3  Change the category structure. This will increase conversion since users will find the products they want more quickly   \n",
       "1                                                       Launch your own delivery service. This will shorten delivery time   \n",
       "5                                                     Add a customer review page. This will increase the number of orders   \n",
       "4                                        Change the background color on the main page. This will increase user engagement   \n",
       "\n",
       "    RICE  \n",
       "7  112.0  \n",
       "2   56.0  \n",
       "0   40.0  \n",
       "6   40.0  \n",
       "8   16.2  \n",
       "3    9.0  \n",
       "1    4.0  \n",
       "5    4.0  \n",
       "4    3.0  "
      ]
     },
     "execution_count": 26,
     "metadata": {},
     "output_type": "execute_result"
    }
   ],
   "source": [
    "# Mengurutkan baris berdasarkan nilai kolom RICE dari tinggi ke rendah\n",
    "hypotheses[['hypothesis', 'RICE']].sort_values('RICE', ascending=False)"
   ]
  },
  {
   "cell_type": "markdown",
   "metadata": {},
   "source": [
    "Terdapat pergeseran peringkat prioritas saat menggunakan kerangka kerja RICE, di mana faktor jangkauan pengguna diperhitungkan. \n",
    "\n",
    "Berdsarkan kerangka kerja RICE, hipotesis yang merupakan prioritas utama untuk diujikan adalah **Menambahkan formulir berlangganan pada seluruh laman utama untuk tersusunnya milis**. Apabila masih memungkinkan untuk perusahaan melakukan uji hipotesis lain setelahnya, maka hipotesis selanjutnya yang perlu diprioritaskan adalah: \n",
    "\n",
    "- Menambahkan blok 'rekomendasi produk' pada situs web toko online untuk meningkatkan konversi dan jumlah rata-rata pembelian, dan \n",
    "\n",
    "- Menambahkan dua saluran untuk menarik traffic pengguna sebesar 30%. "
   ]
  },
  {
   "cell_type": "markdown",
   "metadata": {},
   "source": [
    "<div class=\"alert alert-success\">\n",
    "<b>Chamdani's comment v.1</b> <a class=\"tocSkip\"></a>\n",
    "\n",
    "Hebat, Kerja bagus!\n",
    "\n",
    "</div>"
   ]
  },
  {
   "cell_type": "markdown",
   "metadata": {},
   "source": [
    "### Rekomendasi Prioritas Hipotesis"
   ]
  },
  {
   "cell_type": "markdown",
   "metadata": {},
   "source": [
    "Kedua kerangka kerja (ICE dan RICE) mengembalikan hasil yang berbeda terkait hipotesis mana yang menjadi prioritas utama. Dalam memilih hasil dari kerangka kerja mana yang akan diimplementasikan untuk pengujian, perusahaan perlu mempertimbangkan dua hal, antara lain: \n",
    "\n",
    "1. Seberapa penting ukuran jangkauan audiens bagi perusahaan? Bila dalam model bisnis yang diterapkan **jangkauan audiens dalam jumlah luas** adalah sesuatu yang krusial, maka perusahaan disarankan menjadikan hasil kerangka kerja **RICE** sebagai acuan, di mana hipotesis yang diprioritaskan adalah: **menambahkan formulir berlangganan pada seluruh laman utama untuk tersusunnya milis.**\n",
    "\n",
    "\n",
    "\n",
    "2. Bagaimana kesanggupan sumber daya perusahaan terkait kompleksitas usaha (effort)? Bila secara model bisnis diperlukan **efisiensi waktu dan sumber daya terkait usaha**, maka perusahaan disarankan menjadikan hasil kerangka kerja **ICE** sebagai acuan, di mana hipotesis yang diprioritaskan adalah: **meluncurkan promosi yang memberikan diskon kepada pengguna pada hari ulang tahun mereka.**"
   ]
  },
  {
   "cell_type": "markdown",
   "metadata": {},
   "source": [
    "<div class=\"alert alert-success\">\n",
    "<b>Chamdani's comment v.1</b> <a class=\"tocSkip\"></a>\n",
    "\n",
    "Hebat, Kerja bagus!\n",
    "\n",
    "</div>"
   ]
  },
  {
   "cell_type": "markdown",
   "metadata": {},
   "source": [
    "## Analisis A/B Testing"
   ]
  },
  {
   "cell_type": "markdown",
   "metadata": {},
   "source": [
    "Terdapat dua dataframe yang mencakup informasi aktivitas pelanggan, yakni: dataframe 'orders' untuk aktivitas pembelian, dan dataframe 'visits' untuk aktivitas kunjungan ke situs web. Pelanggan dibagi ke dalam dua kelompok: kelompok kontrol, yang dinamai sebagai Grup A, dan kelompok eksperiem yang dinamai sebagai Grup B. \n",
    "\n",
    "Bagian ini berfokus pada A/B Testing untuk mempelajari apakah terdapat perbedaan signifikan antara kelompok kontrol dan kelompok eksperimen."
   ]
  },
  {
   "cell_type": "markdown",
   "metadata": {},
   "source": [
    "Langkah-langkah analisis bagian ini adalah sebagai berikut:\n",
    "\n",
    "- Memisahkan data penjualan dan kunjungan grup A dengan data penjualan dan kunjungan grup B. \n",
    "- Menguji kesetaraan proporsi grup A dan grup B\n",
    "- Mempelajari perbedaan pendapatan kumulatif kedua grup\n",
    "- Mempelajari perbedaan konversi kumulatif kedua grup\n",
    "- Menentukan anomali dalam data"
   ]
  },
  {
   "cell_type": "markdown",
   "metadata": {},
   "source": [
    "Berikut di bawah ini adalah pembagian dataframe 'orders' berdasarkan kelompok. "
   ]
  },
  {
   "cell_type": "code",
   "execution_count": 27,
   "metadata": {},
   "outputs": [
    {
     "data": {
      "text/html": [
       "<div>\n",
       "<style scoped>\n",
       "    .dataframe tbody tr th:only-of-type {\n",
       "        vertical-align: middle;\n",
       "    }\n",
       "\n",
       "    .dataframe tbody tr th {\n",
       "        vertical-align: top;\n",
       "    }\n",
       "\n",
       "    .dataframe thead th {\n",
       "        text-align: right;\n",
       "    }\n",
       "</style>\n",
       "<table border=\"1\" class=\"dataframe\">\n",
       "  <thead>\n",
       "    <tr style=\"text-align: right;\">\n",
       "      <th></th>\n",
       "      <th>transaction_id</th>\n",
       "      <th>visitor_id</th>\n",
       "      <th>date</th>\n",
       "      <th>revenue</th>\n",
       "      <th>group</th>\n",
       "    </tr>\n",
       "  </thead>\n",
       "  <tbody>\n",
       "    <tr>\n",
       "      <th>7</th>\n",
       "      <td>2626614568</td>\n",
       "      <td>78758296</td>\n",
       "      <td>2019-08-15</td>\n",
       "      <td>20.1</td>\n",
       "      <td>A</td>\n",
       "    </tr>\n",
       "    <tr>\n",
       "      <th>8</th>\n",
       "      <td>1576988021</td>\n",
       "      <td>295230930</td>\n",
       "      <td>2019-08-15</td>\n",
       "      <td>215.9</td>\n",
       "      <td>A</td>\n",
       "    </tr>\n",
       "    <tr>\n",
       "      <th>10</th>\n",
       "      <td>3649131742</td>\n",
       "      <td>879864040</td>\n",
       "      <td>2019-08-15</td>\n",
       "      <td>65.7</td>\n",
       "      <td>A</td>\n",
       "    </tr>\n",
       "    <tr>\n",
       "      <th>12</th>\n",
       "      <td>2809384911</td>\n",
       "      <td>3213223594</td>\n",
       "      <td>2019-08-15</td>\n",
       "      <td>115.4</td>\n",
       "      <td>A</td>\n",
       "    </tr>\n",
       "    <tr>\n",
       "      <th>14</th>\n",
       "      <td>3859315276</td>\n",
       "      <td>1565034404</td>\n",
       "      <td>2019-08-15</td>\n",
       "      <td>170.9</td>\n",
       "      <td>A</td>\n",
       "    </tr>\n",
       "  </tbody>\n",
       "</table>\n",
       "</div>"
      ],
      "text/plain": [
       "    transaction_id  visitor_id       date  revenue group\n",
       "7       2626614568    78758296 2019-08-15     20.1     A\n",
       "8       1576988021   295230930 2019-08-15    215.9     A\n",
       "10      3649131742   879864040 2019-08-15     65.7     A\n",
       "12      2809384911  3213223594 2019-08-15    115.4     A\n",
       "14      3859315276  1565034404 2019-08-15    170.9     A"
      ]
     },
     "execution_count": 27,
     "metadata": {},
     "output_type": "execute_result"
    }
   ],
   "source": [
    "# Membagi dua dataframe berdasarkan grup A/B\n",
    "ordersA = ordersA = orders[orders['group'] == 'A']\n",
    "ordersA.head()"
   ]
  },
  {
   "cell_type": "markdown",
   "metadata": {},
   "source": [
    "Setelah ordersA dipisahkan dari para pelanggan grup B, kini perlu dilakukan pengelompokan data berisi total pengunjung harian, total transaksi harian, serta total revenue harian. "
   ]
  },
  {
   "cell_type": "markdown",
   "metadata": {},
   "source": [
    "<div class=\"alert alert-success\">\n",
    "<b>Chamdani's comment v.1</b> <a class=\"tocSkip\"></a>\n",
    "\n",
    "Hebat, Kerja bagus!\n",
    "\n",
    "</div>"
   ]
  },
  {
   "cell_type": "code",
   "execution_count": 28,
   "metadata": {},
   "outputs": [
    {
     "data": {
      "text/html": [
       "<div>\n",
       "<style scoped>\n",
       "    .dataframe tbody tr th:only-of-type {\n",
       "        vertical-align: middle;\n",
       "    }\n",
       "\n",
       "    .dataframe tbody tr th {\n",
       "        vertical-align: top;\n",
       "    }\n",
       "\n",
       "    .dataframe thead th {\n",
       "        text-align: right;\n",
       "    }\n",
       "</style>\n",
       "<table border=\"1\" class=\"dataframe\">\n",
       "  <thead>\n",
       "    <tr style=\"text-align: right;\">\n",
       "      <th></th>\n",
       "      <th>n_buyers</th>\n",
       "      <th>n_transactions</th>\n",
       "      <th>revenue</th>\n",
       "    </tr>\n",
       "    <tr>\n",
       "      <th>date</th>\n",
       "      <th></th>\n",
       "      <th></th>\n",
       "      <th></th>\n",
       "    </tr>\n",
       "  </thead>\n",
       "  <tbody>\n",
       "    <tr>\n",
       "      <th>2019-08-01</th>\n",
       "      <td>20</td>\n",
       "      <td>24</td>\n",
       "      <td>2356.8</td>\n",
       "    </tr>\n",
       "    <tr>\n",
       "      <th>2019-08-02</th>\n",
       "      <td>18</td>\n",
       "      <td>19</td>\n",
       "      <td>1468.3</td>\n",
       "    </tr>\n",
       "    <tr>\n",
       "      <th>2019-08-03</th>\n",
       "      <td>24</td>\n",
       "      <td>24</td>\n",
       "      <td>1815.2</td>\n",
       "    </tr>\n",
       "    <tr>\n",
       "      <th>2019-08-04</th>\n",
       "      <td>12</td>\n",
       "      <td>12</td>\n",
       "      <td>685.7</td>\n",
       "    </tr>\n",
       "    <tr>\n",
       "      <th>2019-08-05</th>\n",
       "      <td>24</td>\n",
       "      <td>24</td>\n",
       "      <td>1793.3</td>\n",
       "    </tr>\n",
       "  </tbody>\n",
       "</table>\n",
       "</div>"
      ],
      "text/plain": [
       "            n_buyers  n_transactions  revenue\n",
       "date                                         \n",
       "2019-08-01        20              24   2356.8\n",
       "2019-08-02        18              19   1468.3\n",
       "2019-08-03        24              24   1815.2\n",
       "2019-08-04        12              12    685.7\n",
       "2019-08-05        24              24   1793.3"
      ]
     },
     "execution_count": 28,
     "metadata": {},
     "output_type": "execute_result"
    }
   ],
   "source": [
    "# Tabel berisi total pembeli, transaksi, dan revenue per hari\n",
    "ordersA_agg = ordersA.groupby('date').agg({'visitor_id': 'nunique', 'transaction_id': 'nunique', 'revenue': 'sum'})\n",
    "ordersA_agg = ordersA_agg.rename(columns={'transaction_id': 'n_transactions', 'visitor_id': 'n_buyers'})\n",
    "ordersA_agg.head()"
   ]
  },
  {
   "cell_type": "markdown",
   "metadata": {},
   "source": [
    "Hal yang sama dilakukan pada grup B. Pertama, dibuat sebuah dataframe baru yang berisi pembelian hanya dari pelanggan grup B. "
   ]
  },
  {
   "cell_type": "code",
   "execution_count": 29,
   "metadata": {},
   "outputs": [
    {
     "data": {
      "text/html": [
       "<div>\n",
       "<style scoped>\n",
       "    .dataframe tbody tr th:only-of-type {\n",
       "        vertical-align: middle;\n",
       "    }\n",
       "\n",
       "    .dataframe tbody tr th {\n",
       "        vertical-align: top;\n",
       "    }\n",
       "\n",
       "    .dataframe thead th {\n",
       "        text-align: right;\n",
       "    }\n",
       "</style>\n",
       "<table border=\"1\" class=\"dataframe\">\n",
       "  <thead>\n",
       "    <tr style=\"text-align: right;\">\n",
       "      <th></th>\n",
       "      <th>transaction_id</th>\n",
       "      <th>visitor_id</th>\n",
       "      <th>date</th>\n",
       "      <th>revenue</th>\n",
       "      <th>group</th>\n",
       "    </tr>\n",
       "  </thead>\n",
       "  <tbody>\n",
       "    <tr>\n",
       "      <th>0</th>\n",
       "      <td>3667963787</td>\n",
       "      <td>3312258926</td>\n",
       "      <td>2019-08-15</td>\n",
       "      <td>30.4</td>\n",
       "      <td>B</td>\n",
       "    </tr>\n",
       "    <tr>\n",
       "      <th>1</th>\n",
       "      <td>2804400009</td>\n",
       "      <td>3642806036</td>\n",
       "      <td>2019-08-15</td>\n",
       "      <td>15.2</td>\n",
       "      <td>B</td>\n",
       "    </tr>\n",
       "    <tr>\n",
       "      <th>2</th>\n",
       "      <td>2961555356</td>\n",
       "      <td>4069496402</td>\n",
       "      <td>2019-08-15</td>\n",
       "      <td>10.2</td>\n",
       "      <td>B</td>\n",
       "    </tr>\n",
       "    <tr>\n",
       "      <th>3</th>\n",
       "      <td>3797467345</td>\n",
       "      <td>1196621759</td>\n",
       "      <td>2019-08-15</td>\n",
       "      <td>155.1</td>\n",
       "      <td>B</td>\n",
       "    </tr>\n",
       "    <tr>\n",
       "      <th>4</th>\n",
       "      <td>2282983706</td>\n",
       "      <td>2322279887</td>\n",
       "      <td>2019-08-15</td>\n",
       "      <td>40.5</td>\n",
       "      <td>B</td>\n",
       "    </tr>\n",
       "  </tbody>\n",
       "</table>\n",
       "</div>"
      ],
      "text/plain": [
       "   transaction_id  visitor_id       date  revenue group\n",
       "0      3667963787  3312258926 2019-08-15     30.4     B\n",
       "1      2804400009  3642806036 2019-08-15     15.2     B\n",
       "2      2961555356  4069496402 2019-08-15     10.2     B\n",
       "3      3797467345  1196621759 2019-08-15    155.1     B\n",
       "4      2282983706  2322279887 2019-08-15     40.5     B"
      ]
     },
     "execution_count": 29,
     "metadata": {},
     "output_type": "execute_result"
    }
   ],
   "source": [
    "ordersB = orders[orders['group'] == 'B']\n",
    "ordersB.head()"
   ]
  },
  {
   "cell_type": "markdown",
   "metadata": {},
   "source": [
    "Berikut ini adalah pengelompokan data berisi total pengunjung harian, total transaksi harian, serta total revenue harian untuk grup B."
   ]
  },
  {
   "cell_type": "markdown",
   "metadata": {},
   "source": [
    "<div class=\"alert alert-success\">\n",
    "<b>Chamdani's comment v.1</b> <a class=\"tocSkip\"></a>\n",
    "\n",
    "Hebat, Kerja bagus!\n",
    "\n",
    "</div>"
   ]
  },
  {
   "cell_type": "code",
   "execution_count": 30,
   "metadata": {},
   "outputs": [
    {
     "data": {
      "text/html": [
       "<div>\n",
       "<style scoped>\n",
       "    .dataframe tbody tr th:only-of-type {\n",
       "        vertical-align: middle;\n",
       "    }\n",
       "\n",
       "    .dataframe tbody tr th {\n",
       "        vertical-align: top;\n",
       "    }\n",
       "\n",
       "    .dataframe thead th {\n",
       "        text-align: right;\n",
       "    }\n",
       "</style>\n",
       "<table border=\"1\" class=\"dataframe\">\n",
       "  <thead>\n",
       "    <tr style=\"text-align: right;\">\n",
       "      <th></th>\n",
       "      <th>n_buyers</th>\n",
       "      <th>n_transactions</th>\n",
       "      <th>revenue</th>\n",
       "    </tr>\n",
       "    <tr>\n",
       "      <th>date</th>\n",
       "      <th></th>\n",
       "      <th></th>\n",
       "      <th></th>\n",
       "    </tr>\n",
       "  </thead>\n",
       "  <tbody>\n",
       "    <tr>\n",
       "      <th>2019-08-01</th>\n",
       "      <td>20</td>\n",
       "      <td>21</td>\n",
       "      <td>1620.0</td>\n",
       "    </tr>\n",
       "    <tr>\n",
       "      <th>2019-08-02</th>\n",
       "      <td>24</td>\n",
       "      <td>25</td>\n",
       "      <td>2659.0</td>\n",
       "    </tr>\n",
       "    <tr>\n",
       "      <th>2019-08-03</th>\n",
       "      <td>16</td>\n",
       "      <td>16</td>\n",
       "      <td>1806.8</td>\n",
       "    </tr>\n",
       "    <tr>\n",
       "      <th>2019-08-04</th>\n",
       "      <td>17</td>\n",
       "      <td>21</td>\n",
       "      <td>2178.2</td>\n",
       "    </tr>\n",
       "    <tr>\n",
       "      <th>2019-08-05</th>\n",
       "      <td>23</td>\n",
       "      <td>24</td>\n",
       "      <td>1689.8</td>\n",
       "    </tr>\n",
       "  </tbody>\n",
       "</table>\n",
       "</div>"
      ],
      "text/plain": [
       "            n_buyers  n_transactions  revenue\n",
       "date                                         \n",
       "2019-08-01        20              21   1620.0\n",
       "2019-08-02        24              25   2659.0\n",
       "2019-08-03        16              16   1806.8\n",
       "2019-08-04        17              21   2178.2\n",
       "2019-08-05        23              24   1689.8"
      ]
     },
     "execution_count": 30,
     "metadata": {},
     "output_type": "execute_result"
    }
   ],
   "source": [
    "ordersB_agg = ordersB.groupby('date').agg({'visitor_id': 'nunique', 'transaction_id': 'nunique', 'revenue': 'sum'})\n",
    "ordersB_agg = ordersB_agg.rename(columns={'transaction_id': 'n_transactions', 'visitor_id': 'n_buyers'})\n",
    "ordersB_agg.head()"
   ]
  },
  {
   "cell_type": "markdown",
   "metadata": {},
   "source": [
    "Pembagian yang sama dilakukan untuk dataframe kunjungan. Berikut ini adalah pemisahan pengunjung situs grup A dari grup B."
   ]
  },
  {
   "cell_type": "code",
   "execution_count": 31,
   "metadata": {},
   "outputs": [
    {
     "data": {
      "text/html": [
       "<div>\n",
       "<style scoped>\n",
       "    .dataframe tbody tr th:only-of-type {\n",
       "        vertical-align: middle;\n",
       "    }\n",
       "\n",
       "    .dataframe tbody tr th {\n",
       "        vertical-align: top;\n",
       "    }\n",
       "\n",
       "    .dataframe thead th {\n",
       "        text-align: right;\n",
       "    }\n",
       "</style>\n",
       "<table border=\"1\" class=\"dataframe\">\n",
       "  <thead>\n",
       "    <tr style=\"text-align: right;\">\n",
       "      <th></th>\n",
       "      <th>date</th>\n",
       "      <th>group</th>\n",
       "      <th>visits</th>\n",
       "    </tr>\n",
       "  </thead>\n",
       "  <tbody>\n",
       "    <tr>\n",
       "      <th>0</th>\n",
       "      <td>2019-08-01</td>\n",
       "      <td>A</td>\n",
       "      <td>719</td>\n",
       "    </tr>\n",
       "    <tr>\n",
       "      <th>1</th>\n",
       "      <td>2019-08-02</td>\n",
       "      <td>A</td>\n",
       "      <td>619</td>\n",
       "    </tr>\n",
       "    <tr>\n",
       "      <th>2</th>\n",
       "      <td>2019-08-03</td>\n",
       "      <td>A</td>\n",
       "      <td>507</td>\n",
       "    </tr>\n",
       "    <tr>\n",
       "      <th>3</th>\n",
       "      <td>2019-08-04</td>\n",
       "      <td>A</td>\n",
       "      <td>717</td>\n",
       "    </tr>\n",
       "    <tr>\n",
       "      <th>4</th>\n",
       "      <td>2019-08-05</td>\n",
       "      <td>A</td>\n",
       "      <td>756</td>\n",
       "    </tr>\n",
       "  </tbody>\n",
       "</table>\n",
       "</div>"
      ],
      "text/plain": [
       "        date group  visits\n",
       "0 2019-08-01     A     719\n",
       "1 2019-08-02     A     619\n",
       "2 2019-08-03     A     507\n",
       "3 2019-08-04     A     717\n",
       "4 2019-08-05     A     756"
      ]
     },
     "execution_count": 31,
     "metadata": {},
     "output_type": "execute_result"
    }
   ],
   "source": [
    "visitsA = visits[visits['group'] == 'A']\n",
    "visitsA.head()"
   ]
  },
  {
   "cell_type": "code",
   "execution_count": 32,
   "metadata": {},
   "outputs": [
    {
     "data": {
      "text/html": [
       "<div>\n",
       "<style scoped>\n",
       "    .dataframe tbody tr th:only-of-type {\n",
       "        vertical-align: middle;\n",
       "    }\n",
       "\n",
       "    .dataframe tbody tr th {\n",
       "        vertical-align: top;\n",
       "    }\n",
       "\n",
       "    .dataframe thead th {\n",
       "        text-align: right;\n",
       "    }\n",
       "</style>\n",
       "<table border=\"1\" class=\"dataframe\">\n",
       "  <thead>\n",
       "    <tr style=\"text-align: right;\">\n",
       "      <th></th>\n",
       "      <th>date</th>\n",
       "      <th>group</th>\n",
       "      <th>visits</th>\n",
       "    </tr>\n",
       "  </thead>\n",
       "  <tbody>\n",
       "    <tr>\n",
       "      <th>31</th>\n",
       "      <td>2019-08-01</td>\n",
       "      <td>B</td>\n",
       "      <td>713</td>\n",
       "    </tr>\n",
       "    <tr>\n",
       "      <th>32</th>\n",
       "      <td>2019-08-02</td>\n",
       "      <td>B</td>\n",
       "      <td>581</td>\n",
       "    </tr>\n",
       "    <tr>\n",
       "      <th>33</th>\n",
       "      <td>2019-08-03</td>\n",
       "      <td>B</td>\n",
       "      <td>509</td>\n",
       "    </tr>\n",
       "    <tr>\n",
       "      <th>34</th>\n",
       "      <td>2019-08-04</td>\n",
       "      <td>B</td>\n",
       "      <td>770</td>\n",
       "    </tr>\n",
       "    <tr>\n",
       "      <th>35</th>\n",
       "      <td>2019-08-05</td>\n",
       "      <td>B</td>\n",
       "      <td>707</td>\n",
       "    </tr>\n",
       "  </tbody>\n",
       "</table>\n",
       "</div>"
      ],
      "text/plain": [
       "         date group  visits\n",
       "31 2019-08-01     B     713\n",
       "32 2019-08-02     B     581\n",
       "33 2019-08-03     B     509\n",
       "34 2019-08-04     B     770\n",
       "35 2019-08-05     B     707"
      ]
     },
     "execution_count": 32,
     "metadata": {},
     "output_type": "execute_result"
    }
   ],
   "source": [
    "visitsB = visits[visits['group'] == 'B']\n",
    "visitsB.head()"
   ]
  },
  {
   "cell_type": "markdown",
   "metadata": {},
   "source": [
    "Setelah data kunjungan dipisahkan berdasarkan grup, langkah selanjutnya adalah menggabungkannya dengan data penjualan dari masing-masing grup, sehingga dapat dilakukan penghitungan konversi."
   ]
  },
  {
   "cell_type": "markdown",
   "metadata": {},
   "source": [
    "<div class=\"alert alert-success\">\n",
    "<b>Chamdani's comment v.1</b> <a class=\"tocSkip\"></a>\n",
    "\n",
    "Hebat, Kerja bagus!\n",
    "\n",
    "</div>"
   ]
  },
  {
   "cell_type": "code",
   "execution_count": 33,
   "metadata": {
    "scrolled": true
   },
   "outputs": [
    {
     "data": {
      "text/html": [
       "<div>\n",
       "<style scoped>\n",
       "    .dataframe tbody tr th:only-of-type {\n",
       "        vertical-align: middle;\n",
       "    }\n",
       "\n",
       "    .dataframe tbody tr th {\n",
       "        vertical-align: top;\n",
       "    }\n",
       "\n",
       "    .dataframe thead th {\n",
       "        text-align: right;\n",
       "    }\n",
       "</style>\n",
       "<table border=\"1\" class=\"dataframe\">\n",
       "  <thead>\n",
       "    <tr style=\"text-align: right;\">\n",
       "      <th></th>\n",
       "      <th>date</th>\n",
       "      <th>n_buyers</th>\n",
       "      <th>n_transactions</th>\n",
       "      <th>revenue</th>\n",
       "      <th>group</th>\n",
       "      <th>visits</th>\n",
       "    </tr>\n",
       "  </thead>\n",
       "  <tbody>\n",
       "    <tr>\n",
       "      <th>0</th>\n",
       "      <td>2019-08-01</td>\n",
       "      <td>20</td>\n",
       "      <td>24</td>\n",
       "      <td>2356.8</td>\n",
       "      <td>A</td>\n",
       "      <td>719</td>\n",
       "    </tr>\n",
       "    <tr>\n",
       "      <th>1</th>\n",
       "      <td>2019-08-02</td>\n",
       "      <td>18</td>\n",
       "      <td>19</td>\n",
       "      <td>1468.3</td>\n",
       "      <td>A</td>\n",
       "      <td>619</td>\n",
       "    </tr>\n",
       "    <tr>\n",
       "      <th>2</th>\n",
       "      <td>2019-08-03</td>\n",
       "      <td>24</td>\n",
       "      <td>24</td>\n",
       "      <td>1815.2</td>\n",
       "      <td>A</td>\n",
       "      <td>507</td>\n",
       "    </tr>\n",
       "    <tr>\n",
       "      <th>3</th>\n",
       "      <td>2019-08-04</td>\n",
       "      <td>12</td>\n",
       "      <td>12</td>\n",
       "      <td>685.7</td>\n",
       "      <td>A</td>\n",
       "      <td>717</td>\n",
       "    </tr>\n",
       "    <tr>\n",
       "      <th>4</th>\n",
       "      <td>2019-08-05</td>\n",
       "      <td>24</td>\n",
       "      <td>24</td>\n",
       "      <td>1793.3</td>\n",
       "      <td>A</td>\n",
       "      <td>756</td>\n",
       "    </tr>\n",
       "  </tbody>\n",
       "</table>\n",
       "</div>"
      ],
      "text/plain": [
       "        date  n_buyers  n_transactions  revenue group  visits\n",
       "0 2019-08-01        20              24   2356.8     A     719\n",
       "1 2019-08-02        18              19   1468.3     A     619\n",
       "2 2019-08-03        24              24   1815.2     A     507\n",
       "3 2019-08-04        12              12    685.7     A     717\n",
       "4 2019-08-05        24              24   1793.3     A     756"
      ]
     },
     "execution_count": 33,
     "metadata": {},
     "output_type": "execute_result"
    }
   ],
   "source": [
    "df_a = pd.merge(ordersA_agg, visitsA, on = 'date')\n",
    "df_a.head()"
   ]
  },
  {
   "cell_type": "code",
   "execution_count": 34,
   "metadata": {},
   "outputs": [
    {
     "data": {
      "text/html": [
       "<div>\n",
       "<style scoped>\n",
       "    .dataframe tbody tr th:only-of-type {\n",
       "        vertical-align: middle;\n",
       "    }\n",
       "\n",
       "    .dataframe tbody tr th {\n",
       "        vertical-align: top;\n",
       "    }\n",
       "\n",
       "    .dataframe thead th {\n",
       "        text-align: right;\n",
       "    }\n",
       "</style>\n",
       "<table border=\"1\" class=\"dataframe\">\n",
       "  <thead>\n",
       "    <tr style=\"text-align: right;\">\n",
       "      <th></th>\n",
       "      <th>date</th>\n",
       "      <th>n_buyers</th>\n",
       "      <th>n_transactions</th>\n",
       "      <th>revenue</th>\n",
       "      <th>group</th>\n",
       "      <th>visits</th>\n",
       "    </tr>\n",
       "  </thead>\n",
       "  <tbody>\n",
       "    <tr>\n",
       "      <th>0</th>\n",
       "      <td>2019-08-01</td>\n",
       "      <td>20</td>\n",
       "      <td>21</td>\n",
       "      <td>1620.0</td>\n",
       "      <td>B</td>\n",
       "      <td>713</td>\n",
       "    </tr>\n",
       "    <tr>\n",
       "      <th>1</th>\n",
       "      <td>2019-08-02</td>\n",
       "      <td>24</td>\n",
       "      <td>25</td>\n",
       "      <td>2659.0</td>\n",
       "      <td>B</td>\n",
       "      <td>581</td>\n",
       "    </tr>\n",
       "    <tr>\n",
       "      <th>2</th>\n",
       "      <td>2019-08-03</td>\n",
       "      <td>16</td>\n",
       "      <td>16</td>\n",
       "      <td>1806.8</td>\n",
       "      <td>B</td>\n",
       "      <td>509</td>\n",
       "    </tr>\n",
       "    <tr>\n",
       "      <th>3</th>\n",
       "      <td>2019-08-04</td>\n",
       "      <td>17</td>\n",
       "      <td>21</td>\n",
       "      <td>2178.2</td>\n",
       "      <td>B</td>\n",
       "      <td>770</td>\n",
       "    </tr>\n",
       "    <tr>\n",
       "      <th>4</th>\n",
       "      <td>2019-08-05</td>\n",
       "      <td>23</td>\n",
       "      <td>24</td>\n",
       "      <td>1689.8</td>\n",
       "      <td>B</td>\n",
       "      <td>707</td>\n",
       "    </tr>\n",
       "  </tbody>\n",
       "</table>\n",
       "</div>"
      ],
      "text/plain": [
       "        date  n_buyers  n_transactions  revenue group  visits\n",
       "0 2019-08-01        20              21   1620.0     B     713\n",
       "1 2019-08-02        24              25   2659.0     B     581\n",
       "2 2019-08-03        16              16   1806.8     B     509\n",
       "3 2019-08-04        17              21   2178.2     B     770\n",
       "4 2019-08-05        23              24   1689.8     B     707"
      ]
     },
     "execution_count": 34,
     "metadata": {},
     "output_type": "execute_result"
    }
   ],
   "source": [
    "df_b = pd.merge(ordersB_agg, visitsB, on = 'date')\n",
    "df_b.head()"
   ]
  },
  {
   "cell_type": "markdown",
   "metadata": {},
   "source": [
    "Kini telah tersedia dataframe terpisah untuk grup A dan grup B, yang masing-masing memuat informasi lengkap terkait: jumlah pembeli harian, jumlah transaksi harian, jumlah pengunjung harian, total pendapatan harian. Sebelum mempelajari perbedaan pendapatan kumulatif dan konversi kumulatif, akan dilakukan terlebih dahulu pengujian kesetaraan proporsi. "
   ]
  },
  {
   "cell_type": "markdown",
   "metadata": {},
   "source": [
    "<div class=\"alert alert-success\">\n",
    "<b>Chamdani's comment v.1</b> <a class=\"tocSkip\"></a>\n",
    "\n",
    "Hebat, Kerja bagus!\n",
    "\n",
    "</div>"
   ]
  },
  {
   "cell_type": "markdown",
   "metadata": {},
   "source": [
    "### Uji Kesetaraan Proporsi"
   ]
  },
  {
   "cell_type": "markdown",
   "metadata": {},
   "source": [
    "Bagian ini berfokus untuk memeriksa apakah proporsi pengunjung dan pembeli pada grup A setara dengan proporsi pengunjung dan pembeli pada grup B. Idealnya, kelompok kontrol dan kelompok eksperimen memiliki proporsi yang setara. Sehingga hasil A/B testing benar-benar mencerminkan hasil dari perbedaan treatment antara kedua kelompok, dan bukan dikarenakan faktor lain. \n",
    "\n",
    "Bila ternyata proporsi kedua kelompok tidak setara, maka perlu diperiksa dan ditangani terlebih dahulu masalah yang menyebabkan ketidaksetaraan tersebut."
   ]
  },
  {
   "cell_type": "code",
   "execution_count": 35,
   "metadata": {},
   "outputs": [
    {
     "name": "stdout",
     "output_type": "stream",
     "text": [
      "p-value:  0.005817967380937317\n",
      "Menolak hipotesis nol: ada perbedaan yang signifikan di antara proporsinya\n"
     ]
    }
   ],
   "source": [
    "alpha = .05\n",
    "\n",
    "purchases = np.array([df_a['n_buyers'].sum(), df_b['n_buyers'].sum()])\n",
    "leads = np.array([df_a['visits'].sum(), df_a['visits'].sum()])\n",
    "\n",
    "p1 = purchases[0]/leads[0]\n",
    "p2 = purchases[1]/leads[1]\n",
    "\n",
    "p_combined = (purchases[0] + purchases[1]) / (leads[0] + leads[1])\n",
    "difference = p1 - p2\n",
    "\n",
    "z_value = difference / mth.sqrt(p_combined * (1 - p_combined) * (1/leads[0] + 1/leads[1]))\n",
    "\n",
    "distr = st.norm(0, 1)\n",
    "\n",
    "p_value = (1 - distr.cdf(abs(z_value))) * 2\n",
    "\n",
    "print('p-value: ', p_value)\n",
    "\n",
    "if (p_value < alpha):\n",
    "    print(\"Menolak hipotesis nol: ada perbedaan yang signifikan di antara proporsinya\")\n",
    "else:\n",
    "    print(\"Gagal untuk menolak hipotesis nol: tidak ada alasan untuk mempertimbangkan bahwa proporsinya berbeda\")"
   ]
  },
  {
   "cell_type": "markdown",
   "metadata": {},
   "source": [
    "Uji kesetaraan proporsi menunjukkan bahwa **kedua kelompok memiliki proporsi penjualan dan kunjungan yang berbeda secara signifikan**. Biasanya ketidaksetaraan proporsi disebabkan oleh adanya anomali; data dengan nilai ekstrem namun frekuensi rendah, sehingga membuat bentuk distribusi tidak normal. Apabila anomali tidak ditangani, maka besar kemungkinan hasil analisis kurang akurat dalam menggambarkan keadaan faktual pada populasi. \n",
    "\n",
    "Akan dilakukan analisis pendapatan kumulatif dan analisis konversi kumulatif menggunakan dua dataset, yaitu: data mentah (yang masih mengandung anomali), dan data yang telah di-filter. Hasil dari keduanya kemudian akan diuji untuk mengetahui apakah perbedaannya signifikan. \n"
   ]
  },
  {
   "cell_type": "markdown",
   "metadata": {},
   "source": [
    "<div class=\"alert alert-success\">\n",
    "<b>Chamdani's comment v.1</b> <a class=\"tocSkip\"></a>\n",
    "\n",
    "Hebat, Kerja bagus!\n",
    "\n",
    "</div>"
   ]
  },
  {
   "cell_type": "markdown",
   "metadata": {},
   "source": [
    "### Pendapatan Kumulatif"
   ]
  },
  {
   "cell_type": "markdown",
   "metadata": {},
   "source": [
    "**Pendapatan kumulatif** adalah perhitungan berdasarkan total pendapatan gabungan tiap hari. Pendekatan ini dilakukan untuk menggambarkan tiap kelompok uji secara lebih baik dibandingkan pendekatan pendapatan harian yang hasilnya sangat berfluktuasi. "
   ]
  },
  {
   "cell_type": "markdown",
   "metadata": {},
   "source": [
    "Penghitungan pendapatan kumulatif dimulai dengan membuat sebuat tabel yang berisi informasi:\n",
    "- Jumlah transaksi harian masing-masing grup,\n",
    "- Jumlah pembeli harian masing-masing grup,\n",
    "- Total pendapatan (revenue) harian masing-masing grup\n",
    "\n",
    "Ketiga informasi tersebut dapat diakses dari DataFrame 'orders'. Maka perlu dibuat sebuah DataFrame baru yang berisi agregasi dari ketiga informasi tersebut. "
   ]
  },
  {
   "cell_type": "code",
   "execution_count": 36,
   "metadata": {},
   "outputs": [
    {
     "data": {
      "text/html": [
       "<div>\n",
       "<style scoped>\n",
       "    .dataframe tbody tr th:only-of-type {\n",
       "        vertical-align: middle;\n",
       "    }\n",
       "\n",
       "    .dataframe tbody tr th {\n",
       "        vertical-align: top;\n",
       "    }\n",
       "\n",
       "    .dataframe thead th {\n",
       "        text-align: right;\n",
       "    }\n",
       "</style>\n",
       "<table border=\"1\" class=\"dataframe\">\n",
       "  <thead>\n",
       "    <tr style=\"text-align: right;\">\n",
       "      <th></th>\n",
       "      <th>date</th>\n",
       "      <th>group</th>\n",
       "    </tr>\n",
       "  </thead>\n",
       "  <tbody>\n",
       "    <tr>\n",
       "      <th>0</th>\n",
       "      <td>2019-08-15</td>\n",
       "      <td>B</td>\n",
       "    </tr>\n",
       "    <tr>\n",
       "      <th>7</th>\n",
       "      <td>2019-08-15</td>\n",
       "      <td>A</td>\n",
       "    </tr>\n",
       "    <tr>\n",
       "      <th>45</th>\n",
       "      <td>2019-08-16</td>\n",
       "      <td>A</td>\n",
       "    </tr>\n",
       "    <tr>\n",
       "      <th>47</th>\n",
       "      <td>2019-08-16</td>\n",
       "      <td>B</td>\n",
       "    </tr>\n",
       "    <tr>\n",
       "      <th>55</th>\n",
       "      <td>2019-08-01</td>\n",
       "      <td>A</td>\n",
       "    </tr>\n",
       "  </tbody>\n",
       "</table>\n",
       "</div>"
      ],
      "text/plain": [
       "         date group\n",
       "0  2019-08-15     B\n",
       "7  2019-08-15     A\n",
       "45 2019-08-16     A\n",
       "47 2019-08-16     B\n",
       "55 2019-08-01     A"
      ]
     },
     "execution_count": 36,
     "metadata": {},
     "output_type": "execute_result"
    }
   ],
   "source": [
    "# Membuat DataFrame baru dengan nilai 'date' dan 'group' berpasangan yang unik dari DataFrame 'orders'. \n",
    "datesGroups = orders[['date', 'group']].drop_duplicates()\n",
    "\n",
    "datesGroups.head()"
   ]
  },
  {
   "cell_type": "markdown",
   "metadata": {},
   "source": [
    "Setelah membuat dataframe pasangan tanggal unik dan nama grup, perlu diberlakukan fungsi agregat agar nilai revenue, pengunjung, dan transaksi perharinya merupakan total dari hari tersebut dan hari-hari yang telah dilalui."
   ]
  },
  {
   "cell_type": "code",
   "execution_count": 37,
   "metadata": {},
   "outputs": [
    {
     "data": {
      "text/html": [
       "<div>\n",
       "<style scoped>\n",
       "    .dataframe tbody tr th:only-of-type {\n",
       "        vertical-align: middle;\n",
       "    }\n",
       "\n",
       "    .dataframe tbody tr th {\n",
       "        vertical-align: top;\n",
       "    }\n",
       "\n",
       "    .dataframe thead th {\n",
       "        text-align: right;\n",
       "    }\n",
       "</style>\n",
       "<table border=\"1\" class=\"dataframe\">\n",
       "  <thead>\n",
       "    <tr style=\"text-align: right;\">\n",
       "      <th></th>\n",
       "      <th>date</th>\n",
       "      <th>group</th>\n",
       "      <th>transaction_id</th>\n",
       "      <th>visitor_id</th>\n",
       "      <th>revenue</th>\n",
       "    </tr>\n",
       "  </thead>\n",
       "  <tbody>\n",
       "    <tr>\n",
       "      <th>55</th>\n",
       "      <td>2019-08-01</td>\n",
       "      <td>A</td>\n",
       "      <td>24</td>\n",
       "      <td>20</td>\n",
       "      <td>2356.8</td>\n",
       "    </tr>\n",
       "    <tr>\n",
       "      <th>66</th>\n",
       "      <td>2019-08-01</td>\n",
       "      <td>B</td>\n",
       "      <td>21</td>\n",
       "      <td>20</td>\n",
       "      <td>1620.0</td>\n",
       "    </tr>\n",
       "    <tr>\n",
       "      <th>175</th>\n",
       "      <td>2019-08-02</td>\n",
       "      <td>A</td>\n",
       "      <td>43</td>\n",
       "      <td>37</td>\n",
       "      <td>3825.1</td>\n",
       "    </tr>\n",
       "    <tr>\n",
       "      <th>173</th>\n",
       "      <td>2019-08-02</td>\n",
       "      <td>B</td>\n",
       "      <td>46</td>\n",
       "      <td>43</td>\n",
       "      <td>4279.0</td>\n",
       "    </tr>\n",
       "    <tr>\n",
       "      <th>291</th>\n",
       "      <td>2019-08-03</td>\n",
       "      <td>A</td>\n",
       "      <td>67</td>\n",
       "      <td>61</td>\n",
       "      <td>5640.3</td>\n",
       "    </tr>\n",
       "  </tbody>\n",
       "</table>\n",
       "</div>"
      ],
      "text/plain": [
       "          date group  transaction_id  visitor_id  revenue\n",
       "55  2019-08-01     A              24          20   2356.8\n",
       "66  2019-08-01     B              21          20   1620.0\n",
       "175 2019-08-02     A              43          37   3825.1\n",
       "173 2019-08-02     B              46          43   4279.0\n",
       "291 2019-08-03     A              67          61   5640.3"
      ]
     },
     "execution_count": 37,
     "metadata": {},
     "output_type": "execute_result"
    }
   ],
   "source": [
    "# Tabel ordersAggregated\n",
    "ordersAggregated = datesGroups.apply(\n",
    "    lambda x: orders[\n",
    "        np.logical_and(\n",
    "            orders['date'] <= x['date'], orders['group'] == x['group']\n",
    "        )\n",
    "    ].agg(\n",
    "        {\n",
    "            'date': 'max',\n",
    "            'group': 'max',\n",
    "            'transaction_id': pd.Series.nunique,\n",
    "            'visitor_id': pd.Series.nunique,\n",
    "            'revenue': 'sum',\n",
    "        }\n",
    "    ),\n",
    "    axis=1,\n",
    ").sort_values(by=['date', 'group'])\n",
    "\n",
    "ordersAggregated.head()"
   ]
  },
  {
   "cell_type": "markdown",
   "metadata": {},
   "source": [
    "Tabel 'ordersAggregated' di atas memuat informasi jumlah transaksi, jumlah pembeli, dan total pendapatan masing-masing grup per harinya. Karena dalam tabel ini data grup A dan grup B masih menyatu, maka perlu dilakukan pengelompokan  terlebih dahulu berdasarkan grup, untuk dapat diamati perbedaannya. "
   ]
  },
  {
   "cell_type": "markdown",
   "metadata": {},
   "source": [
    "<div class=\"alert alert-success\">\n",
    "<b>Chamdani's comment v.1</b> <a class=\"tocSkip\"></a>\n",
    "\n",
    "Hebat, Kerja bagus!\n",
    "\n",
    "</div>"
   ]
  },
  {
   "cell_type": "markdown",
   "metadata": {},
   "source": [
    "#### Pendapatan Kumulatif per Kelompok"
   ]
  },
  {
   "cell_type": "code",
   "execution_count": 38,
   "metadata": {},
   "outputs": [
    {
     "data": {
      "text/html": [
       "<div>\n",
       "<style scoped>\n",
       "    .dataframe tbody tr th:only-of-type {\n",
       "        vertical-align: middle;\n",
       "    }\n",
       "\n",
       "    .dataframe tbody tr th {\n",
       "        vertical-align: top;\n",
       "    }\n",
       "\n",
       "    .dataframe thead th {\n",
       "        text-align: right;\n",
       "    }\n",
       "</style>\n",
       "<table border=\"1\" class=\"dataframe\">\n",
       "  <thead>\n",
       "    <tr style=\"text-align: right;\">\n",
       "      <th></th>\n",
       "      <th>date</th>\n",
       "      <th>revenue</th>\n",
       "      <th>transaction_id</th>\n",
       "    </tr>\n",
       "  </thead>\n",
       "  <tbody>\n",
       "    <tr>\n",
       "      <th>716</th>\n",
       "      <td>2019-08-27</td>\n",
       "      <td>57506.4</td>\n",
       "      <td>492</td>\n",
       "    </tr>\n",
       "    <tr>\n",
       "      <th>306</th>\n",
       "      <td>2019-08-28</td>\n",
       "      <td>59099.4</td>\n",
       "      <td>509</td>\n",
       "    </tr>\n",
       "    <tr>\n",
       "      <th>532</th>\n",
       "      <td>2019-08-29</td>\n",
       "      <td>65450.8</td>\n",
       "      <td>532</td>\n",
       "    </tr>\n",
       "    <tr>\n",
       "      <th>730</th>\n",
       "      <td>2019-08-30</td>\n",
       "      <td>66921.6</td>\n",
       "      <td>546</td>\n",
       "    </tr>\n",
       "    <tr>\n",
       "      <th>958</th>\n",
       "      <td>2019-08-31</td>\n",
       "      <td>68132.2</td>\n",
       "      <td>558</td>\n",
       "    </tr>\n",
       "  </tbody>\n",
       "</table>\n",
       "</div>"
      ],
      "text/plain": [
       "          date  revenue  transaction_id\n",
       "716 2019-08-27  57506.4             492\n",
       "306 2019-08-28  59099.4             509\n",
       "532 2019-08-29  65450.8             532\n",
       "730 2019-08-30  66921.6             546\n",
       "958 2019-08-31  68132.2             558"
      ]
     },
     "execution_count": 38,
     "metadata": {},
     "output_type": "execute_result"
    }
   ],
   "source": [
    "# Membuat tabel pendapatan kumulatif dari grup A \n",
    "cumulativeRevenueA = ordersAggregated[ordersAggregated['group'] == 'A'][\n",
    "    ['date', 'revenue', 'transaction_id']\n",
    "]\n",
    "\n",
    "cumulativeRevenueA.tail()"
   ]
  },
  {
   "cell_type": "markdown",
   "metadata": {},
   "source": [
    "Tabel 'cumulativeRevenueA' menunjukkan bahwa pada akhir waktu pengumpulan data (31 Agustus 2019), kelompok A memiliki pendapatan kumulatif sebesar **$ 68,132.2** dengan total **558 transaksi**."
   ]
  },
  {
   "cell_type": "markdown",
   "metadata": {},
   "source": [
    "<div class=\"alert alert-success\">\n",
    "<b>Chamdani's comment v.1</b> <a class=\"tocSkip\"></a>\n",
    "\n",
    "Hebat, Kerja bagus!\n",
    "\n",
    "</div>"
   ]
  },
  {
   "cell_type": "code",
   "execution_count": 39,
   "metadata": {},
   "outputs": [
    {
     "data": {
      "text/html": [
       "<div>\n",
       "<style scoped>\n",
       "    .dataframe tbody tr th:only-of-type {\n",
       "        vertical-align: middle;\n",
       "    }\n",
       "\n",
       "    .dataframe tbody tr th {\n",
       "        vertical-align: top;\n",
       "    }\n",
       "\n",
       "    .dataframe thead th {\n",
       "        text-align: right;\n",
       "    }\n",
       "</style>\n",
       "<table border=\"1\" class=\"dataframe\">\n",
       "  <thead>\n",
       "    <tr style=\"text-align: right;\">\n",
       "      <th></th>\n",
       "      <th>date</th>\n",
       "      <th>revenue</th>\n",
       "      <th>transaction_id</th>\n",
       "    </tr>\n",
       "  </thead>\n",
       "  <tbody>\n",
       "    <tr>\n",
       "      <th>715</th>\n",
       "      <td>2019-08-27</td>\n",
       "      <td>80256.0</td>\n",
       "      <td>551</td>\n",
       "    </tr>\n",
       "    <tr>\n",
       "      <th>304</th>\n",
       "      <td>2019-08-28</td>\n",
       "      <td>81823.6</td>\n",
       "      <td>579</td>\n",
       "    </tr>\n",
       "    <tr>\n",
       "      <th>496</th>\n",
       "      <td>2019-08-29</td>\n",
       "      <td>84091.4</td>\n",
       "      <td>598</td>\n",
       "    </tr>\n",
       "    <tr>\n",
       "      <th>690</th>\n",
       "      <td>2019-08-30</td>\n",
       "      <td>87378.2</td>\n",
       "      <td>619</td>\n",
       "    </tr>\n",
       "    <tr>\n",
       "      <th>930</th>\n",
       "      <td>2019-08-31</td>\n",
       "      <td>89263.3</td>\n",
       "      <td>639</td>\n",
       "    </tr>\n",
       "  </tbody>\n",
       "</table>\n",
       "</div>"
      ],
      "text/plain": [
       "          date  revenue  transaction_id\n",
       "715 2019-08-27  80256.0             551\n",
       "304 2019-08-28  81823.6             579\n",
       "496 2019-08-29  84091.4             598\n",
       "690 2019-08-30  87378.2             619\n",
       "930 2019-08-31  89263.3             639"
      ]
     },
     "execution_count": 39,
     "metadata": {},
     "output_type": "execute_result"
    }
   ],
   "source": [
    "# Membuat tabel pendapatan kumulatif dari grup B \n",
    "cumulativeRevenueB = ordersAggregated[ordersAggregated['group'] == 'B'][\n",
    "    ['date', 'revenue', 'transaction_id']\n",
    "]\n",
    "\n",
    "cumulativeRevenueB.tail()"
   ]
  },
  {
   "cell_type": "markdown",
   "metadata": {},
   "source": [
    "Tabel 'cumulativeRevenueB' menunjukkan bahwa pada akhir waktu pengumpulan data (31 Agustus 2019), kelompok B memiliki pendapatan kumulatif sebesar **$ 89,263.3** dengan total **639 transaksi**."
   ]
  },
  {
   "cell_type": "markdown",
   "metadata": {},
   "source": [
    "<div class=\"alert alert-success\">\n",
    "<b>Chamdani's comment v.1</b> <a class=\"tocSkip\"></a>\n",
    "\n",
    "Hebat, Kerja bagus!\n",
    "\n",
    "</div>"
   ]
  },
  {
   "cell_type": "markdown",
   "metadata": {},
   "source": [
    "Berikut adalah grafik perbandingan pendapatan kumulatif kedua kelompok:"
   ]
  },
  {
   "cell_type": "code",
   "execution_count": 40,
   "metadata": {},
   "outputs": [
    {
     "data": {
      "image/png": "[encoded data removed]",
      "text/plain": [
       "<Figure size 720x432 with 1 Axes>"
      ]
     },
     "metadata": {
      "needs_background": "light"
     },
     "output_type": "display_data"
    }
   ],
   "source": [
    "# Visualisasi grafik pendapatan kumulatif kelompok A dan B\n",
    "plt.figure(figsize=(10, 6))\n",
    "plt.plot(cumulativeRevenueA['date'], cumulativeRevenueA['revenue'], label='A')\n",
    "plt.plot(cumulativeRevenueB['date'], cumulativeRevenueB['revenue'], label='B')\n",
    "plt.legend()\n",
    "plt.xticks(rotation=45)\n",
    "plt.show()"
   ]
  },
  {
   "cell_type": "markdown",
   "metadata": {},
   "source": [
    "Secara umum, terdapat **tren positif** pada pendapatan kumulatif kedua kelompok. Pendapatan kumulatif keduanya konsisten meningkat dari awal hingga akhir pengambilan data (1-31 Agustus 2019). \n",
    "\n",
    "Pada beberapa hari awal, pendapatan kumulatif kedua kelompok berada di angka yang relatif dekat. Perbedaan mulai terlihat di tanggal 3 Agustus 2019, di mana **pendapatan kumulatif kelompok B mengalami peningkatan yang lebih cepat dibanding kelompok A**. Keadaan tersebut konsisten hingga akhir bulan, sehingga selisih antara kedua grup kian membesar. Pada akhir pengambilan data, selisih pendapatan kumulatif kedua kelompok adalah $ 21,131. \n",
    "\n",
    "Catatan khusus dari temuan ini adalah terjadinya **lonjakan pendapatan oleh grup B pada tanggal 19 Agustus 2019**. Lonjakan tersebut serta merta memperbesar perbedaan pendapatan kumulatif kedua kelompok hingga akhir bulan. Hal ini perlu dipelajari lebih lanjut. Nilai revenue tinggi yang terjadi di tanggal tersebut kemungkinan merupakan anomali yang akan mempengaruhi tahap analisis selanjutnya. "
   ]
  },
  {
   "cell_type": "markdown",
   "metadata": {},
   "source": [
    "<div class=\"alert alert-success\">\n",
    "<b>Chamdani's comment v.1</b> <a class=\"tocSkip\"></a>\n",
    "\n",
    "Hebat, Kerja bagus!\n",
    "\n",
    "</div>"
   ]
  },
  {
   "cell_type": "markdown",
   "metadata": {},
   "source": [
    "#### Ukuran Pesanan Pata-rata Kumulatif"
   ]
  },
  {
   "cell_type": "markdown",
   "metadata": {},
   "source": [
    "Sebagai pembanding, perlu dilakukan penghitungan pendapatan rata-rata kumulatif dari kedua kelompok. Pendapatan rata-rata adalah hasil pembagian dari total pendapatan dengan jumlah transaksi. "
   ]
  },
  {
   "cell_type": "code",
   "execution_count": 41,
   "metadata": {},
   "outputs": [
    {
     "data": {
      "text/plain": [
       "<matplotlib.legend.Legend at 0x7fcea2f3c7f0>"
      ]
     },
     "execution_count": 41,
     "metadata": {},
     "output_type": "execute_result"
    },
    {
     "data": {
      "image/png": "[encoded data removed]",
      "text/plain": [
       "<Figure size 720x432 with 1 Axes>"
      ]
     },
     "metadata": {
      "needs_background": "light"
     },
     "output_type": "display_data"
    }
   ],
   "source": [
    "plt.figure(figsize=(10, 6))\n",
    "plt.plot(\n",
    "    cumulativeRevenueA['date'],\n",
    "    cumulativeRevenueA['revenue'] / cumulativeRevenueA['transaction_id'],\n",
    "    label='A',\n",
    ")\n",
    "plt.plot(\n",
    "    cumulativeRevenueB['date'],\n",
    "    cumulativeRevenueB['revenue'] / cumulativeRevenueB['transaction_id'],\n",
    "    label='B',\n",
    ")\n",
    "plt.xticks(rotation=45)\n",
    "plt.legend()\n"
   ]
  },
  {
   "cell_type": "markdown",
   "metadata": {},
   "source": [
    "Pesanan rata-rata kumulatif juga menunjukkan tren positif untuk kedua kelompok. Pada beberapa hari pertama, kelompok A mengalami penurunan, namun segera naik pada beberapa hari selanjutnya, dan konsisten mengalami kenaikan, walau lajunya tidak setinggi kelompok B. \n",
    "\n",
    "Kelompok B mengalami kenaikan pesanan rata-rata kumulatif di beberapa hari pertama, dan konsisten mengalami peningkatan. Terjadi lonjakan di tanggal 19 Agustus 2019, namun tidak terjadi peningkatan yang konsisten hingga akhir bulan. Artinya, adanya lonjakan tersebut dikarenakan oleh transaksi dengan nominal revenue tinggi, namun hanya terjadi dalam frekuensi yang rendah."
   ]
  },
  {
   "cell_type": "markdown",
   "metadata": {},
   "source": [
    "<div class=\"alert alert-success\">\n",
    "<b>Chamdani's comment v.1</b> <a class=\"tocSkip\"></a>\n",
    "\n",
    "Hebat, Kerja bagus!\n",
    "\n",
    "</div>"
   ]
  },
  {
   "cell_type": "markdown",
   "metadata": {},
   "source": [
    "#### Perbedaan Relatif Ukuran Pesanan Rata-rata Kumulatif"
   ]
  },
  {
   "cell_type": "markdown",
   "metadata": {},
   "source": [
    "Diperlukan sebuah grafik perbedaan relatif, yang menggambarkan bagaimana laju berbedaan pesanan rata-rata kedua kelompok hingga akhir waktu pengukuran; apakah seiring berjalannya waktu kedua grup semakin berbeda, atau sebaliknya; kedua grup menjadi relatif identik."
   ]
  },
  {
   "cell_type": "code",
   "execution_count": 42,
   "metadata": {},
   "outputs": [
    {
     "data": {
      "text/html": [
       "<div>\n",
       "<style scoped>\n",
       "    .dataframe tbody tr th:only-of-type {\n",
       "        vertical-align: middle;\n",
       "    }\n",
       "\n",
       "    .dataframe tbody tr th {\n",
       "        vertical-align: top;\n",
       "    }\n",
       "\n",
       "    .dataframe thead th {\n",
       "        text-align: right;\n",
       "    }\n",
       "</style>\n",
       "<table border=\"1\" class=\"dataframe\">\n",
       "  <thead>\n",
       "    <tr style=\"text-align: right;\">\n",
       "      <th></th>\n",
       "      <th>date</th>\n",
       "      <th>revenueA</th>\n",
       "      <th>transaction_idA</th>\n",
       "      <th>revenueB</th>\n",
       "      <th>transaction_idB</th>\n",
       "    </tr>\n",
       "  </thead>\n",
       "  <tbody>\n",
       "    <tr>\n",
       "      <th>0</th>\n",
       "      <td>2019-08-01</td>\n",
       "      <td>2356.8</td>\n",
       "      <td>24</td>\n",
       "      <td>1620.0</td>\n",
       "      <td>21</td>\n",
       "    </tr>\n",
       "    <tr>\n",
       "      <th>1</th>\n",
       "      <td>2019-08-02</td>\n",
       "      <td>3825.1</td>\n",
       "      <td>43</td>\n",
       "      <td>4279.0</td>\n",
       "      <td>46</td>\n",
       "    </tr>\n",
       "    <tr>\n",
       "      <th>2</th>\n",
       "      <td>2019-08-03</td>\n",
       "      <td>5640.3</td>\n",
       "      <td>67</td>\n",
       "      <td>6085.8</td>\n",
       "      <td>62</td>\n",
       "    </tr>\n",
       "    <tr>\n",
       "      <th>3</th>\n",
       "      <td>2019-08-04</td>\n",
       "      <td>6326.0</td>\n",
       "      <td>79</td>\n",
       "      <td>8264.0</td>\n",
       "      <td>83</td>\n",
       "    </tr>\n",
       "    <tr>\n",
       "      <th>4</th>\n",
       "      <td>2019-08-05</td>\n",
       "      <td>8119.3</td>\n",
       "      <td>103</td>\n",
       "      <td>9953.8</td>\n",
       "      <td>107</td>\n",
       "    </tr>\n",
       "  </tbody>\n",
       "</table>\n",
       "</div>"
      ],
      "text/plain": [
       "        date  revenueA  transaction_idA  revenueB  transaction_idB\n",
       "0 2019-08-01    2356.8               24    1620.0               21\n",
       "1 2019-08-02    3825.1               43    4279.0               46\n",
       "2 2019-08-03    5640.3               67    6085.8               62\n",
       "3 2019-08-04    6326.0               79    8264.0               83\n",
       "4 2019-08-05    8119.3              103    9953.8              107"
      ]
     },
     "execution_count": 42,
     "metadata": {},
     "output_type": "execute_result"
    }
   ],
   "source": [
    "mergedCumulativeRevenue = cumulativeRevenueA.merge(\n",
    "    cumulativeRevenueB,\n",
    "    left_on='date',\n",
    "    right_on='date',\n",
    "    how='left',\n",
    "    suffixes=['A', 'B'],\n",
    ")\n",
    "\n",
    "mergedCumulativeRevenue.head()"
   ]
  },
  {
   "cell_type": "code",
   "execution_count": 43,
   "metadata": {},
   "outputs": [
    {
     "data": {
      "text/plain": [
       "<matplotlib.lines.Line2D at 0x7fcea2f360a0>"
      ]
     },
     "execution_count": 43,
     "metadata": {},
     "output_type": "execute_result"
    },
    {
     "data": {
      "image/png": "[encoded data removed]",
      "text/plain": [
       "<Figure size 864x432 with 1 Axes>"
      ]
     },
     "metadata": {
      "needs_background": "light"
     },
     "output_type": "display_data"
    }
   ],
   "source": [
    "plt.figure(figsize=(12, 6))\n",
    "plt.plot(\n",
    "    mergedCumulativeRevenue['date'],\n",
    "    (mergedCumulativeRevenue['revenueB'] / mergedCumulativeRevenue['transaction_idB'])\n",
    "    / (\n",
    "        mergedCumulativeRevenue['revenueA']\n",
    "        / mergedCumulativeRevenue['transaction_idA']\n",
    "    )\n",
    "    - 1,\n",
    ")\n",
    "plt.axhline(y=0, color='black', linestyle='--')"
   ]
  },
  {
   "cell_type": "markdown",
   "metadata": {},
   "source": [
    "Pada minggu pertama pengukuran, perbedaan nilai antara kedua grup meningkat. Grup B relatif menunjukkan rata-rata pendapatan lebih tinggi di minggu pertama. Namun pada minggu kedua, perbedaan kedua grup kian menipis, bahkan grup B sempat berada di titik yang lebih rendah dari grup A menjelang akhir minggu ke-dua. Pada minggu ketiga (tanggal 19 Agustus 2019) terjadi lonjakan pendapatan untuk grup B, sehingga grafik perbedaan relatif mencapai puncak tertinggi. Akan tetapi terdapat tren negatif hingga akhir bulan, yang menunjukkan bahwa **perbedaan rata-rata pendapatan antara kedua grup menjadi semakin tipis hingga akhir bulan.**\n",
    "\n",
    "Akan tetapi, grafik perbedaan relatif ini belum cukup untuk dijadikan dasar penarikan kesimpulan. Walaupun perbedaan antara kedua grup kian menipis, namun tidak menutup kemungkinan bahwa perbedaan tersebut signifikan. Untuk memastikannya, akan dilakukan uji signifikansi perbedaan pada bagian 5 di laporan ini. "
   ]
  },
  {
   "cell_type": "markdown",
   "metadata": {},
   "source": [
    "<div class=\"alert alert-success\">\n",
    "<b>Chamdani's comment v.1</b> <a class=\"tocSkip\"></a>\n",
    "\n",
    "Hebat, Kerja bagus!\n",
    "\n",
    "</div>"
   ]
  },
  {
   "cell_type": "markdown",
   "metadata": {},
   "source": [
    "### Perbedaan Konversi Kumulatif"
   ]
  },
  {
   "cell_type": "markdown",
   "metadata": {},
   "source": [
    "Selain pendapatan kumulatif, diperlukan juga penghitungan **konversi kumulatif** untuk kedua kelompok. Karena perhitungan konversi memerlukan informasi jumlah pembeli dan jumlah pengunjung total, maka DataFrame 'visits' perlu diolah dan dilengkapi dengan beberapa informasi dari DataFrame 'orders', hingga membentuk sebuah DataFrame baru yang berisi informasi:\n",
    "\n",
    "- Tanggal\n",
    "- Nama kelompok\n",
    "- Jumlah transaksi harian masing-masing kelompok\n",
    "- Jumlah pembeli harian masing-masing kelompok\n",
    "- Total pendapatan (revenue) harian masing-masing\n",
    "- Total pengunjung situs web dari masing-masing kelompok"
   ]
  },
  {
   "cell_type": "code",
   "execution_count": 44,
   "metadata": {},
   "outputs": [
    {
     "data": {
      "text/html": [
       "<div>\n",
       "<style scoped>\n",
       "    .dataframe tbody tr th:only-of-type {\n",
       "        vertical-align: middle;\n",
       "    }\n",
       "\n",
       "    .dataframe tbody tr th {\n",
       "        vertical-align: top;\n",
       "    }\n",
       "\n",
       "    .dataframe thead th {\n",
       "        text-align: right;\n",
       "    }\n",
       "</style>\n",
       "<table border=\"1\" class=\"dataframe\">\n",
       "  <thead>\n",
       "    <tr style=\"text-align: right;\">\n",
       "      <th></th>\n",
       "      <th>date</th>\n",
       "      <th>group</th>\n",
       "      <th>visits</th>\n",
       "    </tr>\n",
       "  </thead>\n",
       "  <tbody>\n",
       "    <tr>\n",
       "      <th>55</th>\n",
       "      <td>2019-08-01</td>\n",
       "      <td>A</td>\n",
       "      <td>719</td>\n",
       "    </tr>\n",
       "    <tr>\n",
       "      <th>66</th>\n",
       "      <td>2019-08-01</td>\n",
       "      <td>B</td>\n",
       "      <td>713</td>\n",
       "    </tr>\n",
       "    <tr>\n",
       "      <th>175</th>\n",
       "      <td>2019-08-02</td>\n",
       "      <td>A</td>\n",
       "      <td>1338</td>\n",
       "    </tr>\n",
       "    <tr>\n",
       "      <th>173</th>\n",
       "      <td>2019-08-02</td>\n",
       "      <td>B</td>\n",
       "      <td>1294</td>\n",
       "    </tr>\n",
       "    <tr>\n",
       "      <th>291</th>\n",
       "      <td>2019-08-03</td>\n",
       "      <td>A</td>\n",
       "      <td>1845</td>\n",
       "    </tr>\n",
       "  </tbody>\n",
       "</table>\n",
       "</div>"
      ],
      "text/plain": [
       "          date group  visits\n",
       "55  2019-08-01     A     719\n",
       "66  2019-08-01     B     713\n",
       "175 2019-08-02     A    1338\n",
       "173 2019-08-02     B    1294\n",
       "291 2019-08-03     A    1845"
      ]
     },
     "execution_count": 44,
     "metadata": {},
     "output_type": "execute_result"
    }
   ],
   "source": [
    "# Membuat DataFrame baru dengan nilai 'date' dan 'group' berpasangan yang unik dari DataFrame 'visits'. \n",
    "\n",
    "visitorsAggregated = datesGroups.apply(\n",
    "    lambda x: visits[\n",
    "        np.logical_and(\n",
    "            visits['date'] <= x['date'], visits['group'] == x['group']\n",
    "        )\n",
    "    ].agg({'date': 'max', 'group': 'max', 'visits': 'sum'}),\n",
    "    axis=1,\n",
    ").sort_values(by=['date', 'group'])\n",
    "\n",
    "visitorsAggregated.head()"
   ]
  },
  {
   "cell_type": "markdown",
   "metadata": {},
   "source": [
    "Setelah jumlah pengunjung harian dikelompokkan berdasarkan nama grup, tabel ini dapat digabungkan dengan tabel 'ordersAggregated', dengan kolom tanggal dan grup sebagai acuan."
   ]
  },
  {
   "cell_type": "code",
   "execution_count": 45,
   "metadata": {},
   "outputs": [
    {
     "data": {
      "text/html": [
       "<div>\n",
       "<style scoped>\n",
       "    .dataframe tbody tr th:only-of-type {\n",
       "        vertical-align: middle;\n",
       "    }\n",
       "\n",
       "    .dataframe tbody tr th {\n",
       "        vertical-align: top;\n",
       "    }\n",
       "\n",
       "    .dataframe thead th {\n",
       "        text-align: right;\n",
       "    }\n",
       "</style>\n",
       "<table border=\"1\" class=\"dataframe\">\n",
       "  <thead>\n",
       "    <tr style=\"text-align: right;\">\n",
       "      <th></th>\n",
       "      <th>date</th>\n",
       "      <th>group</th>\n",
       "      <th>orders</th>\n",
       "      <th>buyers</th>\n",
       "      <th>revenue</th>\n",
       "      <th>visitors</th>\n",
       "    </tr>\n",
       "  </thead>\n",
       "  <tbody>\n",
       "    <tr>\n",
       "      <th>0</th>\n",
       "      <td>2019-08-01</td>\n",
       "      <td>A</td>\n",
       "      <td>24</td>\n",
       "      <td>20</td>\n",
       "      <td>2356.8</td>\n",
       "      <td>719</td>\n",
       "    </tr>\n",
       "    <tr>\n",
       "      <th>1</th>\n",
       "      <td>2019-08-01</td>\n",
       "      <td>B</td>\n",
       "      <td>21</td>\n",
       "      <td>20</td>\n",
       "      <td>1620.0</td>\n",
       "      <td>713</td>\n",
       "    </tr>\n",
       "    <tr>\n",
       "      <th>2</th>\n",
       "      <td>2019-08-02</td>\n",
       "      <td>A</td>\n",
       "      <td>43</td>\n",
       "      <td>37</td>\n",
       "      <td>3825.1</td>\n",
       "      <td>1338</td>\n",
       "    </tr>\n",
       "    <tr>\n",
       "      <th>3</th>\n",
       "      <td>2019-08-02</td>\n",
       "      <td>B</td>\n",
       "      <td>46</td>\n",
       "      <td>43</td>\n",
       "      <td>4279.0</td>\n",
       "      <td>1294</td>\n",
       "    </tr>\n",
       "    <tr>\n",
       "      <th>4</th>\n",
       "      <td>2019-08-03</td>\n",
       "      <td>A</td>\n",
       "      <td>67</td>\n",
       "      <td>61</td>\n",
       "      <td>5640.3</td>\n",
       "      <td>1845</td>\n",
       "    </tr>\n",
       "    <tr>\n",
       "      <th>5</th>\n",
       "      <td>2019-08-03</td>\n",
       "      <td>B</td>\n",
       "      <td>62</td>\n",
       "      <td>59</td>\n",
       "      <td>6085.8</td>\n",
       "      <td>1803</td>\n",
       "    </tr>\n",
       "    <tr>\n",
       "      <th>6</th>\n",
       "      <td>2019-08-04</td>\n",
       "      <td>A</td>\n",
       "      <td>79</td>\n",
       "      <td>73</td>\n",
       "      <td>6326.0</td>\n",
       "      <td>2562</td>\n",
       "    </tr>\n",
       "    <tr>\n",
       "      <th>7</th>\n",
       "      <td>2019-08-04</td>\n",
       "      <td>B</td>\n",
       "      <td>83</td>\n",
       "      <td>75</td>\n",
       "      <td>8264.0</td>\n",
       "      <td>2573</td>\n",
       "    </tr>\n",
       "    <tr>\n",
       "      <th>8</th>\n",
       "      <td>2019-08-05</td>\n",
       "      <td>A</td>\n",
       "      <td>103</td>\n",
       "      <td>95</td>\n",
       "      <td>8119.3</td>\n",
       "      <td>3318</td>\n",
       "    </tr>\n",
       "    <tr>\n",
       "      <th>9</th>\n",
       "      <td>2019-08-05</td>\n",
       "      <td>B</td>\n",
       "      <td>107</td>\n",
       "      <td>97</td>\n",
       "      <td>9953.8</td>\n",
       "      <td>3280</td>\n",
       "    </tr>\n",
       "  </tbody>\n",
       "</table>\n",
       "</div>"
      ],
      "text/plain": [
       "        date group  orders  buyers  revenue  visitors\n",
       "0 2019-08-01     A      24      20   2356.8       719\n",
       "1 2019-08-01     B      21      20   1620.0       713\n",
       "2 2019-08-02     A      43      37   3825.1      1338\n",
       "3 2019-08-02     B      46      43   4279.0      1294\n",
       "4 2019-08-03     A      67      61   5640.3      1845\n",
       "5 2019-08-03     B      62      59   6085.8      1803\n",
       "6 2019-08-04     A      79      73   6326.0      2562\n",
       "7 2019-08-04     B      83      75   8264.0      2573\n",
       "8 2019-08-05     A     103      95   8119.3      3318\n",
       "9 2019-08-05     B     107      97   9953.8      3280"
      ]
     },
     "execution_count": 45,
     "metadata": {},
     "output_type": "execute_result"
    }
   ],
   "source": [
    "# Menggabungkan DataFrame visitorsAggregated dengan ordersAggregated\n",
    "cumulativeData = ordersAggregated.merge(\n",
    "    visitorsAggregated, left_on=['date', 'group'], right_on=['date', 'group'] \n",
    ")\n",
    "cumulativeData.columns = [\n",
    "    'date',\n",
    "    'group',\n",
    "    'orders',\n",
    "    'buyers',\n",
    "    'revenue',\n",
    "    'visitors',\n",
    "]\n",
    "\n",
    "cumulativeData.head(10)"
   ]
  },
  {
   "cell_type": "markdown",
   "metadata": {},
   "source": [
    "Kini telah terbentuk DataFrame 'cumulativeData' yang memuat kelima informasi yang dibutuhkan untuk menghitung konversi kumulatif. Konversi adalah hasil perbandingan jumlah pembeli dengan total pengunjung. Hasil perbandingan tersebut akan disimpan dalam sebuah kolom baru bernama 'conversion_%'"
   ]
  },
  {
   "cell_type": "markdown",
   "metadata": {},
   "source": [
    "<div class=\"alert alert-success\">\n",
    "<b>Chamdani's comment v.1</b> <a class=\"tocSkip\"></a>\n",
    "\n",
    "Hebat, Kerja bagus!\n",
    "\n",
    "</div>"
   ]
  },
  {
   "cell_type": "code",
   "execution_count": 46,
   "metadata": {},
   "outputs": [
    {
     "data": {
      "text/html": [
       "<div>\n",
       "<style scoped>\n",
       "    .dataframe tbody tr th:only-of-type {\n",
       "        vertical-align: middle;\n",
       "    }\n",
       "\n",
       "    .dataframe tbody tr th {\n",
       "        vertical-align: top;\n",
       "    }\n",
       "\n",
       "    .dataframe thead th {\n",
       "        text-align: right;\n",
       "    }\n",
       "</style>\n",
       "<table border=\"1\" class=\"dataframe\">\n",
       "  <thead>\n",
       "    <tr style=\"text-align: right;\">\n",
       "      <th></th>\n",
       "      <th>date</th>\n",
       "      <th>group</th>\n",
       "      <th>orders</th>\n",
       "      <th>buyers</th>\n",
       "      <th>revenue</th>\n",
       "      <th>visitors</th>\n",
       "      <th>conversion_%</th>\n",
       "    </tr>\n",
       "  </thead>\n",
       "  <tbody>\n",
       "    <tr>\n",
       "      <th>0</th>\n",
       "      <td>2019-08-01</td>\n",
       "      <td>A</td>\n",
       "      <td>24</td>\n",
       "      <td>20</td>\n",
       "      <td>2356.8</td>\n",
       "      <td>719</td>\n",
       "      <td>3.337969</td>\n",
       "    </tr>\n",
       "    <tr>\n",
       "      <th>1</th>\n",
       "      <td>2019-08-01</td>\n",
       "      <td>B</td>\n",
       "      <td>21</td>\n",
       "      <td>20</td>\n",
       "      <td>1620.0</td>\n",
       "      <td>713</td>\n",
       "      <td>2.945302</td>\n",
       "    </tr>\n",
       "    <tr>\n",
       "      <th>2</th>\n",
       "      <td>2019-08-02</td>\n",
       "      <td>A</td>\n",
       "      <td>43</td>\n",
       "      <td>37</td>\n",
       "      <td>3825.1</td>\n",
       "      <td>1338</td>\n",
       "      <td>3.213752</td>\n",
       "    </tr>\n",
       "    <tr>\n",
       "      <th>3</th>\n",
       "      <td>2019-08-02</td>\n",
       "      <td>B</td>\n",
       "      <td>46</td>\n",
       "      <td>43</td>\n",
       "      <td>4279.0</td>\n",
       "      <td>1294</td>\n",
       "      <td>3.554869</td>\n",
       "    </tr>\n",
       "    <tr>\n",
       "      <th>4</th>\n",
       "      <td>2019-08-03</td>\n",
       "      <td>A</td>\n",
       "      <td>67</td>\n",
       "      <td>61</td>\n",
       "      <td>5640.3</td>\n",
       "      <td>1845</td>\n",
       "      <td>3.631436</td>\n",
       "    </tr>\n",
       "    <tr>\n",
       "      <th>5</th>\n",
       "      <td>2019-08-03</td>\n",
       "      <td>B</td>\n",
       "      <td>62</td>\n",
       "      <td>59</td>\n",
       "      <td>6085.8</td>\n",
       "      <td>1803</td>\n",
       "      <td>3.438713</td>\n",
       "    </tr>\n",
       "    <tr>\n",
       "      <th>6</th>\n",
       "      <td>2019-08-04</td>\n",
       "      <td>A</td>\n",
       "      <td>79</td>\n",
       "      <td>73</td>\n",
       "      <td>6326.0</td>\n",
       "      <td>2562</td>\n",
       "      <td>3.083528</td>\n",
       "    </tr>\n",
       "    <tr>\n",
       "      <th>7</th>\n",
       "      <td>2019-08-04</td>\n",
       "      <td>B</td>\n",
       "      <td>83</td>\n",
       "      <td>75</td>\n",
       "      <td>8264.0</td>\n",
       "      <td>2573</td>\n",
       "      <td>3.225806</td>\n",
       "    </tr>\n",
       "    <tr>\n",
       "      <th>8</th>\n",
       "      <td>2019-08-05</td>\n",
       "      <td>A</td>\n",
       "      <td>103</td>\n",
       "      <td>95</td>\n",
       "      <td>8119.3</td>\n",
       "      <td>3318</td>\n",
       "      <td>3.104280</td>\n",
       "    </tr>\n",
       "    <tr>\n",
       "      <th>9</th>\n",
       "      <td>2019-08-05</td>\n",
       "      <td>B</td>\n",
       "      <td>107</td>\n",
       "      <td>97</td>\n",
       "      <td>9953.8</td>\n",
       "      <td>3280</td>\n",
       "      <td>3.262195</td>\n",
       "    </tr>\n",
       "  </tbody>\n",
       "</table>\n",
       "</div>"
      ],
      "text/plain": [
       "        date group  orders  buyers  revenue  visitors  conversion_%\n",
       "0 2019-08-01     A      24      20   2356.8       719      3.337969\n",
       "1 2019-08-01     B      21      20   1620.0       713      2.945302\n",
       "2 2019-08-02     A      43      37   3825.1      1338      3.213752\n",
       "3 2019-08-02     B      46      43   4279.0      1294      3.554869\n",
       "4 2019-08-03     A      67      61   5640.3      1845      3.631436\n",
       "5 2019-08-03     B      62      59   6085.8      1803      3.438713\n",
       "6 2019-08-04     A      79      73   6326.0      2562      3.083528\n",
       "7 2019-08-04     B      83      75   8264.0      2573      3.225806\n",
       "8 2019-08-05     A     103      95   8119.3      3318      3.104280\n",
       "9 2019-08-05     B     107      97   9953.8      3280      3.262195"
      ]
     },
     "execution_count": 46,
     "metadata": {},
     "output_type": "execute_result"
    }
   ],
   "source": [
    "cumulativeData['conversion_%'] = (\n",
    "    cumulativeData['orders'] / cumulativeData['visitors']\n",
    ") * 100\n",
    "\n",
    "cumulativeData.head(10)"
   ]
  },
  {
   "cell_type": "markdown",
   "metadata": {},
   "source": [
    "Tabel 'cumulativeData' di atas telah memuat data tanggal, nama kelompok, total pembeli harian, total revenue harian, total pengunjung harian, serta persentase konversi. Akan tetapi data kedua kelompok masih menyatu. Langkah selanjutnya adalah memisahkan data ini berdasarkan nama kelompok, untuk membandingkan konversi kumulatif."
   ]
  },
  {
   "cell_type": "markdown",
   "metadata": {},
   "source": [
    "<div class=\"alert alert-success\">\n",
    "<b>Chamdani's comment v.1</b> <a class=\"tocSkip\"></a>\n",
    "\n",
    "Hebat, Kerja bagus!\n",
    "\n",
    "</div>"
   ]
  },
  {
   "cell_type": "markdown",
   "metadata": {},
   "source": [
    "#### Konversi Kumulatif Berdasarkan Kelompok"
   ]
  },
  {
   "cell_type": "code",
   "execution_count": 47,
   "metadata": {},
   "outputs": [],
   "source": [
    "# Memisahkan tabel cumulativeData untuk masing-masing grup\n",
    "cumulativeDataA = cumulativeData[cumulativeData['group'] == 'A']\n",
    "cumulativeDataB = cumulativeData[cumulativeData['group'] == 'B']"
   ]
  },
  {
   "cell_type": "code",
   "execution_count": 48,
   "metadata": {},
   "outputs": [
    {
     "data": {
      "text/html": [
       "<div>\n",
       "<style scoped>\n",
       "    .dataframe tbody tr th:only-of-type {\n",
       "        vertical-align: middle;\n",
       "    }\n",
       "\n",
       "    .dataframe tbody tr th {\n",
       "        vertical-align: top;\n",
       "    }\n",
       "\n",
       "    .dataframe thead th {\n",
       "        text-align: right;\n",
       "    }\n",
       "</style>\n",
       "<table border=\"1\" class=\"dataframe\">\n",
       "  <thead>\n",
       "    <tr style=\"text-align: right;\">\n",
       "      <th></th>\n",
       "      <th>date</th>\n",
       "      <th>group</th>\n",
       "      <th>orders</th>\n",
       "      <th>buyers</th>\n",
       "      <th>revenue</th>\n",
       "      <th>visitors</th>\n",
       "      <th>conversion_%</th>\n",
       "    </tr>\n",
       "  </thead>\n",
       "  <tbody>\n",
       "    <tr>\n",
       "      <th>0</th>\n",
       "      <td>2019-08-01</td>\n",
       "      <td>A</td>\n",
       "      <td>24</td>\n",
       "      <td>20</td>\n",
       "      <td>2356.8</td>\n",
       "      <td>719</td>\n",
       "      <td>3.337969</td>\n",
       "    </tr>\n",
       "    <tr>\n",
       "      <th>2</th>\n",
       "      <td>2019-08-02</td>\n",
       "      <td>A</td>\n",
       "      <td>43</td>\n",
       "      <td>37</td>\n",
       "      <td>3825.1</td>\n",
       "      <td>1338</td>\n",
       "      <td>3.213752</td>\n",
       "    </tr>\n",
       "    <tr>\n",
       "      <th>4</th>\n",
       "      <td>2019-08-03</td>\n",
       "      <td>A</td>\n",
       "      <td>67</td>\n",
       "      <td>61</td>\n",
       "      <td>5640.3</td>\n",
       "      <td>1845</td>\n",
       "      <td>3.631436</td>\n",
       "    </tr>\n",
       "    <tr>\n",
       "      <th>6</th>\n",
       "      <td>2019-08-04</td>\n",
       "      <td>A</td>\n",
       "      <td>79</td>\n",
       "      <td>73</td>\n",
       "      <td>6326.0</td>\n",
       "      <td>2562</td>\n",
       "      <td>3.083528</td>\n",
       "    </tr>\n",
       "    <tr>\n",
       "      <th>8</th>\n",
       "      <td>2019-08-05</td>\n",
       "      <td>A</td>\n",
       "      <td>103</td>\n",
       "      <td>95</td>\n",
       "      <td>8119.3</td>\n",
       "      <td>3318</td>\n",
       "      <td>3.104280</td>\n",
       "    </tr>\n",
       "  </tbody>\n",
       "</table>\n",
       "</div>"
      ],
      "text/plain": [
       "        date group  orders  buyers  revenue  visitors  conversion_%\n",
       "0 2019-08-01     A      24      20   2356.8       719      3.337969\n",
       "2 2019-08-02     A      43      37   3825.1      1338      3.213752\n",
       "4 2019-08-03     A      67      61   5640.3      1845      3.631436\n",
       "6 2019-08-04     A      79      73   6326.0      2562      3.083528\n",
       "8 2019-08-05     A     103      95   8119.3      3318      3.104280"
      ]
     },
     "execution_count": 48,
     "metadata": {},
     "output_type": "execute_result"
    }
   ],
   "source": [
    "# Menampilkan tabel konversi kumulatif kelompok A\n",
    "cumulativeDataA.head()"
   ]
  },
  {
   "cell_type": "code",
   "execution_count": 49,
   "metadata": {},
   "outputs": [
    {
     "data": {
      "text/html": [
       "<div>\n",
       "<style scoped>\n",
       "    .dataframe tbody tr th:only-of-type {\n",
       "        vertical-align: middle;\n",
       "    }\n",
       "\n",
       "    .dataframe tbody tr th {\n",
       "        vertical-align: top;\n",
       "    }\n",
       "\n",
       "    .dataframe thead th {\n",
       "        text-align: right;\n",
       "    }\n",
       "</style>\n",
       "<table border=\"1\" class=\"dataframe\">\n",
       "  <thead>\n",
       "    <tr style=\"text-align: right;\">\n",
       "      <th></th>\n",
       "      <th>date</th>\n",
       "      <th>group</th>\n",
       "      <th>orders</th>\n",
       "      <th>buyers</th>\n",
       "      <th>revenue</th>\n",
       "      <th>visitors</th>\n",
       "      <th>conversion_%</th>\n",
       "    </tr>\n",
       "  </thead>\n",
       "  <tbody>\n",
       "    <tr>\n",
       "      <th>1</th>\n",
       "      <td>2019-08-01</td>\n",
       "      <td>B</td>\n",
       "      <td>21</td>\n",
       "      <td>20</td>\n",
       "      <td>1620.0</td>\n",
       "      <td>713</td>\n",
       "      <td>2.945302</td>\n",
       "    </tr>\n",
       "    <tr>\n",
       "      <th>3</th>\n",
       "      <td>2019-08-02</td>\n",
       "      <td>B</td>\n",
       "      <td>46</td>\n",
       "      <td>43</td>\n",
       "      <td>4279.0</td>\n",
       "      <td>1294</td>\n",
       "      <td>3.554869</td>\n",
       "    </tr>\n",
       "    <tr>\n",
       "      <th>5</th>\n",
       "      <td>2019-08-03</td>\n",
       "      <td>B</td>\n",
       "      <td>62</td>\n",
       "      <td>59</td>\n",
       "      <td>6085.8</td>\n",
       "      <td>1803</td>\n",
       "      <td>3.438713</td>\n",
       "    </tr>\n",
       "    <tr>\n",
       "      <th>7</th>\n",
       "      <td>2019-08-04</td>\n",
       "      <td>B</td>\n",
       "      <td>83</td>\n",
       "      <td>75</td>\n",
       "      <td>8264.0</td>\n",
       "      <td>2573</td>\n",
       "      <td>3.225806</td>\n",
       "    </tr>\n",
       "    <tr>\n",
       "      <th>9</th>\n",
       "      <td>2019-08-05</td>\n",
       "      <td>B</td>\n",
       "      <td>107</td>\n",
       "      <td>97</td>\n",
       "      <td>9953.8</td>\n",
       "      <td>3280</td>\n",
       "      <td>3.262195</td>\n",
       "    </tr>\n",
       "  </tbody>\n",
       "</table>\n",
       "</div>"
      ],
      "text/plain": [
       "        date group  orders  buyers  revenue  visitors  conversion_%\n",
       "1 2019-08-01     B      21      20   1620.0       713      2.945302\n",
       "3 2019-08-02     B      46      43   4279.0      1294      3.554869\n",
       "5 2019-08-03     B      62      59   6085.8      1803      3.438713\n",
       "7 2019-08-04     B      83      75   8264.0      2573      3.225806\n",
       "9 2019-08-05     B     107      97   9953.8      3280      3.262195"
      ]
     },
     "execution_count": 49,
     "metadata": {},
     "output_type": "execute_result"
    }
   ],
   "source": [
    "# Menampilkan tabel konversi kumulatif kelompok B\n",
    "cumulativeDataB.head()"
   ]
  },
  {
   "cell_type": "code",
   "execution_count": 50,
   "metadata": {},
   "outputs": [
    {
     "data": {
      "text/plain": [
       "<matplotlib.legend.Legend at 0x7fcea2e3fd90>"
      ]
     },
     "execution_count": 50,
     "metadata": {},
     "output_type": "execute_result"
    },
    {
     "data": {
      "image/png": "[encoded data removed]",
      "text/plain": [
       "<Figure size 720x432 with 1 Axes>"
      ]
     },
     "metadata": {
      "needs_background": "light"
     },
     "output_type": "display_data"
    }
   ],
   "source": [
    "# Visualisasi grafik perbandingan konversi kumulatif grup A dan B\n",
    "plt.figure(figsize=(10, 6))\n",
    "plt.plot(cumulativeDataA['date'], cumulativeDataA['conversion_%'], label='A')\n",
    "plt.plot(cumulativeDataB['date'], cumulativeDataB['conversion_%'], label='B')\n",
    "plt.xticks(rotation=45)\n",
    "plt.title('Perbandingan Konversi Kumulatif Grup A & Grup B')\n",
    "plt.legend()"
   ]
  },
  {
   "cell_type": "markdown",
   "metadata": {},
   "source": [
    "<div class=\"alert alert-success\">\n",
    "<b>Chamdani's comment v.1</b> <a class=\"tocSkip\"></a>\n",
    "\n",
    "Hebat, Kerja bagus!\n",
    "\n",
    "</div>"
   ]
  },
  {
   "cell_type": "markdown",
   "metadata": {},
   "source": [
    "#### Perbedaan Relatif Tingkat Konversi Kumulatif"
   ]
  },
  {
   "cell_type": "code",
   "execution_count": 51,
   "metadata": {},
   "outputs": [
    {
     "data": {
      "text/html": [
       "<div>\n",
       "<style scoped>\n",
       "    .dataframe tbody tr th:only-of-type {\n",
       "        vertical-align: middle;\n",
       "    }\n",
       "\n",
       "    .dataframe tbody tr th {\n",
       "        vertical-align: top;\n",
       "    }\n",
       "\n",
       "    .dataframe thead th {\n",
       "        text-align: right;\n",
       "    }\n",
       "</style>\n",
       "<table border=\"1\" class=\"dataframe\">\n",
       "  <thead>\n",
       "    <tr style=\"text-align: right;\">\n",
       "      <th></th>\n",
       "      <th>date</th>\n",
       "      <th>groupA</th>\n",
       "      <th>ordersA</th>\n",
       "      <th>buyersA</th>\n",
       "      <th>revenueA</th>\n",
       "      <th>visitorsA</th>\n",
       "      <th>conversion_%A</th>\n",
       "      <th>groupB</th>\n",
       "      <th>ordersB</th>\n",
       "      <th>buyersB</th>\n",
       "      <th>revenueB</th>\n",
       "      <th>visitorsB</th>\n",
       "      <th>conversion_%B</th>\n",
       "    </tr>\n",
       "  </thead>\n",
       "  <tbody>\n",
       "    <tr>\n",
       "      <th>0</th>\n",
       "      <td>2019-08-01</td>\n",
       "      <td>A</td>\n",
       "      <td>24</td>\n",
       "      <td>20</td>\n",
       "      <td>2356.8</td>\n",
       "      <td>719</td>\n",
       "      <td>3.337969</td>\n",
       "      <td>B</td>\n",
       "      <td>21</td>\n",
       "      <td>20</td>\n",
       "      <td>1620.0</td>\n",
       "      <td>713</td>\n",
       "      <td>2.945302</td>\n",
       "    </tr>\n",
       "    <tr>\n",
       "      <th>1</th>\n",
       "      <td>2019-08-02</td>\n",
       "      <td>A</td>\n",
       "      <td>43</td>\n",
       "      <td>37</td>\n",
       "      <td>3825.1</td>\n",
       "      <td>1338</td>\n",
       "      <td>3.213752</td>\n",
       "      <td>B</td>\n",
       "      <td>46</td>\n",
       "      <td>43</td>\n",
       "      <td>4279.0</td>\n",
       "      <td>1294</td>\n",
       "      <td>3.554869</td>\n",
       "    </tr>\n",
       "    <tr>\n",
       "      <th>2</th>\n",
       "      <td>2019-08-03</td>\n",
       "      <td>A</td>\n",
       "      <td>67</td>\n",
       "      <td>61</td>\n",
       "      <td>5640.3</td>\n",
       "      <td>1845</td>\n",
       "      <td>3.631436</td>\n",
       "      <td>B</td>\n",
       "      <td>62</td>\n",
       "      <td>59</td>\n",
       "      <td>6085.8</td>\n",
       "      <td>1803</td>\n",
       "      <td>3.438713</td>\n",
       "    </tr>\n",
       "    <tr>\n",
       "      <th>3</th>\n",
       "      <td>2019-08-04</td>\n",
       "      <td>A</td>\n",
       "      <td>79</td>\n",
       "      <td>73</td>\n",
       "      <td>6326.0</td>\n",
       "      <td>2562</td>\n",
       "      <td>3.083528</td>\n",
       "      <td>B</td>\n",
       "      <td>83</td>\n",
       "      <td>75</td>\n",
       "      <td>8264.0</td>\n",
       "      <td>2573</td>\n",
       "      <td>3.225806</td>\n",
       "    </tr>\n",
       "    <tr>\n",
       "      <th>4</th>\n",
       "      <td>2019-08-05</td>\n",
       "      <td>A</td>\n",
       "      <td>103</td>\n",
       "      <td>95</td>\n",
       "      <td>8119.3</td>\n",
       "      <td>3318</td>\n",
       "      <td>3.104280</td>\n",
       "      <td>B</td>\n",
       "      <td>107</td>\n",
       "      <td>97</td>\n",
       "      <td>9953.8</td>\n",
       "      <td>3280</td>\n",
       "      <td>3.262195</td>\n",
       "    </tr>\n",
       "  </tbody>\n",
       "</table>\n",
       "</div>"
      ],
      "text/plain": [
       "        date groupA  ordersA  buyersA  revenueA  visitorsA  conversion_%A  \\\n",
       "0 2019-08-01      A       24       20    2356.8        719       3.337969   \n",
       "1 2019-08-02      A       43       37    3825.1       1338       3.213752   \n",
       "2 2019-08-03      A       67       61    5640.3       1845       3.631436   \n",
       "3 2019-08-04      A       79       73    6326.0       2562       3.083528   \n",
       "4 2019-08-05      A      103       95    8119.3       3318       3.104280   \n",
       "\n",
       "  groupB  ordersB  buyersB  revenueB  visitorsB  conversion_%B  \n",
       "0      B       21       20    1620.0        713       2.945302  \n",
       "1      B       46       43    4279.0       1294       3.554869  \n",
       "2      B       62       59    6085.8       1803       3.438713  \n",
       "3      B       83       75    8264.0       2573       3.225806  \n",
       "4      B      107       97    9953.8       3280       3.262195  "
      ]
     },
     "execution_count": 51,
     "metadata": {},
     "output_type": "execute_result"
    }
   ],
   "source": [
    "mergedCumulativeConversion = cumulativeDataA.merge(\n",
    "    cumulativeDataB,\n",
    "    left_on='date',\n",
    "    right_on='date',\n",
    "    how='left',\n",
    "    suffixes=['A', 'B'],\n",
    ")\n",
    "\n",
    "mergedCumulativeConversion.head()"
   ]
  },
  {
   "cell_type": "code",
   "execution_count": 52,
   "metadata": {},
   "outputs": [
    {
     "data": {
      "text/plain": [
       "<matplotlib.lines.Line2D at 0x7fcea2e1c250>"
      ]
     },
     "execution_count": 52,
     "metadata": {},
     "output_type": "execute_result"
    },
    {
     "data": {
      "image/png": "[encoded data removed]",
      "text/plain": [
       "<Figure size 864x432 with 1 Axes>"
      ]
     },
     "metadata": {
      "needs_background": "light"
     },
     "output_type": "display_data"
    }
   ],
   "source": [
    "plt.figure(figsize=(12, 6))\n",
    "plt.plot(\n",
    "    mergedCumulativeConversion['date'],\n",
    "    (mergedCumulativeConversion['buyersB'] / mergedCumulativeConversion['visitorsB'])\n",
    "    / (\n",
    "        mergedCumulativeConversion['buyersA']\n",
    "        / mergedCumulativeConversion['visitorsA']\n",
    "    )\n",
    "    - 1,\n",
    ")\n",
    "plt.axhline(y=0, color='black', linestyle='--')"
   ]
  },
  {
   "cell_type": "markdown",
   "metadata": {},
   "source": [
    "<div class=\"alert alert-success\">\n",
    "<b>Chamdani's comment v.1</b> <a class=\"tocSkip\"></a>\n",
    "\n",
    "Hebat, Kerja bagus!\n",
    "\n",
    "</div>"
   ]
  },
  {
   "cell_type": "markdown",
   "metadata": {},
   "source": [
    "#### Perbedaan Relatif Rasio Jumlah Pesanan Terhadap Jumlah Kunjungan\n"
   ]
  },
  {
   "cell_type": "markdown",
   "metadata": {},
   "source": [
    "Bila pada bagian sebelumnya tingkat konversi ditentukan berdasarkan perbandingan jumlah pembeli terhadap total pengunjung, bagian ini akan mempelajari perbedaan relatif saat konversi ditentukan berdasarkan perbandingan **jumlah transaksi terhadap total pengunjung**."
   ]
  },
  {
   "cell_type": "code",
   "execution_count": 53,
   "metadata": {},
   "outputs": [
    {
     "data": {
      "text/plain": [
       "<matplotlib.lines.Line2D at 0x7fcea2dda0d0>"
      ]
     },
     "execution_count": 53,
     "metadata": {},
     "output_type": "execute_result"
    },
    {
     "data": {
      "image/png": "[encoded data removed]",
      "text/plain": [
       "<Figure size 864x432 with 1 Axes>"
      ]
     },
     "metadata": {
      "needs_background": "light"
     },
     "output_type": "display_data"
    }
   ],
   "source": [
    "plt.figure(figsize=(12, 6))\n",
    "plt.plot(\n",
    "    mergedCumulativeConversion['date'],\n",
    "    (mergedCumulativeConversion['ordersB'] / mergedCumulativeConversion['visitorsB'])\n",
    "    / (\n",
    "        mergedCumulativeConversion['ordersA']\n",
    "        / mergedCumulativeConversion['visitorsA']\n",
    "    )\n",
    "    - 1,\n",
    ")\n",
    "plt.axhline(y=0, color='black', linestyle='--')"
   ]
  },
  {
   "cell_type": "markdown",
   "metadata": {},
   "source": [
    "Selisih antara konversi grup A dan grup B berfluktuasi pada satu minggu pertama. Selisih konversi kedua grup mengalami peningkatan di minggu kedua, namun cenderung berkurang menjelang akhir bulan. Penurunannya tidak setajam konversi berdasarkan total pembeli terhadap total pengunjung, namun keduanya sama-sama memiliki tren negatif. Artinya selisih antara kedua grup cenderung menipis di akhir pengambilan data. \n",
    "\n",
    "Sebagai dasar pengambilan keputusan, perbedaan konversi pada kedua grup perlu diuji signifikasinya. Namun melihat adanya lonjakan revenue dalam frekuensi rendah menunjukkan bahwa terdapat anomali pada data grup B. Bagian selanjutnya akan berfokus pada penentuan nilai anomali, dan penanganannya."
   ]
  },
  {
   "cell_type": "markdown",
   "metadata": {},
   "source": [
    "<div class=\"alert alert-success\">\n",
    "<b>Chamdani's comment v.1</b> <a class=\"tocSkip\"></a>\n",
    "\n",
    "Hebat, Kerja bagus!\n",
    "\n",
    "</div>"
   ]
  },
  {
   "cell_type": "markdown",
   "metadata": {},
   "source": [
    "### Anomali Dalam Data Penjualan"
   ]
  },
  {
   "cell_type": "markdown",
   "metadata": {},
   "source": [
    "Grafik pendapatan kumulatif menunjukkan terjadinya lonjakan pendapatan yang hanya terjadi pada satu hari, 19 Agustus 2019. Berdasarkan uji kesetaraan proporsi pembeli dengan pengunjung, kedua kelompok dinyatakan berbeda secara signifikan. Bila lonjakan pendapatan disebabkan karena tingginya jumlah pengunjung yang dikonversi menjadi pembeli pada hari itu, seharusnya grafik konversi kumulatif kelompok B juga menunjukkan lonjakan tersebut di tanggal yang sama. Akan tetapi, hal tersebut tidak tergambarkan dalam grafik konversi kumulatif. Artinya, lonjakan pendapatan terjadi karena satu atau sedikit pembeli melakukan pembelian dengan jumlah transaksi atau nominal sangat tinggi pada hari tersebut. \n",
    "\n",
    "Bagian ini akan menelusuri pada titik mana nominal pembelian yang menjadi revenue perusahaan merupakan anomali. "
   ]
  },
  {
   "cell_type": "code",
   "execution_count": 54,
   "metadata": {},
   "outputs": [
    {
     "data": {
      "text/html": [
       "<div>\n",
       "<style scoped>\n",
       "    .dataframe tbody tr th:only-of-type {\n",
       "        vertical-align: middle;\n",
       "    }\n",
       "\n",
       "    .dataframe tbody tr th {\n",
       "        vertical-align: top;\n",
       "    }\n",
       "\n",
       "    .dataframe thead th {\n",
       "        text-align: right;\n",
       "    }\n",
       "</style>\n",
       "<table border=\"1\" class=\"dataframe\">\n",
       "  <thead>\n",
       "    <tr style=\"text-align: right;\">\n",
       "      <th></th>\n",
       "      <th>transaction_id</th>\n",
       "      <th>visitor_id</th>\n",
       "      <th>date</th>\n",
       "      <th>revenue</th>\n",
       "      <th>group</th>\n",
       "    </tr>\n",
       "  </thead>\n",
       "  <tbody>\n",
       "    <tr>\n",
       "      <th>0</th>\n",
       "      <td>3667963787</td>\n",
       "      <td>3312258926</td>\n",
       "      <td>2019-08-15</td>\n",
       "      <td>30.4</td>\n",
       "      <td>B</td>\n",
       "    </tr>\n",
       "    <tr>\n",
       "      <th>1</th>\n",
       "      <td>2804400009</td>\n",
       "      <td>3642806036</td>\n",
       "      <td>2019-08-15</td>\n",
       "      <td>15.2</td>\n",
       "      <td>B</td>\n",
       "    </tr>\n",
       "    <tr>\n",
       "      <th>2</th>\n",
       "      <td>2961555356</td>\n",
       "      <td>4069496402</td>\n",
       "      <td>2019-08-15</td>\n",
       "      <td>10.2</td>\n",
       "      <td>B</td>\n",
       "    </tr>\n",
       "    <tr>\n",
       "      <th>3</th>\n",
       "      <td>3797467345</td>\n",
       "      <td>1196621759</td>\n",
       "      <td>2019-08-15</td>\n",
       "      <td>155.1</td>\n",
       "      <td>B</td>\n",
       "    </tr>\n",
       "    <tr>\n",
       "      <th>4</th>\n",
       "      <td>2282983706</td>\n",
       "      <td>2322279887</td>\n",
       "      <td>2019-08-15</td>\n",
       "      <td>40.5</td>\n",
       "      <td>B</td>\n",
       "    </tr>\n",
       "  </tbody>\n",
       "</table>\n",
       "</div>"
      ],
      "text/plain": [
       "   transaction_id  visitor_id       date  revenue group\n",
       "0      3667963787  3312258926 2019-08-15     30.4     B\n",
       "1      2804400009  3642806036 2019-08-15     15.2     B\n",
       "2      2961555356  4069496402 2019-08-15     10.2     B\n",
       "3      3797467345  1196621759 2019-08-15    155.1     B\n",
       "4      2282983706  2322279887 2019-08-15     40.5     B"
      ]
     },
     "execution_count": 54,
     "metadata": {},
     "output_type": "execute_result"
    }
   ],
   "source": [
    "# Menampilkan tabel ordersB\n",
    "ordersB.head()"
   ]
  },
  {
   "cell_type": "markdown",
   "metadata": {},
   "source": [
    "<div class=\"alert alert-success\">\n",
    "<b>Chamdani's comment v.1</b> <a class=\"tocSkip\"></a>\n",
    "\n",
    "Hebat, Kerja bagus!\n",
    "\n",
    "</div>"
   ]
  },
  {
   "cell_type": "markdown",
   "metadata": {},
   "source": [
    "#### Anomali Jumlah Transaksi per Pengguna"
   ]
  },
  {
   "cell_type": "code",
   "execution_count": 55,
   "metadata": {},
   "outputs": [
    {
     "data": {
      "text/html": [
       "<div>\n",
       "<style scoped>\n",
       "    .dataframe tbody tr th:only-of-type {\n",
       "        vertical-align: middle;\n",
       "    }\n",
       "\n",
       "    .dataframe tbody tr th {\n",
       "        vertical-align: top;\n",
       "    }\n",
       "\n",
       "    .dataframe thead th {\n",
       "        text-align: right;\n",
       "    }\n",
       "</style>\n",
       "<table border=\"1\" class=\"dataframe\">\n",
       "  <thead>\n",
       "    <tr style=\"text-align: right;\">\n",
       "      <th></th>\n",
       "      <th>transaction_id</th>\n",
       "    </tr>\n",
       "    <tr>\n",
       "      <th>visitor_id</th>\n",
       "      <th></th>\n",
       "    </tr>\n",
       "  </thead>\n",
       "  <tbody>\n",
       "    <tr>\n",
       "      <th>5114589</th>\n",
       "      <td>1</td>\n",
       "    </tr>\n",
       "    <tr>\n",
       "      <th>6958315</th>\n",
       "      <td>1</td>\n",
       "    </tr>\n",
       "    <tr>\n",
       "      <th>8300375</th>\n",
       "      <td>2</td>\n",
       "    </tr>\n",
       "    <tr>\n",
       "      <th>39475350</th>\n",
       "      <td>1</td>\n",
       "    </tr>\n",
       "    <tr>\n",
       "      <th>47206413</th>\n",
       "      <td>1</td>\n",
       "    </tr>\n",
       "  </tbody>\n",
       "</table>\n",
       "</div>"
      ],
      "text/plain": [
       "            transaction_id\n",
       "visitor_id                \n",
       "5114589                  1\n",
       "6958315                  1\n",
       "8300375                  2\n",
       "39475350                 1\n",
       "47206413                 1"
      ]
     },
     "execution_count": 55,
     "metadata": {},
     "output_type": "execute_result"
    }
   ],
   "source": [
    "# Membuat tabel revenue per visitor (rpv) dari tabel ordersB\n",
    "transactions_per_visitorB = ordersB.groupby('visitor_id').agg({'transaction_id': 'nunique'})\n",
    "transactions_per_visitorB.head()"
   ]
  },
  {
   "cell_type": "code",
   "execution_count": 56,
   "metadata": {},
   "outputs": [
    {
     "data": {
      "text/html": [
       "<div>\n",
       "<style scoped>\n",
       "    .dataframe tbody tr th:only-of-type {\n",
       "        vertical-align: middle;\n",
       "    }\n",
       "\n",
       "    .dataframe tbody tr th {\n",
       "        vertical-align: top;\n",
       "    }\n",
       "\n",
       "    .dataframe thead th {\n",
       "        text-align: right;\n",
       "    }\n",
       "</style>\n",
       "<table border=\"1\" class=\"dataframe\">\n",
       "  <thead>\n",
       "    <tr style=\"text-align: right;\">\n",
       "      <th></th>\n",
       "      <th>transaction_id</th>\n",
       "    </tr>\n",
       "  </thead>\n",
       "  <tbody>\n",
       "    <tr>\n",
       "      <th>count</th>\n",
       "      <td>556.000000</td>\n",
       "    </tr>\n",
       "    <tr>\n",
       "      <th>mean</th>\n",
       "      <td>1.149281</td>\n",
       "    </tr>\n",
       "    <tr>\n",
       "      <th>std</th>\n",
       "      <td>0.663881</td>\n",
       "    </tr>\n",
       "    <tr>\n",
       "      <th>min</th>\n",
       "      <td>1.000000</td>\n",
       "    </tr>\n",
       "    <tr>\n",
       "      <th>25%</th>\n",
       "      <td>1.000000</td>\n",
       "    </tr>\n",
       "    <tr>\n",
       "      <th>50%</th>\n",
       "      <td>1.000000</td>\n",
       "    </tr>\n",
       "    <tr>\n",
       "      <th>75%</th>\n",
       "      <td>1.000000</td>\n",
       "    </tr>\n",
       "    <tr>\n",
       "      <th>max</th>\n",
       "      <td>9.000000</td>\n",
       "    </tr>\n",
       "  </tbody>\n",
       "</table>\n",
       "</div>"
      ],
      "text/plain": [
       "       transaction_id\n",
       "count      556.000000\n",
       "mean         1.149281\n",
       "std          0.663881\n",
       "min          1.000000\n",
       "25%          1.000000\n",
       "50%          1.000000\n",
       "75%          1.000000\n",
       "max          9.000000"
      ]
     },
     "execution_count": 56,
     "metadata": {},
     "output_type": "execute_result"
    }
   ],
   "source": [
    "# Gambaran umum distribusi data tabel transaksi per visitor\n",
    "transactions_per_visitorB.describe()"
   ]
  },
  {
   "cell_type": "code",
   "execution_count": 57,
   "metadata": {},
   "outputs": [
    {
     "data": {
      "image/png": "[encoded data removed]",
      "text/plain": [
       "<Figure size 720x432 with 1 Axes>"
      ]
     },
     "metadata": {
      "needs_background": "light"
     },
     "output_type": "display_data"
    }
   ],
   "source": [
    "# Visualisasi scatter chart untuk tabel transactions_per_visitorB\n",
    "\n",
    "plt.figure(figsize=(10, 6))\n",
    "plt.scatter(transactions_per_visitorB.index, transactions_per_visitorB['transaction_id'], alpha=0.5)\n",
    "plt.title('Transaksi per Pengguna')\n",
    "plt.xlabel('ID Pengguna')\n",
    "plt.ylabel('Jumlah Transaksi')\n",
    "plt.grid(True)\n",
    "plt.show()\n"
   ]
  },
  {
   "cell_type": "markdown",
   "metadata": {},
   "source": [
    "Deskripsi umum distribusi data dan diagram tebar di atas menunjukkan bahwa setidaknya hingga 75% pembeli hanya  melakukan satu kali transaksi. Sementara sebagian kecil lainnya melakukan transaksi sebanyak lebih dari satu kali. Nilai tertinggi adalah 9 (sembilan) transaksi. Walaupun nominalnya belum dapat diketahui, namun hal ini menjelaskan terjadinya lonjakan pendapatan. Idealnya, pelanggan dengan jumlah transaksi yang ekstrem tinggi dihilangkan dari data, karena tidak menggambarkan keadaan normal dan pada umumnya. Namun sebelum eliminasi dilakukan, perlu ditentukan terlebih dahulu **di angka berapa jumlah transaksi dinyatakan sebagai anomali**. \n",
    "\n",
    "Penentuan angka tersebut akan ditentukan setelah menelusuri **persentil ke-95 hingga 99**. "
   ]
  },
  {
   "cell_type": "markdown",
   "metadata": {},
   "source": [
    "<div class=\"alert alert-success\">\n",
    "<b>Chamdani's comment v.1</b> <a class=\"tocSkip\"></a>\n",
    "\n",
    "Hebat, Kerja bagus!\n",
    "\n",
    "</div>"
   ]
  },
  {
   "cell_type": "code",
   "execution_count": 58,
   "metadata": {},
   "outputs": [
    {
     "data": {
      "text/plain": [
       "array([2.  , 4.45])"
      ]
     },
     "execution_count": 58,
     "metadata": {},
     "output_type": "execute_result"
    }
   ],
   "source": [
    "# Menemukan persentil ke-95 dan 99\n",
    "np.percentile(transactions_per_visitorB['transaction_id'], [95,99])"
   ]
  },
  {
   "cell_type": "markdown",
   "metadata": {},
   "source": [
    "Persentil ke-95 adalah 2, sedangkan persentil ke-99 adalah 4.45. Artinya, jumlah pelanggan yang melakukan 2 transaksi tidak sampai 5% dari total pelanggan grup B. Jumlah pelanggan yang melakukan lebih dari 4 transaksi bahkan tidak mencapai 1% dari total pelanggan grup B. Dengan ini dapat diputuskan bahwa **2  adalah batas atas jumlah transaksi yang diterima** sebagai data normal. Semua pelanggan dengan jumlah transaksi di atas 2 dianggap anomali, dan akan dihilangkan dari dataset. Pemfilteran akan dilakukan sebelum dilakukannya **uji signifikansi perbedaan**.\n"
   ]
  },
  {
   "cell_type": "markdown",
   "metadata": {},
   "source": [
    "<div class=\"alert alert-success\">\n",
    "<b>Chamdani's comment v.1</b> <a class=\"tocSkip\"></a>\n",
    "\n",
    "Hebat, Kerja bagus!\n",
    "\n",
    "</div>"
   ]
  },
  {
   "cell_type": "markdown",
   "metadata": {},
   "source": [
    "#### Anomali Harga Pesanan"
   ]
  },
  {
   "cell_type": "code",
   "execution_count": 59,
   "metadata": {},
   "outputs": [
    {
     "data": {
      "text/html": [
       "<div>\n",
       "<style scoped>\n",
       "    .dataframe tbody tr th:only-of-type {\n",
       "        vertical-align: middle;\n",
       "    }\n",
       "\n",
       "    .dataframe tbody tr th {\n",
       "        vertical-align: top;\n",
       "    }\n",
       "\n",
       "    .dataframe thead th {\n",
       "        text-align: right;\n",
       "    }\n",
       "</style>\n",
       "<table border=\"1\" class=\"dataframe\">\n",
       "  <thead>\n",
       "    <tr style=\"text-align: right;\">\n",
       "      <th></th>\n",
       "      <th>transaction_id</th>\n",
       "      <th>visitor_id</th>\n",
       "      <th>date</th>\n",
       "      <th>revenue</th>\n",
       "      <th>group</th>\n",
       "    </tr>\n",
       "  </thead>\n",
       "  <tbody>\n",
       "    <tr>\n",
       "      <th>0</th>\n",
       "      <td>3667963787</td>\n",
       "      <td>3312258926</td>\n",
       "      <td>2019-08-15</td>\n",
       "      <td>30.4</td>\n",
       "      <td>B</td>\n",
       "    </tr>\n",
       "    <tr>\n",
       "      <th>1</th>\n",
       "      <td>2804400009</td>\n",
       "      <td>3642806036</td>\n",
       "      <td>2019-08-15</td>\n",
       "      <td>15.2</td>\n",
       "      <td>B</td>\n",
       "    </tr>\n",
       "    <tr>\n",
       "      <th>2</th>\n",
       "      <td>2961555356</td>\n",
       "      <td>4069496402</td>\n",
       "      <td>2019-08-15</td>\n",
       "      <td>10.2</td>\n",
       "      <td>B</td>\n",
       "    </tr>\n",
       "    <tr>\n",
       "      <th>3</th>\n",
       "      <td>3797467345</td>\n",
       "      <td>1196621759</td>\n",
       "      <td>2019-08-15</td>\n",
       "      <td>155.1</td>\n",
       "      <td>B</td>\n",
       "    </tr>\n",
       "    <tr>\n",
       "      <th>4</th>\n",
       "      <td>2282983706</td>\n",
       "      <td>2322279887</td>\n",
       "      <td>2019-08-15</td>\n",
       "      <td>40.5</td>\n",
       "      <td>B</td>\n",
       "    </tr>\n",
       "  </tbody>\n",
       "</table>\n",
       "</div>"
      ],
      "text/plain": [
       "   transaction_id  visitor_id       date  revenue group\n",
       "0      3667963787  3312258926 2019-08-15     30.4     B\n",
       "1      2804400009  3642806036 2019-08-15     15.2     B\n",
       "2      2961555356  4069496402 2019-08-15     10.2     B\n",
       "3      3797467345  1196621759 2019-08-15    155.1     B\n",
       "4      2282983706  2322279887 2019-08-15     40.5     B"
      ]
     },
     "execution_count": 59,
     "metadata": {},
     "output_type": "execute_result"
    }
   ],
   "source": [
    "# Menampilkan kembali tabel ordersB\n",
    "ordersB.head()"
   ]
  },
  {
   "cell_type": "markdown",
   "metadata": {},
   "source": [
    "Dalam tabel ordersB, terkandung informasi ID transaksi dan revenue yang dihasilkan. Tiap pengunjung dapat melakukan lebih dari satu kali transaksi. Namun tiap transaksi hanya dapat dilakukan oleh satu pengunjung, dan hanya dapat terjadi satu kali. \n",
    "\n",
    "Berikut ini adalah gambaran umum distribusi pendapatan per transaksi. "
   ]
  },
  {
   "cell_type": "code",
   "execution_count": 60,
   "metadata": {},
   "outputs": [
    {
     "data": {
      "text/plain": [
       "count      639.000000\n",
       "mean       139.692175\n",
       "std        805.963490\n",
       "min          5.100000\n",
       "25%         20.800000\n",
       "50%         45.900000\n",
       "75%        125.300000\n",
       "max      19920.400000\n",
       "Name: revenue, dtype: float64"
      ]
     },
     "execution_count": 60,
     "metadata": {},
     "output_type": "execute_result"
    }
   ],
   "source": [
    "ordersB['revenue'].describe()"
   ]
  },
  {
   "cell_type": "code",
   "execution_count": 61,
   "metadata": {},
   "outputs": [
    {
     "data": {
      "image/png": "[encoded data removed]",
      "text/plain": [
       "<Figure size 720x432 with 1 Axes>"
      ]
     },
     "metadata": {
      "needs_background": "light"
     },
     "output_type": "display_data"
    }
   ],
   "source": [
    "# Visualisasi scatter chart untuk tabel ordersB\n",
    "\n",
    "plt.figure(figsize=(10, 6))\n",
    "plt.scatter(ordersB['transaction_id'], ordersB['revenue'], alpha=0.5)\n",
    "plt.title('Revenue per Transaksi')\n",
    "plt.xlabel('Transaction ID')\n",
    "plt.ylabel('Revenue')\n",
    "plt.grid(True)\n",
    "plt.show()"
   ]
  },
  {
   "cell_type": "markdown",
   "metadata": {},
   "source": [
    "Tabel dan diagram sebar di atas menunjukkan bahwa rata-rata revenue yang dihasilkan **per transaksi** adalah **139.69**. Namun terdapat nilai maksimal yang ekstrem, yaitu **19,920.4**. Sama seperti penanganan untuk jumlah transaksi per pengguna, perlu ditentukan terlebih dahulu pada titik mana sebuah nilai merupakan anomali. Berikut ini adalah penghitungan persentil ke-95 dan 99. "
   ]
  },
  {
   "cell_type": "code",
   "execution_count": 62,
   "metadata": {},
   "outputs": [
    {
     "data": {
      "text/plain": [
       "array([426.86, 773.81])"
      ]
     },
     "execution_count": 62,
     "metadata": {},
     "output_type": "execute_result"
    }
   ],
   "source": [
    "# Menemukan persentil ke-95 dan 99\n",
    "np.percentile(ordersB['revenue'], [95,99])"
   ]
  },
  {
   "cell_type": "markdown",
   "metadata": {},
   "source": [
    "ersentil ke-95 adalah 426.86, sedangkan persentil ke-99 adalah 773.81. Artinya, jumlah transaksi dengan nominal 436.86 atau lebih hanya merupakan 5% dari keseluruhan transaksi yang terjadi pada grup B. Jumlah transaksi dengan nominal 773.81 atau lebih bahkan tidak mencapai 1%. Dengan ini dapat diputuskan bahwa **426.86 adalah batas nominal revenue yang diterima sebagai data normal**. Semua data dengan jumlah transaksi di atas 426.86 dianggap anomali, dan akan dihilangkan dari dataset. Pemfilteran akan dilakukan sebelum dilakukannya **uji signifikansi perbedaan**."
   ]
  },
  {
   "cell_type": "markdown",
   "metadata": {},
   "source": [
    "## Pengujian Hipotesis"
   ]
  },
  {
   "cell_type": "markdown",
   "metadata": {},
   "source": [
    "Bagian ini berfokus pada pengujian signifikansi perbedaan pada grup A dan grup B. Adapun aspek yang akan diuji perbedaannya adalah **tingkat konversi** dan **ukuran pesanan rata-rata**. Hasil uji akan dijadikan dasar pengambilan keputusan atas tiga pilihan sebagai berikut: \n",
    "\n",
    "1. Menghentikan pengujian, serta mempertimbangkan salah satu kelompok sebagai pemimpin.\n",
    "2. Menghentikan pengujian, serta menyimpulkan bahwa tidak ada perbedaan antara kedua kelompok. \n",
    "3. Melanjutkan pengujian. \n",
    "\n",
    "Pada bagian 4 laporan ini, hasil sementara adalah kelompok B memimpin dalam hal tingkat konversi maupun pendapatan kumulatif. Menjelang akhir waktu pengukuran, perbedaan antara keduanya relatif menipis. Masalah yang perlu dijawab dalam pengujian hipotesis adalah apakah perbedaan kedua grup signifikan. \n",
    "\n",
    "Terdapat dua subbagian dalam pengujian hipotesis ini. Subbagian pertama adalah pengujian signifikansi perbedaan tingkat konversi dan ukuran pesanan rata-rata antara dataset grup A dan grup B yang **belum difilter** (data mentah). Subbagian kedua adalah engujian signifikansi perbedaan tingkat konversi dan ukuran pesanan rata-rata antara dataset grup A dan grup B yang **sudah difilter**."
   ]
  },
  {
   "cell_type": "markdown",
   "metadata": {},
   "source": [
    "Berikut ini adalah dataframe grup A dan grup B yang akan diuji signifikansi perbedannya. "
   ]
  },
  {
   "cell_type": "code",
   "execution_count": 63,
   "metadata": {},
   "outputs": [
    {
     "data": {
      "text/html": [
       "<div>\n",
       "<style scoped>\n",
       "    .dataframe tbody tr th:only-of-type {\n",
       "        vertical-align: middle;\n",
       "    }\n",
       "\n",
       "    .dataframe tbody tr th {\n",
       "        vertical-align: top;\n",
       "    }\n",
       "\n",
       "    .dataframe thead th {\n",
       "        text-align: right;\n",
       "    }\n",
       "</style>\n",
       "<table border=\"1\" class=\"dataframe\">\n",
       "  <thead>\n",
       "    <tr style=\"text-align: right;\">\n",
       "      <th></th>\n",
       "      <th>date</th>\n",
       "      <th>n_buyers</th>\n",
       "      <th>n_transactions</th>\n",
       "      <th>revenue</th>\n",
       "      <th>group</th>\n",
       "      <th>visits</th>\n",
       "    </tr>\n",
       "  </thead>\n",
       "  <tbody>\n",
       "    <tr>\n",
       "      <th>0</th>\n",
       "      <td>2019-08-01</td>\n",
       "      <td>20</td>\n",
       "      <td>24</td>\n",
       "      <td>2356.8</td>\n",
       "      <td>A</td>\n",
       "      <td>719</td>\n",
       "    </tr>\n",
       "    <tr>\n",
       "      <th>1</th>\n",
       "      <td>2019-08-02</td>\n",
       "      <td>18</td>\n",
       "      <td>19</td>\n",
       "      <td>1468.3</td>\n",
       "      <td>A</td>\n",
       "      <td>619</td>\n",
       "    </tr>\n",
       "    <tr>\n",
       "      <th>2</th>\n",
       "      <td>2019-08-03</td>\n",
       "      <td>24</td>\n",
       "      <td>24</td>\n",
       "      <td>1815.2</td>\n",
       "      <td>A</td>\n",
       "      <td>507</td>\n",
       "    </tr>\n",
       "    <tr>\n",
       "      <th>3</th>\n",
       "      <td>2019-08-04</td>\n",
       "      <td>12</td>\n",
       "      <td>12</td>\n",
       "      <td>685.7</td>\n",
       "      <td>A</td>\n",
       "      <td>717</td>\n",
       "    </tr>\n",
       "    <tr>\n",
       "      <th>4</th>\n",
       "      <td>2019-08-05</td>\n",
       "      <td>24</td>\n",
       "      <td>24</td>\n",
       "      <td>1793.3</td>\n",
       "      <td>A</td>\n",
       "      <td>756</td>\n",
       "    </tr>\n",
       "  </tbody>\n",
       "</table>\n",
       "</div>"
      ],
      "text/plain": [
       "        date  n_buyers  n_transactions  revenue group  visits\n",
       "0 2019-08-01        20              24   2356.8     A     719\n",
       "1 2019-08-02        18              19   1468.3     A     619\n",
       "2 2019-08-03        24              24   1815.2     A     507\n",
       "3 2019-08-04        12              12    685.7     A     717\n",
       "4 2019-08-05        24              24   1793.3     A     756"
      ]
     },
     "execution_count": 63,
     "metadata": {},
     "output_type": "execute_result"
    }
   ],
   "source": [
    "# Menampilkan dataframe df_a\n",
    "df_a.head()"
   ]
  },
  {
   "cell_type": "code",
   "execution_count": 64,
   "metadata": {},
   "outputs": [
    {
     "data": {
      "text/html": [
       "<div>\n",
       "<style scoped>\n",
       "    .dataframe tbody tr th:only-of-type {\n",
       "        vertical-align: middle;\n",
       "    }\n",
       "\n",
       "    .dataframe tbody tr th {\n",
       "        vertical-align: top;\n",
       "    }\n",
       "\n",
       "    .dataframe thead th {\n",
       "        text-align: right;\n",
       "    }\n",
       "</style>\n",
       "<table border=\"1\" class=\"dataframe\">\n",
       "  <thead>\n",
       "    <tr style=\"text-align: right;\">\n",
       "      <th></th>\n",
       "      <th>date</th>\n",
       "      <th>n_buyers</th>\n",
       "      <th>n_transactions</th>\n",
       "      <th>revenue</th>\n",
       "      <th>group</th>\n",
       "      <th>visits</th>\n",
       "    </tr>\n",
       "  </thead>\n",
       "  <tbody>\n",
       "    <tr>\n",
       "      <th>0</th>\n",
       "      <td>2019-08-01</td>\n",
       "      <td>20</td>\n",
       "      <td>21</td>\n",
       "      <td>1620.0</td>\n",
       "      <td>B</td>\n",
       "      <td>713</td>\n",
       "    </tr>\n",
       "    <tr>\n",
       "      <th>1</th>\n",
       "      <td>2019-08-02</td>\n",
       "      <td>24</td>\n",
       "      <td>25</td>\n",
       "      <td>2659.0</td>\n",
       "      <td>B</td>\n",
       "      <td>581</td>\n",
       "    </tr>\n",
       "    <tr>\n",
       "      <th>2</th>\n",
       "      <td>2019-08-03</td>\n",
       "      <td>16</td>\n",
       "      <td>16</td>\n",
       "      <td>1806.8</td>\n",
       "      <td>B</td>\n",
       "      <td>509</td>\n",
       "    </tr>\n",
       "    <tr>\n",
       "      <th>3</th>\n",
       "      <td>2019-08-04</td>\n",
       "      <td>17</td>\n",
       "      <td>21</td>\n",
       "      <td>2178.2</td>\n",
       "      <td>B</td>\n",
       "      <td>770</td>\n",
       "    </tr>\n",
       "    <tr>\n",
       "      <th>4</th>\n",
       "      <td>2019-08-05</td>\n",
       "      <td>23</td>\n",
       "      <td>24</td>\n",
       "      <td>1689.8</td>\n",
       "      <td>B</td>\n",
       "      <td>707</td>\n",
       "    </tr>\n",
       "  </tbody>\n",
       "</table>\n",
       "</div>"
      ],
      "text/plain": [
       "        date  n_buyers  n_transactions  revenue group  visits\n",
       "0 2019-08-01        20              21   1620.0     B     713\n",
       "1 2019-08-02        24              25   2659.0     B     581\n",
       "2 2019-08-03        16              16   1806.8     B     509\n",
       "3 2019-08-04        17              21   2178.2     B     770\n",
       "4 2019-08-05        23              24   1689.8     B     707"
      ]
     },
     "execution_count": 64,
     "metadata": {},
     "output_type": "execute_result"
    }
   ],
   "source": [
    "# Menampilkan dataframe df_b\n",
    "df_b.head()"
   ]
  },
  {
   "cell_type": "code",
   "execution_count": 65,
   "metadata": {},
   "outputs": [
    {
     "data": {
      "text/html": [
       "<div>\n",
       "<style scoped>\n",
       "    .dataframe tbody tr th:only-of-type {\n",
       "        vertical-align: middle;\n",
       "    }\n",
       "\n",
       "    .dataframe tbody tr th {\n",
       "        vertical-align: top;\n",
       "    }\n",
       "\n",
       "    .dataframe thead th {\n",
       "        text-align: right;\n",
       "    }\n",
       "</style>\n",
       "<table border=\"1\" class=\"dataframe\">\n",
       "  <thead>\n",
       "    <tr style=\"text-align: right;\">\n",
       "      <th></th>\n",
       "      <th>date</th>\n",
       "      <th>n_buyers</th>\n",
       "      <th>n_transactions</th>\n",
       "      <th>revenue</th>\n",
       "      <th>group</th>\n",
       "      <th>visits</th>\n",
       "      <th>conversion</th>\n",
       "      <th>avg_revenue</th>\n",
       "    </tr>\n",
       "  </thead>\n",
       "  <tbody>\n",
       "    <tr>\n",
       "      <th>0</th>\n",
       "      <td>2019-08-01</td>\n",
       "      <td>20</td>\n",
       "      <td>24</td>\n",
       "      <td>2356.8</td>\n",
       "      <td>A</td>\n",
       "      <td>719</td>\n",
       "      <td>2.781641</td>\n",
       "      <td>117.840000</td>\n",
       "    </tr>\n",
       "    <tr>\n",
       "      <th>1</th>\n",
       "      <td>2019-08-02</td>\n",
       "      <td>18</td>\n",
       "      <td>19</td>\n",
       "      <td>1468.3</td>\n",
       "      <td>A</td>\n",
       "      <td>619</td>\n",
       "      <td>2.907916</td>\n",
       "      <td>81.572222</td>\n",
       "    </tr>\n",
       "    <tr>\n",
       "      <th>2</th>\n",
       "      <td>2019-08-03</td>\n",
       "      <td>24</td>\n",
       "      <td>24</td>\n",
       "      <td>1815.2</td>\n",
       "      <td>A</td>\n",
       "      <td>507</td>\n",
       "      <td>4.733728</td>\n",
       "      <td>75.633333</td>\n",
       "    </tr>\n",
       "    <tr>\n",
       "      <th>3</th>\n",
       "      <td>2019-08-04</td>\n",
       "      <td>12</td>\n",
       "      <td>12</td>\n",
       "      <td>685.7</td>\n",
       "      <td>A</td>\n",
       "      <td>717</td>\n",
       "      <td>1.673640</td>\n",
       "      <td>57.141667</td>\n",
       "    </tr>\n",
       "    <tr>\n",
       "      <th>4</th>\n",
       "      <td>2019-08-05</td>\n",
       "      <td>24</td>\n",
       "      <td>24</td>\n",
       "      <td>1793.3</td>\n",
       "      <td>A</td>\n",
       "      <td>756</td>\n",
       "      <td>3.174603</td>\n",
       "      <td>74.720833</td>\n",
       "    </tr>\n",
       "  </tbody>\n",
       "</table>\n",
       "</div>"
      ],
      "text/plain": [
       "        date  n_buyers  n_transactions  revenue group  visits  conversion  \\\n",
       "0 2019-08-01        20              24   2356.8     A     719    2.781641   \n",
       "1 2019-08-02        18              19   1468.3     A     619    2.907916   \n",
       "2 2019-08-03        24              24   1815.2     A     507    4.733728   \n",
       "3 2019-08-04        12              12    685.7     A     717    1.673640   \n",
       "4 2019-08-05        24              24   1793.3     A     756    3.174603   \n",
       "\n",
       "   avg_revenue  \n",
       "0   117.840000  \n",
       "1    81.572222  \n",
       "2    75.633333  \n",
       "3    57.141667  \n",
       "4    74.720833  "
      ]
     },
     "execution_count": 65,
     "metadata": {},
     "output_type": "execute_result"
    }
   ],
   "source": [
    "# Menambahkan kolom 'conversion' dan 'avg_revenue' ke dataframe df_a\n",
    "df_a['conversion'] = (df_a['n_buyers'] / df_a['visits']) * 100\n",
    "df_a['avg_revenue'] = df_a['revenue'] / df_a['n_buyers']\n",
    "df_a.head()"
   ]
  },
  {
   "cell_type": "code",
   "execution_count": 66,
   "metadata": {},
   "outputs": [
    {
     "data": {
      "text/html": [
       "<div>\n",
       "<style scoped>\n",
       "    .dataframe tbody tr th:only-of-type {\n",
       "        vertical-align: middle;\n",
       "    }\n",
       "\n",
       "    .dataframe tbody tr th {\n",
       "        vertical-align: top;\n",
       "    }\n",
       "\n",
       "    .dataframe thead th {\n",
       "        text-align: right;\n",
       "    }\n",
       "</style>\n",
       "<table border=\"1\" class=\"dataframe\">\n",
       "  <thead>\n",
       "    <tr style=\"text-align: right;\">\n",
       "      <th></th>\n",
       "      <th>date</th>\n",
       "      <th>n_buyers</th>\n",
       "      <th>n_transactions</th>\n",
       "      <th>revenue</th>\n",
       "      <th>group</th>\n",
       "      <th>visits</th>\n",
       "      <th>conversion</th>\n",
       "      <th>avg_revenue</th>\n",
       "    </tr>\n",
       "  </thead>\n",
       "  <tbody>\n",
       "    <tr>\n",
       "      <th>0</th>\n",
       "      <td>2019-08-01</td>\n",
       "      <td>20</td>\n",
       "      <td>21</td>\n",
       "      <td>1620.0</td>\n",
       "      <td>B</td>\n",
       "      <td>713</td>\n",
       "      <td>2.805049</td>\n",
       "      <td>81.000000</td>\n",
       "    </tr>\n",
       "    <tr>\n",
       "      <th>1</th>\n",
       "      <td>2019-08-02</td>\n",
       "      <td>24</td>\n",
       "      <td>25</td>\n",
       "      <td>2659.0</td>\n",
       "      <td>B</td>\n",
       "      <td>581</td>\n",
       "      <td>4.130809</td>\n",
       "      <td>110.791667</td>\n",
       "    </tr>\n",
       "    <tr>\n",
       "      <th>2</th>\n",
       "      <td>2019-08-03</td>\n",
       "      <td>16</td>\n",
       "      <td>16</td>\n",
       "      <td>1806.8</td>\n",
       "      <td>B</td>\n",
       "      <td>509</td>\n",
       "      <td>3.143418</td>\n",
       "      <td>112.925000</td>\n",
       "    </tr>\n",
       "    <tr>\n",
       "      <th>3</th>\n",
       "      <td>2019-08-04</td>\n",
       "      <td>17</td>\n",
       "      <td>21</td>\n",
       "      <td>2178.2</td>\n",
       "      <td>B</td>\n",
       "      <td>770</td>\n",
       "      <td>2.207792</td>\n",
       "      <td>128.129412</td>\n",
       "    </tr>\n",
       "    <tr>\n",
       "      <th>4</th>\n",
       "      <td>2019-08-05</td>\n",
       "      <td>23</td>\n",
       "      <td>24</td>\n",
       "      <td>1689.8</td>\n",
       "      <td>B</td>\n",
       "      <td>707</td>\n",
       "      <td>3.253182</td>\n",
       "      <td>73.469565</td>\n",
       "    </tr>\n",
       "  </tbody>\n",
       "</table>\n",
       "</div>"
      ],
      "text/plain": [
       "        date  n_buyers  n_transactions  revenue group  visits  conversion  \\\n",
       "0 2019-08-01        20              21   1620.0     B     713    2.805049   \n",
       "1 2019-08-02        24              25   2659.0     B     581    4.130809   \n",
       "2 2019-08-03        16              16   1806.8     B     509    3.143418   \n",
       "3 2019-08-04        17              21   2178.2     B     770    2.207792   \n",
       "4 2019-08-05        23              24   1689.8     B     707    3.253182   \n",
       "\n",
       "   avg_revenue  \n",
       "0    81.000000  \n",
       "1   110.791667  \n",
       "2   112.925000  \n",
       "3   128.129412  \n",
       "4    73.469565  "
      ]
     },
     "execution_count": 66,
     "metadata": {},
     "output_type": "execute_result"
    }
   ],
   "source": [
    "# Menambahkan kolom 'conversion' dan 'avg_revenue' ke dataframe df_b\n",
    "df_b['conversion'] = (df_b['n_buyers'] / df_b['visits']) * 100\n",
    "df_b['avg_revenue'] = df_b['revenue'] / df_b['n_buyers']\n",
    "df_b.head()"
   ]
  },
  {
   "cell_type": "markdown",
   "metadata": {},
   "source": [
    "### Uji Perbedaan pada Data Mentah"
   ]
  },
  {
   "cell_type": "markdown",
   "metadata": {},
   "source": [
    "#### Perbedaan Konversi"
   ]
  },
  {
   "cell_type": "code",
   "execution_count": 67,
   "metadata": {},
   "outputs": [],
   "source": [
    "# Fungsi untuk uji normalitas\n",
    "def normality_test(series):\n",
    "    p_value_shapiro = shapiro(series).pvalue\n",
    "    print(f'P-Value: {p_value_shapiro}')\n",
    "    print(f'Alpha  : {alpha}')\n",
    "    if p_value_shapiro >= alpha:\n",
    "        print('H0 Diterima: Distribusi data tersebut adalah normal')\n",
    "    else:\n",
    "        print('H1 Diterima: Distribusi data tersebut adalah tidak normal')"
   ]
  },
  {
   "cell_type": "code",
   "execution_count": 68,
   "metadata": {},
   "outputs": [
    {
     "name": "stdout",
     "output_type": "stream",
     "text": [
      "P-Value: 0.11107084900140762\n",
      "Alpha  : 0.05\n",
      "H0 Diterima: Distribusi data tersebut adalah normal\n"
     ]
    }
   ],
   "source": [
    "# Memanggil fungsi untuk uji normalitas konversi pada grup A\n",
    "alpha = 0.05\n",
    "normality_test(df_a['conversion'])"
   ]
  },
  {
   "cell_type": "code",
   "execution_count": 69,
   "metadata": {},
   "outputs": [
    {
     "name": "stdout",
     "output_type": "stream",
     "text": [
      "P-Value: 0.25413429737091064\n",
      "Alpha  : 0.05\n",
      "H0 Diterima: Distribusi data tersebut adalah normal\n"
     ]
    }
   ],
   "source": [
    "# Memanggil fungsi untuk uji normalitas konversi pada grup B\n",
    "alpha = 0.05\n",
    "normality_test(df_b['conversion'])"
   ]
  },
  {
   "cell_type": "code",
   "execution_count": 70,
   "metadata": {},
   "outputs": [
    {
     "name": "stdout",
     "output_type": "stream",
     "text": [
      "Konversi Grup A:\n",
      "Standar Deviasinya 1.1\n",
      "Varians nya 1.1\n",
      "\n",
      "Konversi Grup B:\n",
      "Standar Deviasinya 1.1\n",
      "Varians nya 1.2\n"
     ]
    }
   ],
   "source": [
    "# Uji homogenitas varians\n",
    "# Konversi Grup A\n",
    "conversionA_std = round(df_a['conversion'].std(), 1)\n",
    "conversionA_var = round(df_a['conversion'].var(), 1)\n",
    "print('Konversi Grup A:')\n",
    "print(f'Standar Deviasinya {conversionA_std}')\n",
    "print(f'Varians nya {conversionA_var}')\n",
    "print()\n",
    "\n",
    "# Konversi Grup  B\n",
    "conversionB_std = round(df_b['conversion'].std(), 1)\n",
    "conversionB_var = round(df_b['conversion'].var(), 1)\n",
    "print('Konversi Grup B:')\n",
    "print(f'Standar Deviasinya {conversionB_std}')\n",
    "print(f'Varians nya {conversionB_var}')"
   ]
  },
  {
   "cell_type": "markdown",
   "metadata": {},
   "source": [
    "Data tingkat konversi pada kedua grup memiliki **bentuk distribusi normal**. Perbedaan varians kedua grup juga sangat kecil, yang artinya kedua sampel ini memenuhi syarat homogenitas varians. Maka pengujian signifikansi perbedaan akan menggunakan **t-test independent sample**. "
   ]
  },
  {
   "cell_type": "code",
   "execution_count": 71,
   "metadata": {},
   "outputs": [
    {
     "name": "stdout",
     "output_type": "stream",
     "text": [
      "T-Statistic: -1.8396439533874627\n",
      "P-Value: 0.07076899117998772\n",
      "H0 ditolak: TERDAPAT PERBEDAAN SIGNIFIKAN antara konversi pada grup A dan konversi pada grup B yang belum difilter.\n"
     ]
    }
   ],
   "source": [
    "# Uji signifikansi perbedaan dengan independent t-test\n",
    "t_statistic, p_value = st.ttest_ind(df_a['conversion'], df_b['conversion'], equal_var=True)\n",
    "alpha = 0.05\n",
    "\n",
    "# Print the results\n",
    "print(f\"T-Statistic: {t_statistic}\")\n",
    "print(f\"P-Value: {p_value}\")\n",
    "\n",
    "# Check for significance\n",
    "if p_value < alpha:\n",
    "    print('H0 gagal ditolak: TIDAK TERDAPAT PERBEDAAN SIGNIFIKAN antara konversi pada grup A dan konversi pada grup B yang belum difilter.')\n",
    "else:\n",
    "    print('H0 ditolak: TERDAPAT PERBEDAAN SIGNIFIKAN antara konversi pada grup A dan konversi pada grup B yang belum difilter.')"
   ]
  },
  {
   "cell_type": "markdown",
   "metadata": {},
   "source": [
    "Uji hipotesis t-test independent sample dengan alpha 0.05 menunjukkan bahwa hipotesis null ditolak. **Terdapat perbedaan signifikan antara tingkat konversi pada grup A dengan tingkat konversi pada grup B yang belum difilter.**"
   ]
  },
  {
   "cell_type": "markdown",
   "metadata": {},
   "source": [
    "#### Perbedaan Ukuran Pesanan Rata-rata"
   ]
  },
  {
   "cell_type": "code",
   "execution_count": 72,
   "metadata": {},
   "outputs": [
    {
     "name": "stdout",
     "output_type": "stream",
     "text": [
      "P-Value: 0.00023164812591858208\n",
      "Alpha  : 0.05\n",
      "H1 Diterima: Distribusi data tersebut adalah tidak normal\n"
     ]
    }
   ],
   "source": [
    "# Memanggil fungsi untuk uji normalitas pesanan rata-rata pada grup A\n",
    "alpha = 0.05\n",
    "normality_test(df_a['avg_revenue'])"
   ]
  },
  {
   "cell_type": "code",
   "execution_count": 73,
   "metadata": {},
   "outputs": [
    {
     "name": "stdout",
     "output_type": "stream",
     "text": [
      "P-Value: 5.241568637459615e-11\n",
      "Alpha  : 0.05\n",
      "H1 Diterima: Distribusi data tersebut adalah tidak normal\n"
     ]
    }
   ],
   "source": [
    "# Memanggil fungsi untuk uji normalitas pesanan rata-rata pada grup B\n",
    "alpha = 0.05\n",
    "normality_test(df_b['avg_revenue'])"
   ]
  },
  {
   "cell_type": "code",
   "execution_count": 74,
   "metadata": {},
   "outputs": [
    {
     "name": "stdout",
     "output_type": "stream",
     "text": [
      "Pendapatan rata-rata Grup A:\n",
      "Standar Deviasinya 57.5\n",
      "Varians nya 3307.7\n",
      "\n",
      "Pendapatan rata-rata Grup B:\n",
      "Standar Deviasinya 173.8\n",
      "Varians nya 30218.9\n"
     ]
    }
   ],
   "source": [
    "# Uji homogenitas varians\n",
    "# Pendapatan Rata-rata Grup A\n",
    "avg_revenueA_std = round(df_a['avg_revenue'].std(), 1)\n",
    "avg_revenueA_var = round(df_a['avg_revenue'].var(), 1)\n",
    "print('Pendapatan rata-rata Grup A:')\n",
    "print(f'Standar Deviasinya {avg_revenueA_std}')\n",
    "print(f'Varians nya {avg_revenueA_var}')\n",
    "print()\n",
    "\n",
    "# Pendapatan rata-rata Grup  B\n",
    "avg_revenueB_std = round(df_b['avg_revenue'].std(), 1)\n",
    "avg_revenueB_var = round(df_b['avg_revenue'].var(), 1)\n",
    "print('Pendapatan rata-rata Grup B:')\n",
    "print(f'Standar Deviasinya {avg_revenueB_std}')\n",
    "print(f'Varians nya {avg_revenueB_var}')"
   ]
  },
  {
   "cell_type": "markdown",
   "metadata": {},
   "source": [
    "Data ukuran pesanan rata-rata pada kedua grup memiliki **bentuk distribusi tidak normal**. Perbedaan varians kedua grup juga sangat besar, yang artinya kedua sampel ini **tidak memenuhi syarat homogenitas varians**. Maka pengujian signifikansi perbedaan akan menggunakan **Mann-Whitney U-test.**"
   ]
  },
  {
   "cell_type": "code",
   "execution_count": 75,
   "metadata": {},
   "outputs": [
    {
     "name": "stdout",
     "output_type": "stream",
     "text": [
      "Alpha  : 0.05\n",
      "P-Value: 0.4222761086468382\n",
      "H0 gagal ditolak: TIDAK TERDAPAT PERBEDAAN SIGNIFIKAN antara pendapatan rata-rata grup A dan grup B yang belum difilter\n"
     ]
    }
   ],
   "source": [
    "# Uji signifikansi perbedaan dengan Mann-Whitney U test\n",
    "alpha = 0.05\n",
    "p_value = mannwhitneyu(df_a['avg_revenue'], df_b['avg_revenue'], nan_policy='omit').pvalue\n",
    "print(f'Alpha  : {alpha}')\n",
    "print(f'P-Value: {p_value}')\n",
    "if p_value >= alpha:\n",
    "    print('H0 gagal ditolak: TIDAK TERDAPAT PERBEDAAN SIGNIFIKAN antara pendapatan rata-rata grup A dan grup B yang belum difilter')\n",
    "else:\n",
    "    print('H0 ditolak: TERDAPAT PERBEDAAN SIGNIFIKAN antara pendapatan rata-rata grup A dan grup B yang belum difilterr')"
   ]
  },
  {
   "cell_type": "markdown",
   "metadata": {},
   "source": [
    "Uji hipotesis Mann-Whitney U-test dengan alpha 0.05 menunjukkan bahwa hipotesis null gagal ditolak. **Tidak terdapat perbedaan signifikan antara pendapatan rata-rata grup A dan grup B yang belum difilter.**"
   ]
  },
  {
   "cell_type": "markdown",
   "metadata": {},
   "source": [
    "### Uji Perbedaan pada Data Filter"
   ]
  },
  {
   "cell_type": "markdown",
   "metadata": {},
   "source": [
    "#### Persiapan Filter Dataset Kelompok B"
   ]
  },
  {
   "cell_type": "markdown",
   "metadata": {},
   "source": [
    "Pemeriksaan anomali data penjualan menunjukkan bahwa terdapat oultier terkait jumlah transaksi per pengunjung dan jumlah pendapatan per pengunjung. Telah ditentukan batas atas data normal baik untuk jumlah transaksi, maupun nominal revenue per pengunjung. \n",
    "\n",
    "Oleh karena itu akan dipersipkan sebuah dataframe grup B yang telah difilter berdasarkan:\n",
    "- batas atas jumlah transaksi\n",
    "- batas atas nominal pendapatan (revenue)]"
   ]
  },
  {
   "cell_type": "code",
   "execution_count": 76,
   "metadata": {},
   "outputs": [
    {
     "data": {
      "text/html": [
       "<div>\n",
       "<style scoped>\n",
       "    .dataframe tbody tr th:only-of-type {\n",
       "        vertical-align: middle;\n",
       "    }\n",
       "\n",
       "    .dataframe tbody tr th {\n",
       "        vertical-align: top;\n",
       "    }\n",
       "\n",
       "    .dataframe thead th {\n",
       "        text-align: right;\n",
       "    }\n",
       "</style>\n",
       "<table border=\"1\" class=\"dataframe\">\n",
       "  <thead>\n",
       "    <tr style=\"text-align: right;\">\n",
       "      <th></th>\n",
       "      <th>transaction_id</th>\n",
       "    </tr>\n",
       "    <tr>\n",
       "      <th>visitor_id</th>\n",
       "      <th></th>\n",
       "    </tr>\n",
       "  </thead>\n",
       "  <tbody>\n",
       "    <tr>\n",
       "      <th>5114589</th>\n",
       "      <td>1</td>\n",
       "    </tr>\n",
       "    <tr>\n",
       "      <th>6958315</th>\n",
       "      <td>1</td>\n",
       "    </tr>\n",
       "    <tr>\n",
       "      <th>8300375</th>\n",
       "      <td>2</td>\n",
       "    </tr>\n",
       "    <tr>\n",
       "      <th>39475350</th>\n",
       "      <td>1</td>\n",
       "    </tr>\n",
       "    <tr>\n",
       "      <th>47206413</th>\n",
       "      <td>1</td>\n",
       "    </tr>\n",
       "  </tbody>\n",
       "</table>\n",
       "</div>"
      ],
      "text/plain": [
       "            transaction_id\n",
       "visitor_id                \n",
       "5114589                  1\n",
       "6958315                  1\n",
       "8300375                  2\n",
       "39475350                 1\n",
       "47206413                 1"
      ]
     },
     "execution_count": 76,
     "metadata": {},
     "output_type": "execute_result"
    }
   ],
   "source": [
    "# Menampilkan kembali dataset transaksi per pengunjung\n",
    "transactions_per_visitorB.head()"
   ]
  },
  {
   "cell_type": "code",
   "execution_count": 77,
   "metadata": {},
   "outputs": [
    {
     "name": "stdout",
     "output_type": "stream",
     "text": [
      "Batas atas jumlah transaksi: 2.0\n"
     ]
    }
   ],
   "source": [
    "# Menentukan batas atas jumlah transaksi normal berdasarkan persentil ke 95\n",
    "transaction_limit = np.percentile(transactions_per_visitorB['transaction_id'], 95)\n",
    "print(\"Batas atas jumlah transaksi:\", transaction_limit)"
   ]
  },
  {
   "cell_type": "code",
   "execution_count": 78,
   "metadata": {},
   "outputs": [
    {
     "name": "stdout",
     "output_type": "stream",
     "text": [
      "Jumlah pengunjung dengan jumlah transaksi di atas batas normal:  16\n"
     ]
    }
   ],
   "source": [
    "# Memfilter ID pengguna yang memiliki transaksi melebihi batas atas\n",
    "anomaly_transactionsB = transactions_per_visitorB[transactions_per_visitorB['transaction_id'] > transaction_limit]\n",
    "anomaly_transactions_list = anomaly_transactionsB.index.tolist()\n",
    "len(anomaly_transactions_list)\n",
    "print('Jumlah pengunjung dengan jumlah transaksi di atas batas normal: ', len(anomaly_transactions_list))"
   ]
  },
  {
   "cell_type": "code",
   "execution_count": 79,
   "metadata": {},
   "outputs": [
    {
     "data": {
      "image/png": "[encoded data removed]",
      "text/plain": [
       "<Figure size 720x432 with 1 Axes>"
      ]
     },
     "metadata": {
      "needs_background": "light"
     },
     "output_type": "display_data"
    }
   ],
   "source": [
    "# Menghapus baris-baris dengan visitor_id yang tercatat dalam 'anomaly_transactions_list'\n",
    "filtered_transactions_per_visitorB = transactions_per_visitorB[~transactions_per_visitorB.index.isin(anomaly_transactions_list)]\n",
    "\n",
    "# Visualisasi dataframe yang telah difilter\n",
    "plt.figure(figsize=(10, 6))\n",
    "plt.scatter(filtered_transactions_per_visitorB.index, filtered_transactions_per_visitorB['transaction_id'], alpha=0.5)\n",
    "plt.title('Transaksi per Pengguna')\n",
    "plt.xlabel('ID Pengguna')\n",
    "plt.ylabel('Jumlah Transaksi')\n",
    "plt.grid(True)\n",
    "plt.show()"
   ]
  },
  {
   "cell_type": "markdown",
   "metadata": {},
   "source": [
    "Setelah difilter, kini grup B berisi hanya pengguna (visitor_id) yang melakukan transaksi 1 hingga 2 kali. Pengguna yang bertransaksi lebih dari 2 kali sudah dihapus dari dataset grup B.\n",
    "\n",
    "Selanjutnya adalah menghapus data pengunjung dengan nilai revenue melampaui batas atas:"
   ]
  },
  {
   "cell_type": "code",
   "execution_count": 80,
   "metadata": {},
   "outputs": [
    {
     "name": "stdout",
     "output_type": "stream",
     "text": [
      "Batas atas revenue normal: $ 426.8600000000002\n"
     ]
    }
   ],
   "source": [
    "# Menentukan batas atas revenue normal berdasarkan persentil ke 95\n",
    "revenue_limit = np.percentile(ordersB['revenue'], 95)\n",
    "print(\"Batas atas revenue normal: $\", revenue_limit)"
   ]
  },
  {
   "cell_type": "code",
   "execution_count": 81,
   "metadata": {},
   "outputs": [
    {
     "name": "stdout",
     "output_type": "stream",
     "text": [
      "Jumlah pengunjung dengan nominal revenue di atas batas normal:  32\n"
     ]
    }
   ],
   "source": [
    "# Memfilter ID pengguna yang mendatangkan revenue melebihi batas atas\n",
    "anomaly_revenueB = ordersB[ordersB['revenue'] > revenue_limit]\n",
    "anomaly_revenue_list = anomaly_revenueB['visitor_id'].tolist()\n",
    "print('Jumlah pengunjung dengan nominal revenue di atas batas normal: ', len(anomaly_revenue_list))"
   ]
  },
  {
   "cell_type": "code",
   "execution_count": 82,
   "metadata": {},
   "outputs": [
    {
     "data": {
      "text/plain": [
       "556"
      ]
     },
     "execution_count": 82,
     "metadata": {},
     "output_type": "execute_result"
    }
   ],
   "source": [
    "# Memeriksa jumlah ID pengguna grup B yang belum difilter\n",
    "ordersB['visitor_id'].nunique()"
   ]
  },
  {
   "cell_type": "code",
   "execution_count": 83,
   "metadata": {},
   "outputs": [
    {
     "data": {
      "text/plain": [
       "540"
      ]
     },
     "execution_count": 83,
     "metadata": {},
     "output_type": "execute_result"
    }
   ],
   "source": [
    "# Membuat dataframe baru berisi data ordersB yang telah difilter dari ID pengguna anomali transaksi\n",
    "ordersB_filtered = ordersB[~ordersB['visitor_id'].isin(anomaly_transactions_list)]\n",
    "ordersB_filtered['visitor_id'].nunique()"
   ]
  },
  {
   "cell_type": "code",
   "execution_count": 84,
   "metadata": {},
   "outputs": [
    {
     "data": {
      "text/plain": [
       "512"
      ]
     },
     "execution_count": 84,
     "metadata": {},
     "output_type": "execute_result"
    }
   ],
   "source": [
    "# Memfilter ordersB yang dari ID pengguna dengan anomali revenue\n",
    "ordersB_filtered = ordersB_filtered[~ordersB_filtered['visitor_id'].isin(anomaly_revenue_list)]\n",
    "ordersB_filtered['visitor_id'].nunique()"
   ]
  },
  {
   "cell_type": "code",
   "execution_count": 85,
   "metadata": {},
   "outputs": [
    {
     "data": {
      "text/plain": [
       "count    541.000000\n",
       "mean      77.961738\n",
       "std       86.093790\n",
       "min        5.100000\n",
       "25%       20.700000\n",
       "50%       45.100000\n",
       "75%      100.200000\n",
       "max      425.900000\n",
       "Name: revenue, dtype: float64"
      ]
     },
     "execution_count": 85,
     "metadata": {},
     "output_type": "execute_result"
    }
   ],
   "source": [
    "ordersB_filtered['revenue'].describe()"
   ]
  },
  {
   "cell_type": "code",
   "execution_count": 86,
   "metadata": {},
   "outputs": [
    {
     "data": {
      "image/png": "[encoded data removed]",
      "text/plain": [
       "<Figure size 720x432 with 1 Axes>"
      ]
     },
     "metadata": {
      "needs_background": "light"
     },
     "output_type": "display_data"
    }
   ],
   "source": [
    "plt.figure(figsize=(10, 6))\n",
    "plt.scatter(ordersB_filtered['visitor_id'], ordersB_filtered['revenue'], alpha=0.5)\n",
    "plt.title('Revenue per Pengguna')\n",
    "plt.xlabel('ID Pengguna')\n",
    "plt.ylabel('Nominal Revenue')\n",
    "plt.grid(True)\n",
    "plt.show()"
   ]
  },
  {
   "cell_type": "markdown",
   "metadata": {},
   "source": [
    "ID pengunjung unik pada grup B awalnya berjumlah 556 orang. Setelah dilakukan pemfilteran terhadap outlier jumlah transaksi dan revenue, jumlahnya berkurang menjadi **512 orang**. Pemfilteran ini mengubah bentuk distribusi data jumlah transaksi, dan juga nominal revenue. Diagram sebar di atas menunjukkan sudah tidak ada lagi data pengunjung dengan nominal pesanan di atas $ 426. Berdasarkan kepadatan sebarannya, distribusi revenue per pengunjung masih belum berbentuk normal. Namun kondisi tersebut dapat diatasi dengan menggunakan jenis tes yang sesuai."
   ]
  },
  {
   "cell_type": "markdown",
   "metadata": {},
   "source": [
    "Langkah terakhir sebelum pengujian signifikansi perbedaan adalah mempersiapkan dataframe grup B yang telah dikelompokkan berdasarkan hasil per hari, agar bentuknya sama dengan dataframe grup A. "
   ]
  },
  {
   "cell_type": "code",
   "execution_count": 87,
   "metadata": {},
   "outputs": [
    {
     "data": {
      "text/html": [
       "<div>\n",
       "<style scoped>\n",
       "    .dataframe tbody tr th:only-of-type {\n",
       "        vertical-align: middle;\n",
       "    }\n",
       "\n",
       "    .dataframe tbody tr th {\n",
       "        vertical-align: top;\n",
       "    }\n",
       "\n",
       "    .dataframe thead th {\n",
       "        text-align: right;\n",
       "    }\n",
       "</style>\n",
       "<table border=\"1\" class=\"dataframe\">\n",
       "  <thead>\n",
       "    <tr style=\"text-align: right;\">\n",
       "      <th></th>\n",
       "      <th>n_buyers</th>\n",
       "      <th>n_transactions</th>\n",
       "      <th>revenue</th>\n",
       "    </tr>\n",
       "    <tr>\n",
       "      <th>date</th>\n",
       "      <th></th>\n",
       "      <th></th>\n",
       "      <th></th>\n",
       "    </tr>\n",
       "  </thead>\n",
       "  <tbody>\n",
       "    <tr>\n",
       "      <th>2019-08-01</th>\n",
       "      <td>19</td>\n",
       "      <td>19</td>\n",
       "      <td>1258.8</td>\n",
       "    </tr>\n",
       "    <tr>\n",
       "      <th>2019-08-02</th>\n",
       "      <td>21</td>\n",
       "      <td>22</td>\n",
       "      <td>1537.7</td>\n",
       "    </tr>\n",
       "    <tr>\n",
       "      <th>2019-08-03</th>\n",
       "      <td>14</td>\n",
       "      <td>14</td>\n",
       "      <td>1071.6</td>\n",
       "    </tr>\n",
       "    <tr>\n",
       "      <th>2019-08-04</th>\n",
       "      <td>13</td>\n",
       "      <td>14</td>\n",
       "      <td>1176.5</td>\n",
       "    </tr>\n",
       "    <tr>\n",
       "      <th>2019-08-05</th>\n",
       "      <td>21</td>\n",
       "      <td>22</td>\n",
       "      <td>1024.6</td>\n",
       "    </tr>\n",
       "  </tbody>\n",
       "</table>\n",
       "</div>"
      ],
      "text/plain": [
       "            n_buyers  n_transactions  revenue\n",
       "date                                         \n",
       "2019-08-01        19              19   1258.8\n",
       "2019-08-02        21              22   1537.7\n",
       "2019-08-03        14              14   1071.6\n",
       "2019-08-04        13              14   1176.5\n",
       "2019-08-05        21              22   1024.6"
      ]
     },
     "execution_count": 87,
     "metadata": {},
     "output_type": "execute_result"
    }
   ],
   "source": [
    "ordersB_agg_filtered = ordersB_filtered.groupby('date').agg({'visitor_id': 'nunique', 'transaction_id': 'nunique', 'revenue': 'sum'})\n",
    "ordersB_agg_filtered = ordersB_agg_filtered.rename(columns={'transaction_id': 'n_transactions', 'visitor_id': 'n_buyers'})\n",
    "ordersB_agg_filtered.head()"
   ]
  },
  {
   "cell_type": "code",
   "execution_count": 88,
   "metadata": {},
   "outputs": [
    {
     "data": {
      "text/html": [
       "<div>\n",
       "<style scoped>\n",
       "    .dataframe tbody tr th:only-of-type {\n",
       "        vertical-align: middle;\n",
       "    }\n",
       "\n",
       "    .dataframe tbody tr th {\n",
       "        vertical-align: top;\n",
       "    }\n",
       "\n",
       "    .dataframe thead th {\n",
       "        text-align: right;\n",
       "    }\n",
       "</style>\n",
       "<table border=\"1\" class=\"dataframe\">\n",
       "  <thead>\n",
       "    <tr style=\"text-align: right;\">\n",
       "      <th></th>\n",
       "      <th>date</th>\n",
       "      <th>n_buyers</th>\n",
       "      <th>n_transactions</th>\n",
       "      <th>revenue</th>\n",
       "      <th>group</th>\n",
       "      <th>visits</th>\n",
       "    </tr>\n",
       "  </thead>\n",
       "  <tbody>\n",
       "    <tr>\n",
       "      <th>0</th>\n",
       "      <td>2019-08-01</td>\n",
       "      <td>19</td>\n",
       "      <td>19</td>\n",
       "      <td>1258.8</td>\n",
       "      <td>B</td>\n",
       "      <td>713</td>\n",
       "    </tr>\n",
       "    <tr>\n",
       "      <th>1</th>\n",
       "      <td>2019-08-02</td>\n",
       "      <td>21</td>\n",
       "      <td>22</td>\n",
       "      <td>1537.7</td>\n",
       "      <td>B</td>\n",
       "      <td>581</td>\n",
       "    </tr>\n",
       "    <tr>\n",
       "      <th>2</th>\n",
       "      <td>2019-08-03</td>\n",
       "      <td>14</td>\n",
       "      <td>14</td>\n",
       "      <td>1071.6</td>\n",
       "      <td>B</td>\n",
       "      <td>509</td>\n",
       "    </tr>\n",
       "    <tr>\n",
       "      <th>3</th>\n",
       "      <td>2019-08-04</td>\n",
       "      <td>13</td>\n",
       "      <td>14</td>\n",
       "      <td>1176.5</td>\n",
       "      <td>B</td>\n",
       "      <td>770</td>\n",
       "    </tr>\n",
       "    <tr>\n",
       "      <th>4</th>\n",
       "      <td>2019-08-05</td>\n",
       "      <td>21</td>\n",
       "      <td>22</td>\n",
       "      <td>1024.6</td>\n",
       "      <td>B</td>\n",
       "      <td>707</td>\n",
       "    </tr>\n",
       "  </tbody>\n",
       "</table>\n",
       "</div>"
      ],
      "text/plain": [
       "        date  n_buyers  n_transactions  revenue group  visits\n",
       "0 2019-08-01        19              19   1258.8     B     713\n",
       "1 2019-08-02        21              22   1537.7     B     581\n",
       "2 2019-08-03        14              14   1071.6     B     509\n",
       "3 2019-08-04        13              14   1176.5     B     770\n",
       "4 2019-08-05        21              22   1024.6     B     707"
      ]
     },
     "execution_count": 88,
     "metadata": {},
     "output_type": "execute_result"
    }
   ],
   "source": [
    "# Membuat dataframe df_b_filtered\n",
    "df_b_filtered = pd.merge(ordersB_agg_filtered, visitsB, on = 'date')\n",
    "df_b_filtered.head()"
   ]
  },
  {
   "cell_type": "code",
   "execution_count": 89,
   "metadata": {},
   "outputs": [
    {
     "data": {
      "text/html": [
       "<div>\n",
       "<style scoped>\n",
       "    .dataframe tbody tr th:only-of-type {\n",
       "        vertical-align: middle;\n",
       "    }\n",
       "\n",
       "    .dataframe tbody tr th {\n",
       "        vertical-align: top;\n",
       "    }\n",
       "\n",
       "    .dataframe thead th {\n",
       "        text-align: right;\n",
       "    }\n",
       "</style>\n",
       "<table border=\"1\" class=\"dataframe\">\n",
       "  <thead>\n",
       "    <tr style=\"text-align: right;\">\n",
       "      <th></th>\n",
       "      <th>date</th>\n",
       "      <th>n_buyers</th>\n",
       "      <th>n_transactions</th>\n",
       "      <th>revenue</th>\n",
       "      <th>group</th>\n",
       "      <th>visits</th>\n",
       "      <th>conversion</th>\n",
       "      <th>avg_revenue</th>\n",
       "    </tr>\n",
       "  </thead>\n",
       "  <tbody>\n",
       "    <tr>\n",
       "      <th>0</th>\n",
       "      <td>2019-08-01</td>\n",
       "      <td>19</td>\n",
       "      <td>19</td>\n",
       "      <td>1258.8</td>\n",
       "      <td>B</td>\n",
       "      <td>713</td>\n",
       "      <td>2.664797</td>\n",
       "      <td>66.252632</td>\n",
       "    </tr>\n",
       "    <tr>\n",
       "      <th>1</th>\n",
       "      <td>2019-08-02</td>\n",
       "      <td>21</td>\n",
       "      <td>22</td>\n",
       "      <td>1537.7</td>\n",
       "      <td>B</td>\n",
       "      <td>581</td>\n",
       "      <td>3.614458</td>\n",
       "      <td>73.223810</td>\n",
       "    </tr>\n",
       "    <tr>\n",
       "      <th>2</th>\n",
       "      <td>2019-08-03</td>\n",
       "      <td>14</td>\n",
       "      <td>14</td>\n",
       "      <td>1071.6</td>\n",
       "      <td>B</td>\n",
       "      <td>509</td>\n",
       "      <td>2.750491</td>\n",
       "      <td>76.542857</td>\n",
       "    </tr>\n",
       "    <tr>\n",
       "      <th>3</th>\n",
       "      <td>2019-08-04</td>\n",
       "      <td>13</td>\n",
       "      <td>14</td>\n",
       "      <td>1176.5</td>\n",
       "      <td>B</td>\n",
       "      <td>770</td>\n",
       "      <td>1.688312</td>\n",
       "      <td>90.500000</td>\n",
       "    </tr>\n",
       "    <tr>\n",
       "      <th>4</th>\n",
       "      <td>2019-08-05</td>\n",
       "      <td>21</td>\n",
       "      <td>22</td>\n",
       "      <td>1024.6</td>\n",
       "      <td>B</td>\n",
       "      <td>707</td>\n",
       "      <td>2.970297</td>\n",
       "      <td>48.790476</td>\n",
       "    </tr>\n",
       "  </tbody>\n",
       "</table>\n",
       "</div>"
      ],
      "text/plain": [
       "        date  n_buyers  n_transactions  revenue group  visits  conversion  \\\n",
       "0 2019-08-01        19              19   1258.8     B     713    2.664797   \n",
       "1 2019-08-02        21              22   1537.7     B     581    3.614458   \n",
       "2 2019-08-03        14              14   1071.6     B     509    2.750491   \n",
       "3 2019-08-04        13              14   1176.5     B     770    1.688312   \n",
       "4 2019-08-05        21              22   1024.6     B     707    2.970297   \n",
       "\n",
       "   avg_revenue  \n",
       "0    66.252632  \n",
       "1    73.223810  \n",
       "2    76.542857  \n",
       "3    90.500000  \n",
       "4    48.790476  "
      ]
     },
     "execution_count": 89,
     "metadata": {},
     "output_type": "execute_result"
    }
   ],
   "source": [
    "# Menambahkan kolom 'conversion'\n",
    "df_b_filtered['conversion'] = (df_b_filtered['n_buyers'] / df_b_filtered['visits']) * 100\n",
    "\n",
    "# Menambahkan kolom 'avg_revenue'\n",
    "df_b_filtered['avg_revenue'] = df_b_filtered['revenue'] / df_b_filtered['n_buyers']\n",
    "\n",
    "df_b_filtered.head()"
   ]
  },
  {
   "cell_type": "markdown",
   "metadata": {},
   "source": [
    "Kini dataframe df_b_filtered telah memiliki data konversi dan ukuran pesanan rata-rata, dan siap untuk diuji signifikansi perbedannya dengan dataframe df_a. "
   ]
  },
  {
   "cell_type": "markdown",
   "metadata": {},
   "source": [
    "#### Perbedaan Konversi"
   ]
  },
  {
   "cell_type": "code",
   "execution_count": 90,
   "metadata": {},
   "outputs": [
    {
     "name": "stdout",
     "output_type": "stream",
     "text": [
      "P-Value: 0.15545982122421265\n",
      "Alpha  : 0.05\n",
      "H0 Diterima: Distribusi data tersebut adalah normal\n"
     ]
    }
   ],
   "source": [
    "# Memanggil fungsi untuk uji normalitas konversi pada grup B yang telah difilter\n",
    "alpha = 0.05\n",
    "normality_test(df_b_filtered['conversion'])"
   ]
  },
  {
   "cell_type": "code",
   "execution_count": 91,
   "metadata": {},
   "outputs": [
    {
     "name": "stdout",
     "output_type": "stream",
     "text": [
      "Konversi Grup A:\n",
      "Standar Deviasinya 1.1\n",
      "Varians nya 1.1\n",
      "\n",
      "Konversi Grup B yang telah difilter:\n",
      "Standar Deviasinya 1.0\n",
      "Varians nya 1.0\n"
     ]
    }
   ],
   "source": [
    "# Uji homogenitas varians Grup B yang telah difilter dan Grup A\n",
    "# Konversi Grup A\n",
    "conversionA_std = round(df_a['conversion'].std(), 1)\n",
    "conversionA_var = round(df_a['conversion'].var(), 1)\n",
    "print('Konversi Grup A:')\n",
    "print(f'Standar Deviasinya {conversionA_std}')\n",
    "print(f'Varians nya {conversionA_var}')\n",
    "print()\n",
    "\n",
    "# Konversi Grup  B\n",
    "conversionB_filtered_std = round(df_b_filtered['conversion'].std(), 1)\n",
    "conversionB_filtered_var = round(df_b_filtered['conversion'].var(), 1)\n",
    "print('Konversi Grup B yang telah difilter:')\n",
    "print(f'Standar Deviasinya {conversionB_filtered_std}')\n",
    "print(f'Varians nya {conversionB_filtered_var}')"
   ]
  },
  {
   "cell_type": "markdown",
   "metadata": {},
   "source": [
    "Data tingkat konversi pada kedua grup memiliki **bentuk distribusi normal**. Perbedaan varians kedua grup juga sangat kecil, yang artinya kedua sampel ini memenuhi syarat homogenitas varians. Maka pengujian signifikansi perbedaan akan menggunakan **t-test independent sample**. "
   ]
  },
  {
   "cell_type": "code",
   "execution_count": 92,
   "metadata": {},
   "outputs": [
    {
     "name": "stdout",
     "output_type": "stream",
     "text": [
      "T-Statistic: -0.16716668239229476\n",
      "P-Value: 0.8678010307659806\n",
      "H0 ditolak: TERDAPAT PERBEDAAN SIGNIFIKAN antara konversi pada grup A dan konversi pada grup B yang telah difilter\n"
     ]
    }
   ],
   "source": [
    "# Uji signifikansi dengan independent t-test\n",
    "t_statistic, p_value = st.ttest_ind(df_a['conversion'], df_b_filtered['conversion'], equal_var=True)\n",
    "alpha = 0.05\n",
    "\n",
    "# Print the results\n",
    "print(f\"T-Statistic: {t_statistic}\")\n",
    "print(f\"P-Value: {p_value}\")\n",
    "\n",
    "# Check for significance\n",
    "if p_value < alpha:\n",
    "    print('H0 gagal ditolak: TIDAK TERDAPAT PERBEDAAN SIGNIFIKAN antara konversi pada grup A dan konversi pada grup B yang telah difilter')\n",
    "else:\n",
    "    print('H0 ditolak: TERDAPAT PERBEDAAN SIGNIFIKAN antara konversi pada grup A dan konversi pada grup B yang telah difilter')"
   ]
  },
  {
   "cell_type": "markdown",
   "metadata": {},
   "source": [
    "Uji hipotesis t-test independent sample dengan alpha 0.05 menunjukkan bahwa hipotesis null ditolak. **Terdapat perbedaan signifikan antara tingkat konversi pada grup A dengan tingkat konversi pada grup B yang telah difilter.**\n",
    "\n",
    "Baik dengan ataupun tanpa pemfilteran, tingkat konversi grup B signifikan berbeda dari grup A. "
   ]
  },
  {
   "cell_type": "markdown",
   "metadata": {},
   "source": [
    "#### Perbedaan Ukuran Pesanan Rata-rata"
   ]
  },
  {
   "cell_type": "code",
   "execution_count": 93,
   "metadata": {},
   "outputs": [
    {
     "name": "stdout",
     "output_type": "stream",
     "text": [
      "P-Value: 0.03751276433467865\n",
      "Alpha  : 0.05\n",
      "H1 Diterima: Distribusi data tersebut adalah tidak normal\n"
     ]
    }
   ],
   "source": [
    "# Memanggil fungsi untuk uji normalitas pesanan rata-rata pada grup B yang telah difilter\n",
    "alpha = 0.05\n",
    "normality_test(df_b_filtered['avg_revenue'])"
   ]
  },
  {
   "cell_type": "code",
   "execution_count": 94,
   "metadata": {},
   "outputs": [
    {
     "name": "stdout",
     "output_type": "stream",
     "text": [
      "Pesanan rata-rata Grup A:\n",
      "Standar Deviasinya 57.5\n",
      "Varians nya 3307.7\n",
      "\n",
      "Pesanan rata-rata Grup B yang telah difilter:\n",
      "Standar Deviasinya 25.5\n",
      "Varians nya 652.4\n"
     ]
    }
   ],
   "source": [
    "# Uji homogenitas varians pesanan rata-rata Grup B yang telah difilter dan Grup A\n",
    "# Ukuran pesanan rata-rata Grup A\n",
    "avg_revenueA_std = round(df_a['avg_revenue'].std(), 1)\n",
    "avg_revenueA_var = round(df_a['avg_revenue'].var(), 1)\n",
    "print('Pesanan rata-rata Grup A:')\n",
    "print(f'Standar Deviasinya {avg_revenueA_std}')\n",
    "print(f'Varians nya {avg_revenueA_var}')\n",
    "print()\n",
    "\n",
    "# Ukuran pesanan rata-rata Grup B yang telah difilter\n",
    "avg_revenueB_filtered_std = round(df_b_filtered['avg_revenue'].std(), 1)\n",
    "avg_revenueB_filtered_var = round(df_b_filtered['avg_revenue'].var(), 1)\n",
    "print('Pesanan rata-rata Grup B yang telah difilter:')\n",
    "print(f'Standar Deviasinya {avg_revenueB_filtered_std}')\n",
    "print(f'Varians nya {avg_revenueB_filtered_var}')"
   ]
  },
  {
   "cell_type": "markdown",
   "metadata": {},
   "source": [
    "Data ukuran pesanan rata-rata pada kedua grup memiliki **bentuk distribusi tidak normal**. Perbedaan varians kedua grup juga sangat besar, yang artinya kedua sampel ini **tidak memenuhi syarat homogenitas varians**. Maka pengujian signifikansi perbedaan akan menggunakan **Mann-Whitney U-test.**"
   ]
  },
  {
   "cell_type": "code",
   "execution_count": 95,
   "metadata": {},
   "outputs": [
    {
     "name": "stdout",
     "output_type": "stream",
     "text": [
      "Alpha  : 0.05\n",
      "P-Value: 2.2587086639771772e-05\n",
      "H0 ditolak: TERDAPAT PERBEDAAN SIGNIFIKAN antara pendapatan rata-rata grup A dan grup B yang telah difilter\n"
     ]
    }
   ],
   "source": [
    "# Uji signifikansi perbedaan dengan Mann-Whitney U test\n",
    "alpha = 0.05\n",
    "p_value = mannwhitneyu(df_a['avg_revenue'], df_b_filtered['avg_revenue'], nan_policy='omit').pvalue\n",
    "print(f'Alpha  : {alpha}')\n",
    "print(f'P-Value: {p_value}')\n",
    "if p_value >= alpha:\n",
    "    print('H0 gagal ditolak: TIDAK TERDAPAT PERBEDAAN SIGNIFIKAN antara pendapatan rata-rata grup A dan grup B yang telah difilter')\n",
    "else:\n",
    "    print('H0 ditolak: TERDAPAT PERBEDAAN SIGNIFIKAN antara pendapatan rata-rata grup A dan grup B yang telah difilter')"
   ]
  },
  {
   "cell_type": "markdown",
   "metadata": {},
   "source": [
    "Uji hipotesis Mann-Whitney U-test dengan alpha 0.05 menunjukkan bahwa hipotesis null ditolak. **Terdapat perbedaan signifikan** antara pendapatan rata-rata grup A dan grup B yang telah difilter.\n",
    "\n",
    "Hal ini **berkebalikan dengan keadaan grup B sebelum difilter**, di mana hasil pengujian menunjukkan bahhwa perbedaannya dengan grup A tidak signifikan. Karena tujuan penghapusan outlier adalah untuk mendapatkan kualitas sampel yang lebih mendekati populasi, maka hasil uji signifikansi yang akan digunakan untuk pengambilan keputusan adalah **hasil uji dengan data grup B yang telah difilter**."
   ]
  },
  {
   "cell_type": "markdown",
   "metadata": {},
   "source": [
    "### Kesimpulan Hasil Uji Hipotesis"
   ]
  },
  {
   "cell_type": "markdown",
   "metadata": {},
   "source": [
    "Terdapat empat temuan pengujian yang akan dijadikan dasar dari pengambilan keputusan. \n",
    "\n",
    "Temuan pertama adalah grafik perbedaan pendapatan kumulatif di mana **grup B relatif memimpin**. \n",
    "\n",
    "Temuan kedua adalah grafik perebedaan konversi kumulatif di mana **grup B juga relatif memimpin**. \n",
    "\n",
    "Temuan ketiga adalah hasil uji signifikansi independent sample t-test, yaitu **perbedaan tingkat konversi yang signifikan** antara grup A dengan grup B yang telah difilter. \n",
    "\n",
    "Temuan keempat adalah **perbedaan ukuran pesanan rata-rata** antara grup A dengan grup B yang telah difilter. \n",
    "\n",
    "Berdasarkan keempat temuan tersebut maka rekomendasi dari analisis ini adalah **opsi pertama**, yaitu **menghentikan pengujian, serta mempertimbangkan kelompok B sebagai pemimpin.**"
   ]
  },
  {
   "cell_type": "markdown",
   "metadata": {},
   "source": [
    "## Kesimpulan Umum"
   ]
  },
  {
   "cell_type": "markdown",
   "metadata": {},
   "source": [
    "Sebuah rangkaian analisis dilakukan untuk menjadi dasar pengambilan keputusan dalam upaya perusahaan meningkatkan pendapatan. Analisis dilakukan berdasarkan data aktivitas pelanggan pada toko online dari tanggal 1-31 Agustus 2019. Analisis diawali dengan tiga dataframe yang meliputi: Dataframe hipotesis, dataframe penjualan, dan dataframe kunjungan. \n",
    "\n",
    "Pada tahap **persiapan data**, dilakukan beberapa perbaikan pada ketiga dataframe terkait penulisan nama kolom, dan perubahan tipe data. Telah dilakukan pemisahan penulisan nama kolom pada dataframe hypotheses. Dataframe penjualan awalnya memiliki beberapa pelanggan yang tercatat secara ganda (sebagai kelompok A dan juga kelompok B). Telah dilakukan koreksi nama kelompok berdasarkan nama kelompok yang tercatat saat pelanggan melakukan pembelian pertama kali. \n",
    "\n",
    "**Analisis prioritas hipotesis** dilakukan menggunakan dua kerangka kerja: ICE dan RICE. Kedua kerangka kerja menghasilkan peringkat yang berbeda. Hipotesis yang menjadi prioritas berdasarkan kerangka kerja ICE adalah **meluncurkan promosi yang memberikan diskon kepada pengguna pada hari ulang tahun mereka**. Sedangkan prioritas berdasarkan kerangka kerja RICE adalah **menambahkan formulir berlangganan pada seluruh laman utama untuk tersusunnya milis**. \n",
    "\n",
    "Bila bagi perusahaan **jangkauan audiens dalam jumlah luas adalah sesuatu yang krusial**, maka disarankan  untuk mengimplementasikan hasil dari kerangka kerja **RICE**. Namun bila secara model bisnis **diperlukan efisiensi waktu dan sumber daya** terkait usaha, maka perusahaan disarankan mengimplementasikan hasil kerangka kerja **ICE**.\n",
    "\n",
    "**Analisis A/B Testing** diawali dengan pengujian kesetaraan proporsi. Proporsi pembeli dan total pengunjung pada kedua grup dinyatakan tidak setara. Hasil tersebut menunjukkan bahwa kemungkinan terdapat anomali pada salah satu dataset. \n",
    "\n",
    "Analisis dilanjutkan dengan mempelajari **pendapatan kumulatif tiap kelompok**, dan ukuran pesanan rata-rata kumulatif. Kemudian didapatkan gambaran perbedaan relatif antara kedua kelompok. Hasil analisis ini adalah **grup B cenderung memimpin**. Terdapat perbedaan relatif yang meningkat di minggu awal pengambilan data. Namun perbedaan tersebut kian menipis menjelang akhir penelitian. Perhatian khusus tertuju pada grup B, di mana terdapat lonjakan pendapatan yang hanya terjadi pada satu hari. Kemungkinan anomali yang menyebabkan ketidaksetaraan proporsi berada di grup B. \n",
    "\n",
    "Dilakukan juga analisis **konversi kumulatif** kedua kelompok, di mana konversi didapatkan dari perbandingan jumlah pembeli terhadap total pengunjung. Perbedaan relatif antara kedua grup menunjukkan bahwa grup B relatif memimpin. Selisih kedua grup relatif membesar di paruh awal penelitian, namun menipis menjelang akhir bulan. Perhatian khusus kembali tertuju pada grup B, di mana terdapat lonjakan jumlah transaksi yang hanya terjadi satu kali namun dalam nilai besar. \n",
    "\n",
    "Adanya lonjakan dalam grafik pendapatan dan konversi kumulatif grup B membawa pada pemeriksaan **anomali dalam data penjualan grup B**. Ditemukan nilai revenue eksrem tinggi, juga jumlah transaksi ekstrem tinggi. Oleh karena itu, dilakukan pemfilteran data transaksi dan data revenue dengan menggunakan **persentil ke-95** sebagai acuan batas atas nilai normal. \n",
    "\n",
    "**Pengujian hipotesis** dilakukan untuk mempelajari signifikansi perbedaan konversi dan ukuran pesanan rata-rata pada kedua grup. Dilakukan dua putaran pengujian: antara data grup A dan data mentah grup B (yang masih mengandung outliers), serta antara data grup A dan data grup B yang telah difilter. \n",
    "\n",
    "Terdapat perbedaan konversi yang signifikan antara data A dengan data mentah B. **Terdapat perbedaan konversi yang signifikan pula antara data A dengan data B yang telah di-filter**. Hasil yang berbeda didapatkan saat pengujian hipotesis ukuran pendapatan rata-rata. **Data A tidak berbeda secara signifikan dengan data mentah B, namun berbeda secara signifikan dengan data B yang telah di-filter.** Karena data yang telah bersih (di-filter) dari outlier lebih layak untuk menggambarkan populasi, maka hasil pengujian hipotesis yang dijadikan acuan adalah hasil uji signifikansi perbedaan data A dengan data B yang telah di-filter. \n",
    "\n",
    "Dalam hal tingkat konversi, grup B lebih unggul dari grup A, dengan perbedaan yang signifikan. Dalam hal pendapatan rata-rata, grup B juga lebih unggul dari grup A, dengan perbedaan yang signifikan. Berdasarkan temuan tersebut, perusahaan direkomendasikan untuk **menghentikan pengujian, serta mempertimbangkan kelompok B sebagai pemimpin.** "
   ]
  }
 ],
 "metadata": {
  "kernelspec": {
   "display_name": "Python 3 (ipykernel)",
   "language": "python",
   "name": "python3"
  },
  "language_info": {
   "codemirror_mode": {
    "name": "ipython",
    "version": 3
   },
   "file_extension": ".py",
   "mimetype": "text/x-python",
   "name": "python",
   "nbconvert_exporter": "python",
   "pygments_lexer": "ipython3",
   "version": "3.9.19"
  },
  "toc": {
   "base_numbering": 1,
   "nav_menu": {},
   "number_sections": true,
   "sideBar": true,
   "skip_h1_title": true,
   "title_cell": "Table of Contents",
   "title_sidebar": "Contents",
   "toc_cell": false,
   "toc_position": {},
   "toc_section_display": true,
   "toc_window_display": false
  }
 },
 "nbformat": 4,
 "nbformat_minor": 2
}
